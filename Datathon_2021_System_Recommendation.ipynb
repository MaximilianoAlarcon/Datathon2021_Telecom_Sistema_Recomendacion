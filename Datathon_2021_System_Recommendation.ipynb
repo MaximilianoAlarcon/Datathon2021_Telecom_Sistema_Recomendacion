{
  "nbformat": 4,
  "nbformat_minor": 0,
  "metadata": {
    "colab": {
      "name": "Datathon 2021 System Recommendation 3.ipynb",
      "provenance": [],
      "collapsed_sections": []
    },
    "kernelspec": {
      "name": "python3",
      "display_name": "Python 3"
    },
    "language_info": {
      "name": "python"
    }
  },
  "cells": [
    {
      "cell_type": "markdown",
      "metadata": {
        "id": "c_pdAUbyEqlu"
      },
      "source": [
        "# **Abstract**"
      ]
    },
    {
      "cell_type": "markdown",
      "metadata": {
        "id": "8on_bitgEwpm"
      },
      "source": [
        "Un **sistema de recomendación** es una herramienta que establece un conjunto de criterios y valoraciones sobre los datos de los usuarios para realizar predicciones sobre recomendaciones de elementos que puedan ser de utilidad o valor para el usuario. Estos sistemas seleccionan datos proporcionados por el usuario de forma directa o indirecta, y procede a analizar y procesar información del historial del usuario para transformar estos datos en conocimiento de recomendación.\n",
        "\n",
        "Los sistemas de recomendación en la actualidad tienen un nivel de eficiencia alto ya que pueden asociar elementos de nuestros perfiles de consumo como el historial de compras, selección de contenidos e inclusive nuestras horas de actividad, para realizar las recomendaciones.\n",
        "\n",
        "Esto permite que descubramos elementos nuevos con mayor porcentaje de cercanía a nuestros gustos, preferencias, necesidades.\n",
        "\n",
        "El funcionamiento de los sistemas de recomendación ha evolucionado gracias al Machine Learning. Anteriormente los motores de búsqueda, plataformas de contenido y ventas de producto funcionaban con rankings o listas de popularidad. Estos sistemas eran funcionales hasta cierto punto, pero no podían personalizar la experiencia del usuario y mostraban elementos que no se correspondían a nuestros intereses.\n",
        "\n",
        "**Tipos de sistemas de recomendación:**\n",
        "\n",
        "Existen varios tipos de sistemas de recomendación. Estos dependen de variables principales que son las que condicionan su funcionamiento. A continuación descubriremos los principales sistemas implementados y algunas de sus características.\n",
        "\n",
        "**Sistemas de popularidad**\n",
        "\n",
        "Los sistemas basados en la popularidad son implementados principalmente en las ventas de productos o sugerencias concretas. Estos toman como referencia la popularidad del objeto de estudio por una variable principal que puede ser el número de ventas, una característica especial o inclusive una oferta y se muestra de forma general a todos los usuarios que investiguen el área a la que pertenece el objeto. Estos sistemas suelen ser fáciles de implementar y gozan de cierto nivel de efectividad. Su desventaja principal es la imposibilidad de personalizar los criterios de sugerencia para el usuario.\n",
        "\n",
        "**Sistemas de contenido**\n",
        "\n",
        "Los sistemas de recomendación basados en contenido son aquellos que tomando en cuenta algunos datos del historial del usuario intenta predecir que busca el usuario y que sugerencias similares puede mostrar. Este tipo de sistemas es uno de los que tiene mayor presencia en la actualidad. Con ellos podemos descubrir opciones que se ajusten a las características de los productos o contenidos que hemos disfrutado con anterioridad y elegir elementos similares nuevos.\n",
        "\n",
        "**Sistemas colaborativos**\n",
        "\n",
        "Este tipo de sistema es muy novedoso ya que genera recomendaciones analizando datos, identificando perfiles y haciendo contraste entre la información del perfil del usuario y la de un colectivo de usuarios. Esto permite al modelo aprender a agrupar perfiles similares y aprender de los datos que recibe de forma general, para desarrollar recomendaciones individuales.\n",
        "\n",
        "**Filtrado colaborativo**\n",
        "\n",
        "Uno de los elementos más innovadores y que ayuda a optimizar los procesos de recomendación es el filtrado colaborativo. Esto es una técnica que permite solventar los problemas de sobre información que pueden sufrir los usuarios de plataformas tecnológicas. La interacción de los usuarios y los datos que son generados por ellos ayudan a crear una especie de inteligencia colectiva que ayuda a incrementar la calidad de las recomendaciones, dejando de lado elementos irrelevantes dentro de los conjuntos de datos.\n",
        "\n",
        "Para concluir, amazon posee la informacion necesaria para crear un sistema de recomendacion y al tener tanto impacto en los negocios digitales de la actualidad, tengo como objetivo crear un prototipo para evaluar su integracion con el negocio. Ademas, no se pierde nada desarrollandolo"
      ]
    },
    {
      "cell_type": "markdown",
      "metadata": {
        "id": "MuZpA3MjE2jT"
      },
      "source": [
        "**¿Que tipo de sistema se va a implementar?**\n",
        "\n",
        "Los tipos de sistemas parecen ser similares entre si, pero, necesito conocer las posibles soluciones que se adaptan con la informacion disponible.\n",
        "\n",
        "**Sistemas de popularidad:**\n",
        "Se podria implementar pero tiene una desventaja, no es capaz de predecir recomendaciones para la minoria que no les gusta las tendencias\n",
        "\n",
        "**Sistemas de contenido:**\n",
        "Necesito los atributos de items, los cuales tengo a disposicion y tambien la relacion de usuarios - items con su respectivo \"rating\". Por lo tanto es viable y voy a experimentar con este tipo\n",
        "\n",
        "**Sistemas colaborativos:**\n",
        "No se puede implementar porque necesito informacion de los usuarios y los productos\n",
        "\n",
        "**Filtrado colaborativo:**\n",
        "Es posible de implementar porque no hace falta demasiada informacion, solamente el id item, id usuario y el rating. Tambien tiene ventajas que cumplen con el objetivo:\n",
        "\n",
        "1) Puede ayudar a los usuarios a descubrir nuevos intereses. De forma aislada, es posible que el sistema no sepa que el usuario está interesado en un elemento determinado, pero el modelo aún puede recomendarlo.\n",
        "\n",
        "2) Hasta cierto punto, el sistema solo necesita la matriz de retroalimentación para entrenar un modelo de factorización matricial. En particular, el sistema no necesita funciones contextuales.\n",
        "\n",
        "En resumen, el sistema tendra 2 prototipos (Sistemas de contenido y Filtrado colaborativo), al final decidire cual es mas conveniente de utilizar."
      ]
    },
    {
      "cell_type": "markdown",
      "metadata": {
        "id": "ycoB5umsEoma"
      },
      "source": [
        "# **Exploratory data analysis (EDA)**"
      ]
    },
    {
      "cell_type": "code",
      "metadata": {
        "id": "2iOFi45zGVXM"
      },
      "source": [
        "import pandas as pd\n",
        "import numpy as np\n",
        "import matplotlib.pyplot as plt\n",
        "import seaborn as sns"
      ],
      "execution_count": null,
      "outputs": []
    },
    {
      "cell_type": "code",
      "metadata": {
        "colab": {
          "base_uri": "https://localhost:8080/"
        },
        "id": "AnM_amaFGYTE",
        "outputId": "53764fd9-e49f-4a93-c714-8cac9fc4e121"
      },
      "source": [
        "from google.colab import drive\n",
        "drive.mount('/content/drive')"
      ],
      "execution_count": null,
      "outputs": [
        {
          "output_type": "stream",
          "text": [
            "Mounted at /content/drive\n"
          ],
          "name": "stdout"
        }
      ]
    },
    {
      "cell_type": "code",
      "metadata": {
        "id": "gu5QIpnmGhqt"
      },
      "source": [
        "ruta_train = \"/content/drive/MyDrive/datathon_2021_sr/train.csv\"\n",
        "ruta_metadata = \"/content/drive/MyDrive/datathon_2021_sr/metadata.csv\""
      ],
      "execution_count": null,
      "outputs": []
    },
    {
      "cell_type": "markdown",
      "metadata": {
        "id": "AFZAha3F-_SI"
      },
      "source": [
        "Cargo el dataset de entrenamiento"
      ]
    },
    {
      "cell_type": "code",
      "metadata": {
        "colab": {
          "base_uri": "https://localhost:8080/",
          "height": 204
        },
        "id": "lhoAH_SEGkMu",
        "outputId": "78290024-4ebf-4efb-c6ca-7d276bffef47"
      },
      "source": [
        "df_train = pd.read_csv(ruta_train)\n",
        "columnas_necesarias = [\"account_id\",\"asset_id\",\"tunein\",\"tuneout\"]\n",
        "#df_train = df_train[columnas_necesarias]\n",
        "df_train.head()"
      ],
      "execution_count": null,
      "outputs": [
        {
          "output_type": "execute_result",
          "data": {
            "text/html": [
              "<div>\n",
              "<style scoped>\n",
              "    .dataframe tbody tr th:only-of-type {\n",
              "        vertical-align: middle;\n",
              "    }\n",
              "\n",
              "    .dataframe tbody tr th {\n",
              "        vertical-align: top;\n",
              "    }\n",
              "\n",
              "    .dataframe thead th {\n",
              "        text-align: right;\n",
              "    }\n",
              "</style>\n",
              "<table border=\"1\" class=\"dataframe\">\n",
              "  <thead>\n",
              "    <tr style=\"text-align: right;\">\n",
              "      <th></th>\n",
              "      <th>customer_id</th>\n",
              "      <th>account_id</th>\n",
              "      <th>device_type</th>\n",
              "      <th>asset_id</th>\n",
              "      <th>tunein</th>\n",
              "      <th>tuneout</th>\n",
              "      <th>resume</th>\n",
              "    </tr>\n",
              "  </thead>\n",
              "  <tbody>\n",
              "    <tr>\n",
              "      <th>0</th>\n",
              "      <td>0</td>\n",
              "      <td>90627</td>\n",
              "      <td>STATIONARY</td>\n",
              "      <td>18332.0</td>\n",
              "      <td>2021-02-18 22:52:00.0</td>\n",
              "      <td>2021-02-18 23:35:00.0</td>\n",
              "      <td>0</td>\n",
              "    </tr>\n",
              "    <tr>\n",
              "      <th>1</th>\n",
              "      <td>0</td>\n",
              "      <td>90627</td>\n",
              "      <td>STATIONARY</td>\n",
              "      <td>24727.0</td>\n",
              "      <td>2021-03-24 23:17:00.0</td>\n",
              "      <td>2021-03-25 00:01:00.0</td>\n",
              "      <td>0</td>\n",
              "    </tr>\n",
              "    <tr>\n",
              "      <th>2</th>\n",
              "      <td>1</td>\n",
              "      <td>3387</td>\n",
              "      <td>STB</td>\n",
              "      <td>895.0</td>\n",
              "      <td>2021-03-15 10:05:00.0</td>\n",
              "      <td>2021-03-15 10:23:00.0</td>\n",
              "      <td>0</td>\n",
              "    </tr>\n",
              "    <tr>\n",
              "      <th>3</th>\n",
              "      <td>1</td>\n",
              "      <td>3387</td>\n",
              "      <td>STB</td>\n",
              "      <td>895.0</td>\n",
              "      <td>2021-03-15 10:23:00.0</td>\n",
              "      <td>2021-03-15 11:18:00.0</td>\n",
              "      <td>1</td>\n",
              "    </tr>\n",
              "    <tr>\n",
              "      <th>4</th>\n",
              "      <td>1</td>\n",
              "      <td>3387</td>\n",
              "      <td>STB</td>\n",
              "      <td>26062.0</td>\n",
              "      <td>2021-03-16 09:24:00.0</td>\n",
              "      <td>2021-03-16 09:44:00.0</td>\n",
              "      <td>0</td>\n",
              "    </tr>\n",
              "  </tbody>\n",
              "</table>\n",
              "</div>"
            ],
            "text/plain": [
              "   customer_id  account_id  ...                tuneout  resume\n",
              "0            0       90627  ...  2021-02-18 23:35:00.0       0\n",
              "1            0       90627  ...  2021-03-25 00:01:00.0       0\n",
              "2            1        3387  ...  2021-03-15 10:23:00.0       0\n",
              "3            1        3387  ...  2021-03-15 11:18:00.0       1\n",
              "4            1        3387  ...  2021-03-16 09:44:00.0       0\n",
              "\n",
              "[5 rows x 7 columns]"
            ]
          },
          "metadata": {
            "tags": []
          },
          "execution_count": 64
        }
      ]
    },
    {
      "cell_type": "markdown",
      "metadata": {
        "id": "Jqc0zIeA_DYu"
      },
      "source": [
        "Hay 113881 cuentas de usuarios"
      ]
    },
    {
      "cell_type": "code",
      "metadata": {
        "colab": {
          "base_uri": "https://localhost:8080/"
        },
        "id": "uvgTYcsoum5Q",
        "outputId": "9fa48830-9b30-4770-aa5c-19f4d7c75b1b"
      },
      "source": [
        "df_train[\"account_id\"].nunique()"
      ],
      "execution_count": null,
      "outputs": [
        {
          "output_type": "execute_result",
          "data": {
            "text/plain": [
              "113881"
            ]
          },
          "metadata": {
            "tags": []
          },
          "execution_count": 65
        }
      ]
    },
    {
      "cell_type": "markdown",
      "metadata": {
        "id": "uNshfMnV_Hsl"
      },
      "source": [
        "Conviene ordernar de menor a mayor para que sea mas legible"
      ]
    },
    {
      "cell_type": "code",
      "metadata": {
        "colab": {
          "base_uri": "https://localhost:8080/",
          "height": 204
        },
        "id": "yY_jFzbTGnMF",
        "outputId": "f3834fb6-6e9b-4bdf-d079-3fbade33aa2a"
      },
      "source": [
        "df_train.sort_values(by=['account_id','asset_id'],ascending=True,inplace=True)\n",
        "df_train.head()"
      ],
      "execution_count": null,
      "outputs": [
        {
          "output_type": "execute_result",
          "data": {
            "text/html": [
              "<div>\n",
              "<style scoped>\n",
              "    .dataframe tbody tr th:only-of-type {\n",
              "        vertical-align: middle;\n",
              "    }\n",
              "\n",
              "    .dataframe tbody tr th {\n",
              "        vertical-align: top;\n",
              "    }\n",
              "\n",
              "    .dataframe thead th {\n",
              "        text-align: right;\n",
              "    }\n",
              "</style>\n",
              "<table border=\"1\" class=\"dataframe\">\n",
              "  <thead>\n",
              "    <tr style=\"text-align: right;\">\n",
              "      <th></th>\n",
              "      <th>customer_id</th>\n",
              "      <th>account_id</th>\n",
              "      <th>device_type</th>\n",
              "      <th>asset_id</th>\n",
              "      <th>tunein</th>\n",
              "      <th>tuneout</th>\n",
              "      <th>resume</th>\n",
              "    </tr>\n",
              "  </thead>\n",
              "  <tbody>\n",
              "    <tr>\n",
              "      <th>3164588</th>\n",
              "      <td>94636</td>\n",
              "      <td>0</td>\n",
              "      <td>CLOUD_CLIENT</td>\n",
              "      <td>6397.0</td>\n",
              "      <td>2021-02-25 21:05:00.0</td>\n",
              "      <td>2021-02-25 21:53:00.0</td>\n",
              "      <td>0</td>\n",
              "    </tr>\n",
              "    <tr>\n",
              "      <th>3164585</th>\n",
              "      <td>94636</td>\n",
              "      <td>0</td>\n",
              "      <td>STB</td>\n",
              "      <td>13056.0</td>\n",
              "      <td>2021-01-13 00:12:00.0</td>\n",
              "      <td>2021-01-13 01:17:00.0</td>\n",
              "      <td>1</td>\n",
              "    </tr>\n",
              "    <tr>\n",
              "      <th>3164587</th>\n",
              "      <td>94636</td>\n",
              "      <td>0</td>\n",
              "      <td>STB</td>\n",
              "      <td>15900.0</td>\n",
              "      <td>2021-01-18 15:21:00.0</td>\n",
              "      <td>2021-01-18 17:29:00.0</td>\n",
              "      <td>0</td>\n",
              "    </tr>\n",
              "    <tr>\n",
              "      <th>3164584</th>\n",
              "      <td>94636</td>\n",
              "      <td>0</td>\n",
              "      <td>STB</td>\n",
              "      <td>29811.0</td>\n",
              "      <td>2021-01-12 21:13:00.0</td>\n",
              "      <td>2021-01-12 22:32:00.0</td>\n",
              "      <td>0</td>\n",
              "    </tr>\n",
              "    <tr>\n",
              "      <th>3164586</th>\n",
              "      <td>94636</td>\n",
              "      <td>0</td>\n",
              "      <td>STB</td>\n",
              "      <td>29897.0</td>\n",
              "      <td>2021-01-17 01:45:00.0</td>\n",
              "      <td>2021-01-17 02:01:00.0</td>\n",
              "      <td>1</td>\n",
              "    </tr>\n",
              "  </tbody>\n",
              "</table>\n",
              "</div>"
            ],
            "text/plain": [
              "         customer_id  account_id  ...                tuneout  resume\n",
              "3164588        94636           0  ...  2021-02-25 21:53:00.0       0\n",
              "3164585        94636           0  ...  2021-01-13 01:17:00.0       1\n",
              "3164587        94636           0  ...  2021-01-18 17:29:00.0       0\n",
              "3164584        94636           0  ...  2021-01-12 22:32:00.0       0\n",
              "3164586        94636           0  ...  2021-01-17 02:01:00.0       1\n",
              "\n",
              "[5 rows x 7 columns]"
            ]
          },
          "metadata": {
            "tags": []
          },
          "execution_count": 66
        }
      ]
    },
    {
      "cell_type": "code",
      "metadata": {
        "colab": {
          "base_uri": "https://localhost:8080/"
        },
        "id": "uJoBJ2SuurTH",
        "outputId": "aeaad12e-80ad-4963-8898-ae1b201714c9"
      },
      "source": [
        "df_train[\"account_id\"].nunique()"
      ],
      "execution_count": null,
      "outputs": [
        {
          "output_type": "execute_result",
          "data": {
            "text/plain": [
              "113881"
            ]
          },
          "metadata": {
            "tags": []
          },
          "execution_count": 67
        }
      ]
    },
    {
      "cell_type": "code",
      "metadata": {
        "colab": {
          "base_uri": "https://localhost:8080/"
        },
        "id": "-6ifbSRKGoxh",
        "outputId": "7d349e03-c013-43c8-f517-4341a0b76065"
      },
      "source": [
        "df_train.shape"
      ],
      "execution_count": null,
      "outputs": [
        {
          "output_type": "execute_result",
          "data": {
            "text/plain": [
              "(3657801, 7)"
            ]
          },
          "metadata": {
            "tags": []
          },
          "execution_count": 68
        }
      ]
    },
    {
      "cell_type": "code",
      "metadata": {
        "colab": {
          "base_uri": "https://localhost:8080/"
        },
        "id": "Ct63PvJsGq5M",
        "outputId": "9b151b3b-3088-41e1-def3-2546eb9bf8a5"
      },
      "source": [
        "print(f'Nº de filas: {df_train.shape[0]}')\n",
        "print(f'Nº de columnas: {df_train.shape[1]}')\n",
        "columnas = df_train.columns\n",
        "print('Nombre de las columnas: ')\n",
        "for col in columnas:\n",
        "    print(col)"
      ],
      "execution_count": null,
      "outputs": [
        {
          "output_type": "stream",
          "text": [
            "Nº de filas: 3657801\n",
            "Nº de columnas: 7\n",
            "Nombre de las columnas: \n",
            "customer_id\n",
            "account_id\n",
            "device_type\n",
            "asset_id\n",
            "tunein\n",
            "tuneout\n",
            "resume\n"
          ],
          "name": "stdout"
        }
      ]
    },
    {
      "cell_type": "markdown",
      "metadata": {
        "id": "zHFb8OEG_ZoE"
      },
      "source": [
        "**Valores faltantes:**\n",
        "\n",
        "A continuacion, voy a imputar los datos"
      ]
    },
    {
      "cell_type": "code",
      "metadata": {
        "colab": {
          "base_uri": "https://localhost:8080/"
        },
        "id": "HQcR8LZhGsw8",
        "outputId": "e375d15c-a115-4d2b-91c5-8ca61cb318f0"
      },
      "source": [
        "print(df_train.isnull().sum())"
      ],
      "execution_count": null,
      "outputs": [
        {
          "output_type": "stream",
          "text": [
            "customer_id     0\n",
            "account_id      0\n",
            "device_type    29\n",
            "asset_id       22\n",
            "tunein          0\n",
            "tuneout         0\n",
            "resume          0\n",
            "dtype: int64\n"
          ],
          "name": "stdout"
        }
      ]
    },
    {
      "cell_type": "code",
      "metadata": {
        "colab": {
          "base_uri": "https://localhost:8080/"
        },
        "id": "JXbXe-REGvZV",
        "outputId": "cfc0372e-8ca5-43f1-feb5-64d1f8521a9a"
      },
      "source": [
        "df_train.dtypes"
      ],
      "execution_count": null,
      "outputs": [
        {
          "output_type": "execute_result",
          "data": {
            "text/plain": [
              "customer_id      int64\n",
              "account_id       int64\n",
              "device_type     object\n",
              "asset_id       float64\n",
              "tunein          object\n",
              "tuneout         object\n",
              "resume           int64\n",
              "dtype: object"
            ]
          },
          "metadata": {
            "tags": []
          },
          "execution_count": 71
        }
      ]
    },
    {
      "cell_type": "markdown",
      "metadata": {
        "id": "FQMZTFqJ_znG"
      },
      "source": [
        "Device type puede ser imputado por la moda, es MUY probable que los faltantes sean STB"
      ]
    },
    {
      "cell_type": "code",
      "metadata": {
        "colab": {
          "base_uri": "https://localhost:8080/",
          "height": 631
        },
        "id": "dWQiBlgWGxlc",
        "outputId": "a2d31100-b33c-42bc-cf9c-cedefdde9ae6"
      },
      "source": [
        "plt.figure(figsize=(23,10))\n",
        "sns.countplot(df_train[\"device_type\"])\n",
        "plt.show()"
      ],
      "execution_count": null,
      "outputs": [
        {
          "output_type": "stream",
          "text": [
            "/usr/local/lib/python3.7/dist-packages/seaborn/_decorators.py:43: FutureWarning: Pass the following variable as a keyword arg: x. From version 0.12, the only valid positional argument will be `data`, and passing other arguments without an explicit keyword will result in an error or misinterpretation.\n",
            "  FutureWarning\n"
          ],
          "name": "stderr"
        },
        {
          "output_type": "display_data",
          "data": {
            "image/png": "[encoded data removed]",
            "text/plain": [
              "<Figure size 1656x720 with 1 Axes>"
            ]
          },
          "metadata": {
            "tags": [],
            "needs_background": "light"
          }
        }
      ]
    },
    {
      "cell_type": "code",
      "metadata": {
        "id": "yp2WQ0ApGz24"
      },
      "source": [
        "def imputar_faltantes_por_moda(dataset, columna):\n",
        "  moda = dataset[columna].value_counts().index[0]\n",
        "  dataset[columna] = dataset[columna].fillna(moda)"
      ],
      "execution_count": null,
      "outputs": []
    },
    {
      "cell_type": "code",
      "metadata": {
        "id": "g1Ha27sHG1Sn"
      },
      "source": [
        "imputar_faltantes_por_moda(df_train, \"device_type\")"
      ],
      "execution_count": null,
      "outputs": []
    },
    {
      "cell_type": "code",
      "metadata": {
        "colab": {
          "base_uri": "https://localhost:8080/"
        },
        "id": "hDvZrLnGG3AY",
        "outputId": "ddffa5b3-9fe9-4830-dcd3-528581955ad7"
      },
      "source": [
        "print(df_train.isnull().sum())"
      ],
      "execution_count": null,
      "outputs": [
        {
          "output_type": "stream",
          "text": [
            "customer_id     0\n",
            "account_id      0\n",
            "device_type     0\n",
            "asset_id       22\n",
            "tunein          0\n",
            "tuneout         0\n",
            "resume          0\n",
            "dtype: int64\n"
          ],
          "name": "stdout"
        }
      ]
    },
    {
      "cell_type": "markdown",
      "metadata": {
        "id": "BBTWe4o6AEW9"
      },
      "source": [
        "No tengo forma de reemplazar los assets id a partir de un patron, pero tampoco puedo eliminar las filas con los datos faltantes.\n",
        "Voy a reemplazar por moda"
      ]
    },
    {
      "cell_type": "code",
      "metadata": {
        "colab": {
          "base_uri": "https://localhost:8080/"
        },
        "id": "rSqynHXvG5Ce",
        "outputId": "071de8f3-22b0-49e0-de9d-74023884a285"
      },
      "source": [
        "imputar_faltantes_por_moda(df_train, \"asset_id\")\n",
        "print(df_train.isnull().sum())"
      ],
      "execution_count": null,
      "outputs": [
        {
          "output_type": "stream",
          "text": [
            "customer_id    0\n",
            "account_id     0\n",
            "device_type    0\n",
            "asset_id       0\n",
            "tunein         0\n",
            "tuneout        0\n",
            "resume         0\n",
            "dtype: int64\n"
          ],
          "name": "stdout"
        }
      ]
    },
    {
      "cell_type": "markdown",
      "metadata": {
        "id": "3K-1maPnA6gv"
      },
      "source": [
        "Voy a convertir las fechas string a tipo datetime para poder medir la diferencia"
      ]
    },
    {
      "cell_type": "code",
      "metadata": {
        "colab": {
          "base_uri": "https://localhost:8080/"
        },
        "id": "r30czo72G9l-",
        "outputId": "bafafbca-13f1-44cd-e428-fb358025144a"
      },
      "source": [
        "df_train['tunein_datetime'] = pd.to_datetime(df_train['tunein'], format='%Y-%m-%d %H:%M:%S')\n",
        "df_train['tunein_datetime'].head()"
      ],
      "execution_count": null,
      "outputs": [
        {
          "output_type": "execute_result",
          "data": {
            "text/plain": [
              "3164588   2021-02-25 21:05:00\n",
              "3164585   2021-01-13 00:12:00\n",
              "3164587   2021-01-18 15:21:00\n",
              "3164584   2021-01-12 21:13:00\n",
              "3164586   2021-01-17 01:45:00\n",
              "Name: tunein_datetime, dtype: datetime64[ns]"
            ]
          },
          "metadata": {
            "tags": []
          },
          "execution_count": 76
        }
      ]
    },
    {
      "cell_type": "code",
      "metadata": {
        "colab": {
          "base_uri": "https://localhost:8080/"
        },
        "id": "Cgw9kLKFG_1v",
        "outputId": "045185e8-9e49-4dde-c42c-4b4bd0c928ba"
      },
      "source": [
        "df_train['tuneout_datetime'] = pd.to_datetime(df_train['tuneout'], format='%Y-%m-%d %H:%M:%S')\n",
        "df_train['tuneout_datetime'].head()"
      ],
      "execution_count": null,
      "outputs": [
        {
          "output_type": "execute_result",
          "data": {
            "text/plain": [
              "3164588   2021-02-25 21:53:00\n",
              "3164585   2021-01-13 01:17:00\n",
              "3164587   2021-01-18 17:29:00\n",
              "3164584   2021-01-12 22:32:00\n",
              "3164586   2021-01-17 02:01:00\n",
              "Name: tuneout_datetime, dtype: datetime64[ns]"
            ]
          },
          "metadata": {
            "tags": []
          },
          "execution_count": 77
        }
      ]
    },
    {
      "cell_type": "markdown",
      "metadata": {
        "id": "1eChXX9HBDfN"
      },
      "source": [
        "Diferencia entre tuneout y tunein, para conocer el tiempo invertido en la visualizacion"
      ]
    },
    {
      "cell_type": "code",
      "metadata": {
        "colab": {
          "base_uri": "https://localhost:8080/"
        },
        "id": "Dh7rcfqxHB34",
        "outputId": "77191ea6-964f-4c7e-d1cb-03459bd10752"
      },
      "source": [
        "df_train['difftune_datetime'] = df_train['tuneout_datetime'] - df_train['tunein_datetime']\n",
        "df_train['difftune_datetime'].head()"
      ],
      "execution_count": null,
      "outputs": [
        {
          "output_type": "execute_result",
          "data": {
            "text/plain": [
              "3164588   0 days 00:48:00\n",
              "3164585   0 days 01:05:00\n",
              "3164587   0 days 02:08:00\n",
              "3164584   0 days 01:19:00\n",
              "3164586   0 days 00:16:00\n",
              "Name: difftune_datetime, dtype: timedelta64[ns]"
            ]
          },
          "metadata": {
            "tags": []
          },
          "execution_count": 78
        }
      ]
    },
    {
      "cell_type": "code",
      "metadata": {
        "id": "jFIuWprSHD6H"
      },
      "source": [
        "def datetime_to_minutes(x):\n",
        "  return x.total_seconds()/60"
      ],
      "execution_count": null,
      "outputs": []
    },
    {
      "cell_type": "markdown",
      "metadata": {
        "id": "AzPbiQcRBOH3"
      },
      "source": [
        "Conversion a minutos"
      ]
    },
    {
      "cell_type": "code",
      "metadata": {
        "colab": {
          "base_uri": "https://localhost:8080/"
        },
        "id": "0Z3tagxjHGFu",
        "outputId": "f3b80784-b14b-4341-9f34-9440f859b01f"
      },
      "source": [
        "df_train['minutes'] = df_train['difftune_datetime'].apply(datetime_to_minutes)\n",
        "df_train['minutes'].head()"
      ],
      "execution_count": null,
      "outputs": [
        {
          "output_type": "execute_result",
          "data": {
            "text/plain": [
              "3164588     48.0\n",
              "3164585     65.0\n",
              "3164587    128.0\n",
              "3164584     79.0\n",
              "3164586     16.0\n",
              "Name: minutes, dtype: float64"
            ]
          },
          "metadata": {
            "tags": []
          },
          "execution_count": 80
        }
      ]
    },
    {
      "cell_type": "markdown",
      "metadata": {
        "id": "dZUYyBilBRJs"
      },
      "source": [
        "Redefino las columnas mas importantes"
      ]
    },
    {
      "cell_type": "code",
      "metadata": {
        "colab": {
          "base_uri": "https://localhost:8080/",
          "height": 204
        },
        "id": "dHX6aLhCHLJF",
        "outputId": "532f07af-0a5a-42a9-dc0c-592918eb7ca3"
      },
      "source": [
        "columnas_necesarias = [\"account_id\",\"asset_id\",\"minutes\"]\n",
        "df_train = df_train[columnas_necesarias]\n",
        "df_train.head()"
      ],
      "execution_count": null,
      "outputs": [
        {
          "output_type": "execute_result",
          "data": {
            "text/html": [
              "<div>\n",
              "<style scoped>\n",
              "    .dataframe tbody tr th:only-of-type {\n",
              "        vertical-align: middle;\n",
              "    }\n",
              "\n",
              "    .dataframe tbody tr th {\n",
              "        vertical-align: top;\n",
              "    }\n",
              "\n",
              "    .dataframe thead th {\n",
              "        text-align: right;\n",
              "    }\n",
              "</style>\n",
              "<table border=\"1\" class=\"dataframe\">\n",
              "  <thead>\n",
              "    <tr style=\"text-align: right;\">\n",
              "      <th></th>\n",
              "      <th>account_id</th>\n",
              "      <th>asset_id</th>\n",
              "      <th>minutes</th>\n",
              "    </tr>\n",
              "  </thead>\n",
              "  <tbody>\n",
              "    <tr>\n",
              "      <th>3164588</th>\n",
              "      <td>0</td>\n",
              "      <td>6397.0</td>\n",
              "      <td>48.0</td>\n",
              "    </tr>\n",
              "    <tr>\n",
              "      <th>3164585</th>\n",
              "      <td>0</td>\n",
              "      <td>13056.0</td>\n",
              "      <td>65.0</td>\n",
              "    </tr>\n",
              "    <tr>\n",
              "      <th>3164587</th>\n",
              "      <td>0</td>\n",
              "      <td>15900.0</td>\n",
              "      <td>128.0</td>\n",
              "    </tr>\n",
              "    <tr>\n",
              "      <th>3164584</th>\n",
              "      <td>0</td>\n",
              "      <td>29811.0</td>\n",
              "      <td>79.0</td>\n",
              "    </tr>\n",
              "    <tr>\n",
              "      <th>3164586</th>\n",
              "      <td>0</td>\n",
              "      <td>29897.0</td>\n",
              "      <td>16.0</td>\n",
              "    </tr>\n",
              "  </tbody>\n",
              "</table>\n",
              "</div>"
            ],
            "text/plain": [
              "         account_id  asset_id  minutes\n",
              "3164588           0    6397.0     48.0\n",
              "3164585           0   13056.0     65.0\n",
              "3164587           0   15900.0    128.0\n",
              "3164584           0   29811.0     79.0\n",
              "3164586           0   29897.0     16.0"
            ]
          },
          "metadata": {
            "tags": []
          },
          "execution_count": 81
        }
      ]
    },
    {
      "cell_type": "code",
      "metadata": {
        "colab": {
          "base_uri": "https://localhost:8080/"
        },
        "id": "hll825hGuzTG",
        "outputId": "62099680-68ff-4c6f-b876-2b307b3d630c"
      },
      "source": [
        "df_train[\"account_id\"].nunique()"
      ],
      "execution_count": null,
      "outputs": [
        {
          "output_type": "execute_result",
          "data": {
            "text/plain": [
              "113881"
            ]
          },
          "metadata": {
            "tags": []
          },
          "execution_count": 82
        }
      ]
    },
    {
      "cell_type": "markdown",
      "metadata": {
        "id": "v6Y2VE4RBWWh"
      },
      "source": [
        "En caso de haber filas repetidas con el misma account_id y asset_id debido a una irrelevancia con respecto a las columnas eliminadas previamente.\n",
        "Necesito agrupar por account_id y asset_id, luego sumar los minutos dependiendo del grupo"
      ]
    },
    {
      "cell_type": "code",
      "metadata": {
        "colab": {
          "base_uri": "https://localhost:8080/"
        },
        "id": "wwwydGyhM3gt",
        "outputId": "11e36af2-1c6f-4d7a-fd9f-94f9650c92e6"
      },
      "source": [
        "df_train = df_train.groupby(['account_id','asset_id'], as_index=False).agg({\"minutes\": \"sum\"})\n",
        "print(\"Tamaño de df_train: \"+str(df_train.shape[0]))"
      ],
      "execution_count": null,
      "outputs": [
        {
          "output_type": "stream",
          "text": [
            "Tamaño de df_train: 2589766\n"
          ],
          "name": "stdout"
        }
      ]
    },
    {
      "cell_type": "code",
      "metadata": {
        "colab": {
          "base_uri": "https://localhost:8080/"
        },
        "id": "Hl92dERXu_pW",
        "outputId": "45a88d99-7e4c-4a66-b5e0-68bf76f6cd4d"
      },
      "source": [
        "df_train[\"account_id\"].nunique()"
      ],
      "execution_count": null,
      "outputs": [
        {
          "output_type": "execute_result",
          "data": {
            "text/plain": [
              "113881"
            ]
          },
          "metadata": {
            "tags": []
          },
          "execution_count": 84
        }
      ]
    },
    {
      "cell_type": "markdown",
      "metadata": {
        "id": "D3ZLzIlL-ON5"
      },
      "source": [
        "# **Metadata**"
      ]
    },
    {
      "cell_type": "code",
      "metadata": {
        "colab": {
          "base_uri": "https://localhost:8080/",
          "height": 564
        },
        "id": "7bzH97QLH1m2",
        "outputId": "01f739c8-063c-414f-8e38-8cdd8b7778ac"
      },
      "source": [
        "df_metadata = pd.read_csv(ruta_metadata, sep=';')\n",
        "df_metadata.head()"
      ],
      "execution_count": null,
      "outputs": [
        {
          "output_type": "execute_result",
          "data": {
            "text/html": [
              "<div>\n",
              "<style scoped>\n",
              "    .dataframe tbody tr th:only-of-type {\n",
              "        vertical-align: middle;\n",
              "    }\n",
              "\n",
              "    .dataframe tbody tr th {\n",
              "        vertical-align: top;\n",
              "    }\n",
              "\n",
              "    .dataframe thead th {\n",
              "        text-align: right;\n",
              "    }\n",
              "</style>\n",
              "<table border=\"1\" class=\"dataframe\">\n",
              "  <thead>\n",
              "    <tr style=\"text-align: right;\">\n",
              "      <th></th>\n",
              "      <th>asset_id</th>\n",
              "      <th>content_id</th>\n",
              "      <th>title</th>\n",
              "      <th>reduced_title</th>\n",
              "      <th>episode_title</th>\n",
              "      <th>show_type</th>\n",
              "      <th>released_year</th>\n",
              "      <th>country_of_origin</th>\n",
              "      <th>category</th>\n",
              "      <th>keywords</th>\n",
              "      <th>description</th>\n",
              "      <th>reduced_desc</th>\n",
              "      <th>cast_first_name</th>\n",
              "      <th>credits_first_name</th>\n",
              "      <th>run_time_min</th>\n",
              "      <th>audience</th>\n",
              "      <th>made_for_tv</th>\n",
              "      <th>close_caption</th>\n",
              "      <th>sex_rating</th>\n",
              "      <th>violence_rating</th>\n",
              "      <th>language_rating</th>\n",
              "      <th>dialog_rating</th>\n",
              "      <th>fv_rating</th>\n",
              "      <th>pay_per_view</th>\n",
              "      <th>pack_premium_1</th>\n",
              "      <th>pack_premium_2</th>\n",
              "      <th>create_date</th>\n",
              "      <th>modify_date</th>\n",
              "      <th>start_vod_date</th>\n",
              "      <th>end_vod_date</th>\n",
              "    </tr>\n",
              "  </thead>\n",
              "  <tbody>\n",
              "    <tr>\n",
              "      <th>0</th>\n",
              "      <td>15188</td>\n",
              "      <td>0.0</td>\n",
              "      <td>Ep:17 Tiempos Compulsivos</td>\n",
              "      <td>Tiempos_Compul_E17</td>\n",
              "      <td>Episodio 17</td>\n",
              "      <td>Serie</td>\n",
              "      <td>2012.0</td>\n",
              "      <td>AR</td>\n",
              "      <td>Drama</td>\n",
              "      <td>Trastornos,Médicos,Tragicómica,Telenovela,Enfe...</td>\n",
              "      <td>Esteban recibe una noticia inesperada: va a se...</td>\n",
              "      <td>Esteban recibe una noticia inesperada: va a se...</td>\n",
              "      <td>Rodrigo De la Serna, Paola Krum, Fernán Mirás,...</td>\n",
              "      <td>Daniel Barone</td>\n",
              "      <td>48.0</td>\n",
              "      <td>General</td>\n",
              "      <td>N</td>\n",
              "      <td>N</td>\n",
              "      <td>N</td>\n",
              "      <td>N</td>\n",
              "      <td>N</td>\n",
              "      <td>N</td>\n",
              "      <td>N</td>\n",
              "      <td>N</td>\n",
              "      <td>N</td>\n",
              "      <td>N</td>\n",
              "      <td>2017-12-01T10:18:15.0Z</td>\n",
              "      <td>2019-01-26T06:37:18.0Z</td>\n",
              "      <td>2017-12-01T00:00:00.0Z</td>\n",
              "      <td>2020-12-01T23:59:59.0Z</td>\n",
              "    </tr>\n",
              "    <tr>\n",
              "      <th>1</th>\n",
              "      <td>24940</td>\n",
              "      <td>1.0</td>\n",
              "      <td>7 Cajas</td>\n",
              "      <td>7_Cajas</td>\n",
              "      <td>NaN</td>\n",
              "      <td>Película</td>\n",
              "      <td>2012.0</td>\n",
              "      <td>PY</td>\n",
              "      <td>Suspenso/Acción</td>\n",
              "      <td>Latinoamérica,Pobreza,Crimen,Pandillas</td>\n",
              "      <td>Víctor trabaja como carretillero. Un día recib...</td>\n",
              "      <td>Trabajando como carretillero, Víctor recibe un...</td>\n",
              "      <td>Celso Franco, Víctor Sosa, Lali Gonzalez</td>\n",
              "      <td>Juan Carlos Maneglia</td>\n",
              "      <td>105.0</td>\n",
              "      <td>General</td>\n",
              "      <td>N</td>\n",
              "      <td>N</td>\n",
              "      <td>N</td>\n",
              "      <td>N</td>\n",
              "      <td>N</td>\n",
              "      <td>N</td>\n",
              "      <td>N</td>\n",
              "      <td>Y</td>\n",
              "      <td>N</td>\n",
              "      <td>N</td>\n",
              "      <td>2017-12-19T20:58:15.0Z</td>\n",
              "      <td>2019-09-17T19:02:03.0Z</td>\n",
              "      <td>2017-12-15T00:00:00.0Z</td>\n",
              "      <td>2022-12-14T23:59:59.0Z</td>\n",
              "    </tr>\n",
              "    <tr>\n",
              "      <th>2</th>\n",
              "      <td>21939</td>\n",
              "      <td>2.0</td>\n",
              "      <td>La Maldición de las Hormigas Gigantes</td>\n",
              "      <td>La_Maldicion_de_las</td>\n",
              "      <td>NaN</td>\n",
              "      <td>Película</td>\n",
              "      <td>2016.0</td>\n",
              "      <td>FI</td>\n",
              "      <td>Terror/Comedia</td>\n",
              "      <td>Criaturas,Plagas,Adolescentes,Fantasía,Video J...</td>\n",
              "      <td>Un grupo de motociclistas busca diversión el d...</td>\n",
              "      <td>Un grupo de motociclistas descubre un laborato...</td>\n",
              "      <td>Mark Arnold, Harry Lister Smith, Vanessa Grass...</td>\n",
              "      <td>Marko Mäkilaakso</td>\n",
              "      <td>82.0</td>\n",
              "      <td>Juvenil</td>\n",
              "      <td>Y</td>\n",
              "      <td>N</td>\n",
              "      <td>N</td>\n",
              "      <td>N</td>\n",
              "      <td>N</td>\n",
              "      <td>N</td>\n",
              "      <td>N</td>\n",
              "      <td>N</td>\n",
              "      <td>N</td>\n",
              "      <td>N</td>\n",
              "      <td>2018-02-16T13:51:07.0Z</td>\n",
              "      <td>2020-04-28T14:16:38.0Z</td>\n",
              "      <td>2018-01-25T00:00:00.0Z</td>\n",
              "      <td>2020-12-01T23:59:59.0Z</td>\n",
              "    </tr>\n",
              "    <tr>\n",
              "      <th>3</th>\n",
              "      <td>9005</td>\n",
              "      <td>3.0</td>\n",
              "      <td>Una Mujer Fantástica</td>\n",
              "      <td>Una_Mujer_Fantastic</td>\n",
              "      <td>NaN</td>\n",
              "      <td>Película</td>\n",
              "      <td>2017.0</td>\n",
              "      <td>CL</td>\n",
              "      <td>Drama</td>\n",
              "      <td>LGBT,Mujeres,Latinoamérica</td>\n",
              "      <td>Marina y Orlando están enamorados y planean un...</td>\n",
              "      <td>Marina y Orlando están enamorados. Pero cuando...</td>\n",
              "      <td>Daniela Vega, Francisco Reyes, Luis Gnecco, Am...</td>\n",
              "      <td>Sebastián Lelio</td>\n",
              "      <td>99.0</td>\n",
              "      <td>General</td>\n",
              "      <td>N</td>\n",
              "      <td>N</td>\n",
              "      <td>N</td>\n",
              "      <td>N</td>\n",
              "      <td>N</td>\n",
              "      <td>N</td>\n",
              "      <td>N</td>\n",
              "      <td>N</td>\n",
              "      <td>Y</td>\n",
              "      <td>N</td>\n",
              "      <td>2018-05-26T11:58:44.0Z</td>\n",
              "      <td>2019-11-15T03:00:23.0Z</td>\n",
              "      <td>2018-05-27T00:00:00.0Z</td>\n",
              "      <td>2021-04-30T23:59:59.0Z</td>\n",
              "    </tr>\n",
              "    <tr>\n",
              "      <th>4</th>\n",
              "      <td>7391</td>\n",
              "      <td>4.0</td>\n",
              "      <td>Star Trek</td>\n",
              "      <td>Star_Trek</td>\n",
              "      <td>NaN</td>\n",
              "      <td>Película</td>\n",
              "      <td>2009.0</td>\n",
              "      <td>US</td>\n",
              "      <td>Ciencia Ficción/Aventura</td>\n",
              "      <td>Fantasía,Galaxia,Futurismo,Aliens,Criaturas</td>\n",
              "      <td>El descarado James T. Kirk trata de estar a la...</td>\n",
              "      <td>James T. Kirk trata de estar a la altura del l...</td>\n",
              "      <td>Chris Pine, Zachary Quinto, Leonard Nimoy, Eri...</td>\n",
              "      <td>J.J. Abrams</td>\n",
              "      <td>126.0</td>\n",
              "      <td>General</td>\n",
              "      <td>N</td>\n",
              "      <td>N</td>\n",
              "      <td>N</td>\n",
              "      <td>N</td>\n",
              "      <td>N</td>\n",
              "      <td>N</td>\n",
              "      <td>N</td>\n",
              "      <td>Y</td>\n",
              "      <td>N</td>\n",
              "      <td>N</td>\n",
              "      <td>2019-05-03T20:07:24.0Z</td>\n",
              "      <td>2020-04-09T04:37:29.0Z</td>\n",
              "      <td>2019-05-02T00:00:00.0Z</td>\n",
              "      <td>2020-12-31T23:59:59.0Z</td>\n",
              "    </tr>\n",
              "  </tbody>\n",
              "</table>\n",
              "</div>"
            ],
            "text/plain": [
              "   asset_id  content_id  ...          start_vod_date            end_vod_date\n",
              "0     15188         0.0  ...  2017-12-01T00:00:00.0Z  2020-12-01T23:59:59.0Z\n",
              "1     24940         1.0  ...  2017-12-15T00:00:00.0Z  2022-12-14T23:59:59.0Z\n",
              "2     21939         2.0  ...  2018-01-25T00:00:00.0Z  2020-12-01T23:59:59.0Z\n",
              "3      9005         3.0  ...  2018-05-27T00:00:00.0Z  2021-04-30T23:59:59.0Z\n",
              "4      7391         4.0  ...  2019-05-02T00:00:00.0Z  2020-12-31T23:59:59.0Z\n",
              "\n",
              "[5 rows x 30 columns]"
            ]
          },
          "metadata": {
            "tags": []
          },
          "execution_count": 85
        }
      ]
    },
    {
      "cell_type": "markdown",
      "metadata": {
        "id": "aK65b5WV-ZZd"
      },
      "source": [
        "Voy a reemplazar los assets_ids por sus contents_ids correspondientes, para hacer predicciones directas."
      ]
    },
    {
      "cell_type": "code",
      "metadata": {
        "id": "dlie60AkHsHH"
      },
      "source": [
        "def consultar_contents_ids_con_asset_id(asset_id):\n",
        "  mask = df_metadata[\"asset_id\"] == asset_id\n",
        "  contents = df_metadata.loc[mask][\"content_id\"]\n",
        "  contents = contents.tolist()\n",
        "  return contents[0]"
      ],
      "execution_count": null,
      "outputs": []
    },
    {
      "cell_type": "code",
      "metadata": {
        "id": "24Y-hk_EHsOo"
      },
      "source": [
        "df_train[\"content_id\"] = df_train[\"asset_id\"].apply(consultar_contents_ids_con_asset_id)"
      ],
      "execution_count": null,
      "outputs": []
    },
    {
      "cell_type": "code",
      "metadata": {
        "colab": {
          "base_uri": "https://localhost:8080/"
        },
        "id": "YzJI2H21vQRt",
        "outputId": "f40f2c7d-1f7c-411b-c3ee-0ce77b1f885a"
      },
      "source": [
        "df_train[\"account_id\"].nunique()"
      ],
      "execution_count": null,
      "outputs": [
        {
          "output_type": "execute_result",
          "data": {
            "text/plain": [
              "113881"
            ]
          },
          "metadata": {
            "tags": []
          },
          "execution_count": 88
        }
      ]
    },
    {
      "cell_type": "markdown",
      "metadata": {
        "id": "K_SpmEZKB6gu"
      },
      "source": [
        "Redefino las columnas mas importantes"
      ]
    },
    {
      "cell_type": "code",
      "metadata": {
        "colab": {
          "base_uri": "https://localhost:8080/",
          "height": 204
        },
        "id": "7GhAvlkxIN2I",
        "outputId": "765caed9-3736-4e91-a3f3-38011d8ab530"
      },
      "source": [
        "columnas_necesarias = [\"account_id\",\"content_id\",\"minutes\"]\n",
        "df_train = df_train[columnas_necesarias]\n",
        "df_train.head()"
      ],
      "execution_count": null,
      "outputs": [
        {
          "output_type": "execute_result",
          "data": {
            "text/html": [
              "<div>\n",
              "<style scoped>\n",
              "    .dataframe tbody tr th:only-of-type {\n",
              "        vertical-align: middle;\n",
              "    }\n",
              "\n",
              "    .dataframe tbody tr th {\n",
              "        vertical-align: top;\n",
              "    }\n",
              "\n",
              "    .dataframe thead th {\n",
              "        text-align: right;\n",
              "    }\n",
              "</style>\n",
              "<table border=\"1\" class=\"dataframe\">\n",
              "  <thead>\n",
              "    <tr style=\"text-align: right;\">\n",
              "      <th></th>\n",
              "      <th>account_id</th>\n",
              "      <th>content_id</th>\n",
              "      <th>minutes</th>\n",
              "    </tr>\n",
              "  </thead>\n",
              "  <tbody>\n",
              "    <tr>\n",
              "      <th>0</th>\n",
              "      <td>0</td>\n",
              "      <td>3845.0</td>\n",
              "      <td>48.0</td>\n",
              "    </tr>\n",
              "    <tr>\n",
              "      <th>1</th>\n",
              "      <td>0</td>\n",
              "      <td>2866.0</td>\n",
              "      <td>65.0</td>\n",
              "    </tr>\n",
              "    <tr>\n",
              "      <th>2</th>\n",
              "      <td>0</td>\n",
              "      <td>1503.0</td>\n",
              "      <td>128.0</td>\n",
              "    </tr>\n",
              "    <tr>\n",
              "      <th>3</th>\n",
              "      <td>0</td>\n",
              "      <td>3438.0</td>\n",
              "      <td>79.0</td>\n",
              "    </tr>\n",
              "    <tr>\n",
              "      <th>4</th>\n",
              "      <td>0</td>\n",
              "      <td>3498.0</td>\n",
              "      <td>16.0</td>\n",
              "    </tr>\n",
              "  </tbody>\n",
              "</table>\n",
              "</div>"
            ],
            "text/plain": [
              "   account_id  content_id  minutes\n",
              "0           0      3845.0     48.0\n",
              "1           0      2866.0     65.0\n",
              "2           0      1503.0    128.0\n",
              "3           0      3438.0     79.0\n",
              "4           0      3498.0     16.0"
            ]
          },
          "metadata": {
            "tags": []
          },
          "execution_count": 89
        }
      ]
    },
    {
      "cell_type": "code",
      "metadata": {
        "colab": {
          "base_uri": "https://localhost:8080/"
        },
        "id": "KdDb3nLc6FAY",
        "outputId": "003d075a-776d-4946-966b-af76b7a982c0"
      },
      "source": [
        "df_train[\"account_id\"].nunique()"
      ],
      "execution_count": null,
      "outputs": [
        {
          "output_type": "execute_result",
          "data": {
            "text/plain": [
              "113881"
            ]
          },
          "metadata": {
            "tags": []
          },
          "execution_count": 90
        }
      ]
    },
    {
      "cell_type": "markdown",
      "metadata": {
        "id": "E9l0SVcoB-ee"
      },
      "source": [
        "Agrupo de nuevo, pero esta vez, por account_id y content_id.\n",
        "Obviamente sumando los miuntos"
      ]
    },
    {
      "cell_type": "code",
      "metadata": {
        "colab": {
          "base_uri": "https://localhost:8080/"
        },
        "id": "2SIkWyYmW6gO",
        "outputId": "2f663823-a905-4a1b-f77e-18e5e2a42e6d"
      },
      "source": [
        "df_train = df_train.groupby(['account_id','content_id'], as_index=False).agg({\"minutes\": \"sum\"})\n",
        "print(\"Tamaño de df_train: \"+str(df_train.shape[0]))\n",
        "df_train[\"account_id\"].nunique()"
      ],
      "execution_count": null,
      "outputs": [
        {
          "output_type": "stream",
          "text": [
            "Tamaño de df_train: 971491\n"
          ],
          "name": "stdout"
        },
        {
          "output_type": "execute_result",
          "data": {
            "text/plain": [
              "113877"
            ]
          },
          "metadata": {
            "tags": []
          },
          "execution_count": 91
        }
      ]
    },
    {
      "cell_type": "markdown",
      "metadata": {
        "id": "b5lq8MNzCIpN"
      },
      "source": [
        "Distribucion de minutos"
      ]
    },
    {
      "cell_type": "code",
      "metadata": {
        "colab": {
          "base_uri": "https://localhost:8080/",
          "height": 503
        },
        "id": "AuGF3qo7XBbK",
        "outputId": "e4f1bf0c-1646-427d-a328-96ba0888cc19"
      },
      "source": [
        "plt.figure(figsize=(23,8))\n",
        "plt.hist(df_train['minutes'],log=True)\n",
        "plt.show()"
      ],
      "execution_count": null,
      "outputs": [
        {
          "output_type": "display_data",
          "data": {
            "image/png": "[encoded data removed]",
            "text/plain": [
              "<Figure size 1656x576 with 1 Axes>"
            ]
          },
          "metadata": {
            "tags": [],
            "needs_background": "light"
          }
        }
      ]
    },
    {
      "cell_type": "code",
      "metadata": {
        "colab": {
          "base_uri": "https://localhost:8080/",
          "height": 204
        },
        "id": "NHfS94KkpwjI",
        "outputId": "02e76507-f76b-4e42-eb1d-9a8f9a25c897"
      },
      "source": [
        "df_train.head()"
      ],
      "execution_count": null,
      "outputs": [
        {
          "output_type": "execute_result",
          "data": {
            "text/html": [
              "<div>\n",
              "<style scoped>\n",
              "    .dataframe tbody tr th:only-of-type {\n",
              "        vertical-align: middle;\n",
              "    }\n",
              "\n",
              "    .dataframe tbody tr th {\n",
              "        vertical-align: top;\n",
              "    }\n",
              "\n",
              "    .dataframe thead th {\n",
              "        text-align: right;\n",
              "    }\n",
              "</style>\n",
              "<table border=\"1\" class=\"dataframe\">\n",
              "  <thead>\n",
              "    <tr style=\"text-align: right;\">\n",
              "      <th></th>\n",
              "      <th>account_id</th>\n",
              "      <th>content_id</th>\n",
              "      <th>minutes</th>\n",
              "    </tr>\n",
              "  </thead>\n",
              "  <tbody>\n",
              "    <tr>\n",
              "      <th>0</th>\n",
              "      <td>0</td>\n",
              "      <td>1503.0</td>\n",
              "      <td>128.0</td>\n",
              "    </tr>\n",
              "    <tr>\n",
              "      <th>1</th>\n",
              "      <td>0</td>\n",
              "      <td>2866.0</td>\n",
              "      <td>65.0</td>\n",
              "    </tr>\n",
              "    <tr>\n",
              "      <th>2</th>\n",
              "      <td>0</td>\n",
              "      <td>3438.0</td>\n",
              "      <td>79.0</td>\n",
              "    </tr>\n",
              "    <tr>\n",
              "      <th>3</th>\n",
              "      <td>0</td>\n",
              "      <td>3498.0</td>\n",
              "      <td>16.0</td>\n",
              "    </tr>\n",
              "    <tr>\n",
              "      <th>4</th>\n",
              "      <td>0</td>\n",
              "      <td>3845.0</td>\n",
              "      <td>48.0</td>\n",
              "    </tr>\n",
              "  </tbody>\n",
              "</table>\n",
              "</div>"
            ],
            "text/plain": [
              "   account_id  content_id  minutes\n",
              "0           0      1503.0    128.0\n",
              "1           0      2866.0     65.0\n",
              "2           0      3438.0     79.0\n",
              "3           0      3498.0     16.0\n",
              "4           0      3845.0     48.0"
            ]
          },
          "metadata": {
            "tags": []
          },
          "execution_count": 93
        }
      ]
    },
    {
      "cell_type": "markdown",
      "metadata": {
        "id": "aH_obbPuCMBv"
      },
      "source": [
        "Voy a escalar la columna \"minutes\" para tratarla como un \"rating\" a predecir"
      ]
    },
    {
      "cell_type": "code",
      "metadata": {
        "id": "-zfrL1SLXO26"
      },
      "source": [
        "from sklearn.preprocessing import MinMaxScaler"
      ],
      "execution_count": null,
      "outputs": []
    },
    {
      "cell_type": "code",
      "metadata": {
        "id": "wXZ8LS35XQ3q"
      },
      "source": [
        "df_train['rating'] = MinMaxScaler(feature_range=(1,5)).fit_transform(df_train[\"minutes\"].values.reshape(-1,1))"
      ],
      "execution_count": null,
      "outputs": []
    },
    {
      "cell_type": "markdown",
      "metadata": {
        "id": "l23CGz4ICbYz"
      },
      "source": [
        "Aun que.....hay un problema.\n",
        "\n",
        "Hay una GRAN concentracion en el intervalo [1,1.5], lo mas probable es que la matriz de utilidad prediga una recomendacion entre [1,1.5] para todos los casos.\n",
        "\n",
        "Es mas, tal vez no pueda devolver valores flotantes sino enteros porque la diferencia es muy corta."
      ]
    },
    {
      "cell_type": "code",
      "metadata": {
        "colab": {
          "base_uri": "https://localhost:8080/",
          "height": 503
        },
        "id": "g2Uk1xsNXV4U",
        "outputId": "a2a790ce-5bb3-4b35-e8e3-1b57ab3a053f"
      },
      "source": [
        "plt.figure(figsize=(23,8))\n",
        "plt.hist(df_train['rating'],log=True)\n",
        "plt.show()"
      ],
      "execution_count": null,
      "outputs": [
        {
          "output_type": "display_data",
          "data": {
            "image/png": "[encoded data removed]",
            "text/plain": [
              "<Figure size 1656x576 with 1 Axes>"
            ]
          },
          "metadata": {
            "tags": [],
            "needs_background": "light"
          }
        }
      ]
    },
    {
      "cell_type": "markdown",
      "metadata": {
        "id": "hFKzt5ETDNR5"
      },
      "source": [
        "Esta repleta de valores atipicos, y tambien es una ley de potencia"
      ]
    },
    {
      "cell_type": "code",
      "metadata": {
        "colab": {
          "base_uri": "https://localhost:8080/",
          "height": 503
        },
        "id": "keLAFivLXY-L",
        "outputId": "6ecc9960-33cb-49ca-fadd-0fce12bd5e06"
      },
      "source": [
        "plt.figure(figsize=(23,8))\n",
        "plt.boxplot(df_train['rating'])\n",
        "plt.show()"
      ],
      "execution_count": null,
      "outputs": [
        {
          "output_type": "display_data",
          "data": {
            "image/png": "[encoded data removed]",
            "text/plain": [
              "<Figure size 1656x576 with 1 Axes>"
            ]
          },
          "metadata": {
            "tags": [],
            "needs_background": "light"
          }
        }
      ]
    },
    {
      "cell_type": "markdown",
      "metadata": {
        "id": "6mMq0gTyDXzL"
      },
      "source": [
        "Hay una herramienta para normalizar una ley de potencia, el \"PowerTransformer\" se encarga precisamente de eso"
      ]
    },
    {
      "cell_type": "code",
      "metadata": {
        "id": "xeIildo9XeFT"
      },
      "source": [
        "from sklearn.preprocessing import StandardScaler\n",
        "from sklearn.preprocessing import PowerTransformer"
      ],
      "execution_count": null,
      "outputs": []
    },
    {
      "cell_type": "code",
      "metadata": {
        "colab": {
          "base_uri": "https://localhost:8080/",
          "height": 888
        },
        "id": "5B3RMzSYXgK5",
        "outputId": "699de5b1-601e-43b2-de2f-ae3253dcd8e9"
      },
      "source": [
        "c = df_train[\"rating\"].copy()\n",
        "\n",
        "min = c.min()\n",
        "max = c.max()\n",
        "\n",
        "c = np.array(c).reshape(-1,1)\n",
        "\n",
        "c = MinMaxScaler(feature_range=(1,2)).fit_transform(c)\n",
        "\n",
        "c = PowerTransformer(method='box-cox', standardize=True).fit_transform(c)\n",
        "\n",
        "c = MinMaxScaler(feature_range=(min,max)).fit_transform(c)\n",
        "\n",
        "c = np.float32(c)\n",
        "\n",
        "plt.figure(figsize=(23,8))\n",
        "plt.boxplot(c)\n",
        "plt.show()\n",
        "plt.figure(figsize=(23,8))\n",
        "plt.hist(c)\n",
        "plt.show()\n",
        "df_train[\"rating_transformado\"] = c"
      ],
      "execution_count": null,
      "outputs": [
        {
          "output_type": "display_data",
          "data": {
            "image/png": "[encoded data removed]",
            "text/plain": [
              "<Figure size 1656x576 with 1 Axes>"
            ]
          },
          "metadata": {
            "tags": [],
            "needs_background": "light"
          }
        },
        {
          "output_type": "display_data",
          "data": {
            "image/png": "[encoded data removed]",
            "text/plain": [
              "<Figure size 1656x576 with 1 Axes>"
            ]
          },
          "metadata": {
            "tags": [],
            "needs_background": "light"
          }
        }
      ]
    },
    {
      "cell_type": "code",
      "metadata": {
        "colab": {
          "base_uri": "https://localhost:8080/",
          "height": 204
        },
        "id": "9anfoXwyqVCQ",
        "outputId": "0f7cc833-6851-4ca6-e5ab-480a376e1688"
      },
      "source": [
        "df_train.head()"
      ],
      "execution_count": null,
      "outputs": [
        {
          "output_type": "execute_result",
          "data": {
            "text/html": [
              "<div>\n",
              "<style scoped>\n",
              "    .dataframe tbody tr th:only-of-type {\n",
              "        vertical-align: middle;\n",
              "    }\n",
              "\n",
              "    .dataframe tbody tr th {\n",
              "        vertical-align: top;\n",
              "    }\n",
              "\n",
              "    .dataframe thead th {\n",
              "        text-align: right;\n",
              "    }\n",
              "</style>\n",
              "<table border=\"1\" class=\"dataframe\">\n",
              "  <thead>\n",
              "    <tr style=\"text-align: right;\">\n",
              "      <th></th>\n",
              "      <th>account_id</th>\n",
              "      <th>content_id</th>\n",
              "      <th>minutes</th>\n",
              "      <th>rating</th>\n",
              "      <th>rating_transformado</th>\n",
              "    </tr>\n",
              "  </thead>\n",
              "  <tbody>\n",
              "    <tr>\n",
              "      <th>0</th>\n",
              "      <td>0</td>\n",
              "      <td>1503.0</td>\n",
              "      <td>128.0</td>\n",
              "      <td>1.019960</td>\n",
              "      <td>3.369186</td>\n",
              "    </tr>\n",
              "    <tr>\n",
              "      <th>1</th>\n",
              "      <td>0</td>\n",
              "      <td>2866.0</td>\n",
              "      <td>65.0</td>\n",
              "      <td>1.009980</td>\n",
              "      <td>2.447359</td>\n",
              "    </tr>\n",
              "    <tr>\n",
              "      <th>2</th>\n",
              "      <td>0</td>\n",
              "      <td>3438.0</td>\n",
              "      <td>79.0</td>\n",
              "      <td>1.012198</td>\n",
              "      <td>2.689496</td>\n",
              "    </tr>\n",
              "    <tr>\n",
              "      <th>3</th>\n",
              "      <td>0</td>\n",
              "      <td>3498.0</td>\n",
              "      <td>16.0</td>\n",
              "      <td>1.002218</td>\n",
              "      <td>1.380330</td>\n",
              "    </tr>\n",
              "    <tr>\n",
              "      <th>4</th>\n",
              "      <td>0</td>\n",
              "      <td>3845.0</td>\n",
              "      <td>48.0</td>\n",
              "      <td>1.007287</td>\n",
              "      <td>2.118757</td>\n",
              "    </tr>\n",
              "  </tbody>\n",
              "</table>\n",
              "</div>"
            ],
            "text/plain": [
              "   account_id  content_id  minutes    rating  rating_transformado\n",
              "0           0      1503.0    128.0  1.019960             3.369186\n",
              "1           0      2866.0     65.0  1.009980             2.447359\n",
              "2           0      3438.0     79.0  1.012198             2.689496\n",
              "3           0      3498.0     16.0  1.002218             1.380330\n",
              "4           0      3845.0     48.0  1.007287             2.118757"
            ]
          },
          "metadata": {
            "tags": []
          },
          "execution_count": 37
        }
      ]
    },
    {
      "cell_type": "code",
      "metadata": {
        "colab": {
          "base_uri": "https://localhost:8080/"
        },
        "id": "FwvLxIGG6aDn",
        "outputId": "58b4e8e3-e18b-49f3-82bc-df70a37bed5c"
      },
      "source": [
        "df_train[\"account_id\"].nunique()"
      ],
      "execution_count": null,
      "outputs": [
        {
          "output_type": "execute_result",
          "data": {
            "text/plain": [
              "113881"
            ]
          },
          "metadata": {
            "tags": []
          },
          "execution_count": 393
        }
      ]
    },
    {
      "cell_type": "code",
      "metadata": {
        "id": "qBLmKlmXqnsu"
      },
      "source": [
        "df_train.to_csv(\"df_train.csv\", index=False)"
      ],
      "execution_count": null,
      "outputs": []
    },
    {
      "cell_type": "code",
      "metadata": {
        "id": "LCgnBHaBq5mH"
      },
      "source": [
        "!cp \"df_train.csv\" \"/content/drive/MyDrive/datathon_2021_sr/df_train.csv\""
      ],
      "execution_count": null,
      "outputs": []
    },
    {
      "cell_type": "code",
      "metadata": {
        "id": "GW34V5bkrA41"
      },
      "source": [
        "import pandas as pd\n",
        "import numpy as np\n",
        "import matplotlib.pyplot as plt\n",
        "import seaborn as sns"
      ],
      "execution_count": null,
      "outputs": []
    },
    {
      "cell_type": "code",
      "metadata": {
        "id": "mnioKDkxrG-U"
      },
      "source": [
        "from google.colab import drive\n",
        "drive.mount('/content/drive')"
      ],
      "execution_count": null,
      "outputs": []
    },
    {
      "cell_type": "code",
      "metadata": {
        "colab": {
          "base_uri": "https://localhost:8080/",
          "height": 204
        },
        "id": "SWkwlwwBrIi-",
        "outputId": "ca64de86-1f15-408e-d349-7292b8b57794"
      },
      "source": [
        "df_train = pd.read_csv(\"/content/drive/MyDrive/datathon_2021_sr/df_train.csv\")\n",
        "df_train = df_train[[\"account_id\",\"content_id\",\"rating_transformado\"]]\n",
        "df_train.head()"
      ],
      "execution_count": null,
      "outputs": [
        {
          "output_type": "execute_result",
          "data": {
            "text/html": [
              "<div>\n",
              "<style scoped>\n",
              "    .dataframe tbody tr th:only-of-type {\n",
              "        vertical-align: middle;\n",
              "    }\n",
              "\n",
              "    .dataframe tbody tr th {\n",
              "        vertical-align: top;\n",
              "    }\n",
              "\n",
              "    .dataframe thead th {\n",
              "        text-align: right;\n",
              "    }\n",
              "</style>\n",
              "<table border=\"1\" class=\"dataframe\">\n",
              "  <thead>\n",
              "    <tr style=\"text-align: right;\">\n",
              "      <th></th>\n",
              "      <th>account_id</th>\n",
              "      <th>content_id</th>\n",
              "      <th>rating_transformado</th>\n",
              "    </tr>\n",
              "  </thead>\n",
              "  <tbody>\n",
              "    <tr>\n",
              "      <th>0</th>\n",
              "      <td>0</td>\n",
              "      <td>1503.0</td>\n",
              "      <td>3.369277</td>\n",
              "    </tr>\n",
              "    <tr>\n",
              "      <th>1</th>\n",
              "      <td>0</td>\n",
              "      <td>2866.0</td>\n",
              "      <td>2.447430</td>\n",
              "    </tr>\n",
              "    <tr>\n",
              "      <th>2</th>\n",
              "      <td>0</td>\n",
              "      <td>3438.0</td>\n",
              "      <td>2.689575</td>\n",
              "    </tr>\n",
              "    <tr>\n",
              "      <th>3</th>\n",
              "      <td>0</td>\n",
              "      <td>3498.0</td>\n",
              "      <td>1.380352</td>\n",
              "    </tr>\n",
              "    <tr>\n",
              "      <th>4</th>\n",
              "      <td>0</td>\n",
              "      <td>3845.0</td>\n",
              "      <td>2.118816</td>\n",
              "    </tr>\n",
              "  </tbody>\n",
              "</table>\n",
              "</div>"
            ],
            "text/plain": [
              "   account_id  content_id  rating_transformado\n",
              "0           0      1503.0             3.369277\n",
              "1           0      2866.0             2.447430\n",
              "2           0      3438.0             2.689575\n",
              "3           0      3498.0             1.380352\n",
              "4           0      3845.0             2.118816"
            ]
          },
          "metadata": {
            "tags": []
          },
          "execution_count": 2
        }
      ]
    },
    {
      "cell_type": "code",
      "metadata": {
        "colab": {
          "base_uri": "https://localhost:8080/"
        },
        "id": "PflQnEeV6eDv",
        "outputId": "d665b423-0a5e-4a44-d32b-d2bb62e859a9"
      },
      "source": [
        "df_train[\"account_id\"].nunique()"
      ],
      "execution_count": null,
      "outputs": [
        {
          "output_type": "execute_result",
          "data": {
            "text/plain": [
              "113881"
            ]
          },
          "metadata": {
            "tags": []
          },
          "execution_count": 3
        }
      ]
    },
    {
      "cell_type": "markdown",
      "metadata": {
        "id": "KuX1ZhSZXnQl"
      },
      "source": [
        "## **Matrix factorization**"
      ]
    },
    {
      "cell_type": "markdown",
      "metadata": {
        "id": "GvgkC95cF8IW"
      },
      "source": [
        "El primer prototipo es un algoritmo SVD basado en factorizacion de matrices.\n",
        "\n",
        "**SVD (Singular Value Decomposition)**\n",
        "\n",
        "Utiliza una estructura matricial en la que cada fila representa a un usuario y cada columna representa un elemento. Los elementos de esta matriz son las calificaciones que los usuarios otorgan a los elementos.\n",
        "\n",
        "La factorización de esta matriz se realiza mediante la descomposición de valores singulares. Encuentra factores de matrices a partir de la factorización de una matriz de alto nivel (usuario-elemento-calificación). La descomposición de valor singular es un método para descomponer una matriz en otras tres matrices como se indica a continuación: \n",
        "\n",
        "$$\n",
        "A = U*S*V^T\n",
        "$$\n",
        "\n",
        "Donde A es una matriz de utilidad mx n , U es una matriz singular izquierda ortogonal mx r , que representa la relación entre usuarios y factores latentes, S es una matriz diagonal rx r , que describe la fuerza de cada factor latente y V es un rx n matriz singular diagonal derecha, que indica la similitud entre ítems y factores latentes. Los factores latentes aquí son las características de los elementos\n",
        "\n",
        "En mi caso, voy a usar el algoritmo proveniente de la libreria \"surprise\", donde las predicciones tienen la siguiente forma:\n",
        "\n",
        "$$\n",
        "p = b_{ui} + q_i^T*p_u\n",
        "$$\n",
        "\n",
        "donde:\n",
        "$$\n",
        "b_{ui} = μ + b_u + b_i\n",
        "$$\n",
        "\n",
        "y la formula se traduce a \n",
        "$$\n",
        "r_{ui} = μ + b_u + b_i + q_i^T*p_u\n",
        "$$"
      ]
    },
    {
      "cell_type": "markdown",
      "metadata": {
        "id": "hYdmQBaRGIWV"
      },
      "source": [
        "La anterior formula esta basada en el modelo de matriz de factorizacion:\n",
        "Los modelos MF mapean usuarios e items\n",
        "a un espacio de factores latentes, de dimensionalidad f, tal que\n",
        "Las interacciones usuario-elemento se modelan como productos internos en\n",
        "ese espacio. Por lo tanto, cada elemento i está asociado con un vector q_i y cada usuario u está asociado con un vector q_u\n",
        "\n",
        "Para cada item i, los elementos de q_i miden el alcance del articulo para todos los factores correspondientes a los items, y obviamente los elementos de q_i seran 0 o 1.\n",
        "\n",
        "Para cada usuario u, los elementos de p_u miden el alcance del usuario para todos los factores correspondientes a los usuarios, y obviamente los elementos de p_u seran 0 o 1.\n",
        "\n",
        "Por ultimo, se calcula el producto escalar\n",
        "\n",
        "$$\n",
        "q_i^T*p_u\n",
        "$$\n",
        "\n",
        "lo que captura la interaccion del usuario con los items, y de eso se pueden ordenar las estimaciones de mayor a menor para recomendar items al usuario\n",
        "\n",
        "Sin embargo, en gran parte de las observaciones, hay una gran variacion en los ratings y esto se debe a los efectos asociados con usuarios o items, conocidos como sesgos o intercepciones, independientemente de cualquier interacción. Por ejemplo, el filtro colaborativo exhibe grandes tendencias sistemáticas para algunos usuarios que dan ratings mal altos que otros, y para algunos items\n",
        "para recibir ratings mas altos que otros. Después de todo, algunos items\n",
        "son ampliamente percibidos como mejores (o peores) que otros\n",
        "\n",
        "Por lo tanto, no sería apropiado predecir los ratings por una interacción de la forma:\n",
        "\n",
        "$$\n",
        "q_i^T*p_u\n",
        "$$\n",
        "\n",
        "El sistema debe intentar identificar la parte de estos valores que el usuario individual o los sesgos de los items pueden explicar, sometiendo solo la verdadera parte de interacción de los datos para factorizar el modelado. Una aproximación de primer orden del sesgo involucrado en la estimacion es la siguiente:\n",
        "\n",
        "$$\n",
        "b_{ui} = μ + b_u + b_i\n",
        "$$\n",
        "\n",
        "donde μ es el promedio general de los ratings, b_u y b_i son las desviaciones de los usuarios e items, respectivamente, del promedio\n",
        "\n",
        "La funcion de perdida a minimizar es la siguiente:\n",
        "\n",
        "$$\n",
        "\\sum_{r_{ui}}^{n} ((r_{ui} - \\bar{r_{ui}})^{2} + λ(b_i^{2}+b_u^{2}+||q_i||^{2}+||p_u||^{2}))\n",
        "$$\n",
        "\n",
        "La minimización se realiza mediante un descenso de gradiente estocástico muy sencillo:\n",
        "\n",
        "$$\n",
        "b_u <=  b_u + γ(e_{ui} - λb_u)\n",
        "$$\n",
        "\n",
        "$$\n",
        "b_i <=  b_i + γ(e_{ui} - λb_i)\n",
        "$$\n",
        "\n",
        "$$\n",
        "p_u <=  p_u + γ(e_{ui}*q_i - λp_u)\n",
        "$$\n",
        "\n",
        "$$\n",
        "q_i <=  q_i + γ(e_{ui}*p_u - λq_i)\n",
        "$$\n",
        "\n",
        "donde:\n",
        "\n",
        "$$\n",
        "e_{ui}=r_{ui} − \\bar{r_{ui}}\n",
        "$$\n",
        "\n",
        "Estos pasos se realizan en todos los ratings del conjunto de entrenamiento y en una n cantidad de epocas. Las líneas de base se inicializan en 0. Los factores de usuario y de elemento se inicializan aleatoriamente de acuerdo con una distribución normal, que se puede ajustar mediante los parámetros init_mean y init_std_dev.\n",
        "\n",
        "Tambien puedo definir la tasa de aprendizaje γ y el plazo de regularización λ. Ambos pueden ser diferentes para cada tipo de parámetro. De forma predeterminada, las tasas de aprendizaje se establecen en 0.005 y los términos de regularización se establecen en 0.02."
      ]
    },
    {
      "cell_type": "markdown",
      "metadata": {
        "id": "X9i1fRNAGM8N"
      },
      "source": [
        "**Surprise**"
      ]
    },
    {
      "cell_type": "code",
      "metadata": {
        "colab": {
          "base_uri": "https://localhost:8080/"
        },
        "id": "9wZcxgoVXntj",
        "outputId": "55d87ef5-c47c-4f1f-c401-6fa65ac17312"
      },
      "source": [
        "!pip install surprise"
      ],
      "execution_count": null,
      "outputs": [
        {
          "output_type": "stream",
          "text": [
            "Requirement already satisfied: surprise in /usr/local/lib/python3.7/dist-packages (0.1)\n",
            "Requirement already satisfied: scikit-surprise in /usr/local/lib/python3.7/dist-packages (from surprise) (1.1.1)\n",
            "Requirement already satisfied: joblib>=0.11 in /usr/local/lib/python3.7/dist-packages (from scikit-surprise->surprise) (1.0.1)\n",
            "Requirement already satisfied: scipy>=1.0.0 in /usr/local/lib/python3.7/dist-packages (from scikit-surprise->surprise) (1.4.1)\n",
            "Requirement already satisfied: six>=1.10.0 in /usr/local/lib/python3.7/dist-packages (from scikit-surprise->surprise) (1.15.0)\n",
            "Requirement already satisfied: numpy>=1.11.2 in /usr/local/lib/python3.7/dist-packages (from scikit-surprise->surprise) (1.19.5)\n"
          ],
          "name": "stdout"
        }
      ]
    },
    {
      "cell_type": "code",
      "metadata": {
        "id": "Ce5br9xsXrss"
      },
      "source": [
        "from surprise import Reader, Dataset, KNNBasic, SVD, NMF\n",
        "from surprise.model_selection import GridSearchCV, cross_validate\n",
        "from surprise.accuracy import rmse"
      ],
      "execution_count": null,
      "outputs": []
    },
    {
      "cell_type": "code",
      "metadata": {
        "id": "CTsYg4-8XuNk"
      },
      "source": [
        "columnas = [\"account_id\",\"content_id\",\"rating_transformado\"]"
      ],
      "execution_count": null,
      "outputs": []
    },
    {
      "cell_type": "code",
      "metadata": {
        "id": "ioohtbW7XxPw"
      },
      "source": [
        "reader = Reader(rating_scale=(1.0, 5.0))\n",
        "\n",
        "data = Dataset.load_from_df( df_train[columnas], reader = reader )"
      ],
      "execution_count": null,
      "outputs": []
    },
    {
      "cell_type": "code",
      "metadata": {
        "colab": {
          "base_uri": "https://localhost:8080/"
        },
        "id": "lQiqo2HrreX_",
        "outputId": "a804fc78-61b1-43da-b971-2ac6ed5ead0d"
      },
      "source": [
        "#algo = NMF()\n",
        "#cross_validate(data=data, algo=algo, measures=['RMSE'], cv=5, verbose=True)"
      ],
      "execution_count": null,
      "outputs": [
        {
          "output_type": "stream",
          "text": [
            "Evaluating RMSE of algorithm NMF on 5 split(s).\n",
            "\n",
            "                  Fold 1  Fold 2  Fold 3  Fold 4  Fold 5  Mean    Std     \n",
            "RMSE (testset)    1.1040  1.1073  1.1045  1.1019  1.1062  1.1048  0.0019  \n",
            "Fit time          76.54   75.77   76.99   75.59   76.08   76.20   0.51    \n",
            "Test time         2.00    2.83    3.02    3.11    2.95    2.78    0.40    \n"
          ],
          "name": "stdout"
        },
        {
          "output_type": "execute_result",
          "data": {
            "text/plain": [
              "{'fit_time': (76.542804479599,\n",
              "  75.77365636825562,\n",
              "  76.98866939544678,\n",
              "  75.59339046478271,\n",
              "  76.07928776741028),\n",
              " 'test_rmse': array([1.10400236, 1.10733661, 1.10453314, 1.10192061, 1.10621122]),\n",
              " 'test_time': (2.0011894702911377,\n",
              "  2.828463077545166,\n",
              "  3.023160457611084,\n",
              "  3.1140458583831787,\n",
              "  2.9537880420684814)}"
            ]
          },
          "metadata": {
            "tags": []
          },
          "execution_count": 47
        }
      ]
    },
    {
      "cell_type": "markdown",
      "metadata": {
        "id": "--zQRva1glVg"
      },
      "source": [
        "Evaluating RMSE of algorithm NMF on 5 split(s).\n",
        "\n",
        "                  Fold 1  Fold 2  Fold 3  Fold 4  Fold 5  Mean    Std  \n",
        "\n",
        "RMSE (testset)    1.1040  1.1073  1.1045  1.1019  1.1062  1.1048  0.0019  \n",
        "Fit time          76.54   75.77   76.99   75.59   76.08   76.20   0.51    \n",
        "Test time         2.00    2.83    3.02    3.11    2.95    2.78    0.40\n",
        "\n",
        "\n",
        "{'fit_time': (76.542804479599,\n",
        "  75.77365636825562,\n",
        "  76.98866939544678,\n",
        "  75.59339046478271,\n",
        "  76.07928776741028),\n",
        " 'test_rmse': array([1.10400236, 1.10733661, 1.10453314, 1.10192061, 1.10621122]),\n",
        " 'test_time': (2.0011894702911377,\n",
        "  2.828463077545166,\n",
        "  3.023160457611084,\n",
        "  3.1140458583831787,\n",
        "  2.9537880420684814)}"
      ]
    },
    {
      "cell_type": "code",
      "metadata": {
        "colab": {
          "base_uri": "https://localhost:8080/"
        },
        "id": "4YwP0yJbX48r",
        "outputId": "99499f00-69a6-4080-e43c-f790c0db3c2c"
      },
      "source": [
        "#param_grid = {'n_factors' : [50, 75], 'lr_all' : [0.5, 0.05], 'reg_all' : [0.06, 0.04]}\n",
        "#\n",
        "#gs = GridSearchCV(algo_class=SVD, measures=['RMSE'], param_grid=param_grid)\n",
        "#gs.fit(data)\n",
        "#\n",
        "#print('\\n###############')\n",
        "## Best RMSE score\n",
        "#print('Mejor score :', gs.best_score['rmse'])\n",
        "#\n",
        "## Combination of parameters that gave the best RMSE score\n",
        "#print('Mejores parametros :', gs.best_params['rmse'])\n",
        "#print('###############')"
      ],
      "execution_count": null,
      "outputs": [
        {
          "output_type": "stream",
          "text": [
            "\n",
            "###############\n",
            "Mejor score : 1.0254589085059953\n",
            "Mejores parametros : {'n_factors': 75, 'lr_all': 0.05, 'reg_all': 0.06}\n",
            "###############\n"
          ],
          "name": "stdout"
        }
      ]
    },
    {
      "cell_type": "markdown",
      "metadata": {
        "id": "KXD_o24_gg8A"
      },
      "source": [
        "###############\n",
        "\n",
        "Mejor score : 1.0254589085059953\n",
        "\n",
        "Mejores parametros : {'n_factors': 75, 'lr_all': 0.05, 'reg_all': 0.06}\n",
        "\n",
        "###############"
      ]
    },
    {
      "cell_type": "markdown",
      "metadata": {
        "id": "L0z0CPibG1UN"
      },
      "source": [
        "Parece que el error no bajara de 1, no es una solucion contundente y ademas no es robusta para los nuevos items o usuarios.\n",
        "\n",
        "Vamos a probar con el sistema basado en contenido......."
      ]
    },
    {
      "cell_type": "markdown",
      "metadata": {
        "id": "AvDu98L6GVQf"
      },
      "source": [
        "# **Content-Based System Recommender**"
      ]
    },
    {
      "cell_type": "markdown",
      "metadata": {
        "id": "5EDuYdCyGZCL"
      },
      "source": [
        "Necesito definir las variables que seran de utilidad para el sistema, y luego codificarlas"
      ]
    },
    {
      "cell_type": "code",
      "metadata": {
        "colab": {
          "base_uri": "https://localhost:8080/",
          "height": 564
        },
        "id": "08J-PVYE4Wj0",
        "outputId": "ae76d247-26e2-4f2a-c5a3-0f1ca5b4c669"
      },
      "source": [
        "df_metadata.head()"
      ],
      "execution_count": null,
      "outputs": [
        {
          "output_type": "execute_result",
          "data": {
            "text/html": [
              "<div>\n",
              "<style scoped>\n",
              "    .dataframe tbody tr th:only-of-type {\n",
              "        vertical-align: middle;\n",
              "    }\n",
              "\n",
              "    .dataframe tbody tr th {\n",
              "        vertical-align: top;\n",
              "    }\n",
              "\n",
              "    .dataframe thead th {\n",
              "        text-align: right;\n",
              "    }\n",
              "</style>\n",
              "<table border=\"1\" class=\"dataframe\">\n",
              "  <thead>\n",
              "    <tr style=\"text-align: right;\">\n",
              "      <th></th>\n",
              "      <th>asset_id</th>\n",
              "      <th>content_id</th>\n",
              "      <th>title</th>\n",
              "      <th>reduced_title</th>\n",
              "      <th>episode_title</th>\n",
              "      <th>show_type</th>\n",
              "      <th>released_year</th>\n",
              "      <th>country_of_origin</th>\n",
              "      <th>category</th>\n",
              "      <th>keywords</th>\n",
              "      <th>description</th>\n",
              "      <th>reduced_desc</th>\n",
              "      <th>cast_first_name</th>\n",
              "      <th>credits_first_name</th>\n",
              "      <th>run_time_min</th>\n",
              "      <th>audience</th>\n",
              "      <th>made_for_tv</th>\n",
              "      <th>close_caption</th>\n",
              "      <th>sex_rating</th>\n",
              "      <th>violence_rating</th>\n",
              "      <th>language_rating</th>\n",
              "      <th>dialog_rating</th>\n",
              "      <th>fv_rating</th>\n",
              "      <th>pay_per_view</th>\n",
              "      <th>pack_premium_1</th>\n",
              "      <th>pack_premium_2</th>\n",
              "      <th>create_date</th>\n",
              "      <th>modify_date</th>\n",
              "      <th>start_vod_date</th>\n",
              "      <th>end_vod_date</th>\n",
              "    </tr>\n",
              "  </thead>\n",
              "  <tbody>\n",
              "    <tr>\n",
              "      <th>0</th>\n",
              "      <td>15188</td>\n",
              "      <td>0.0</td>\n",
              "      <td>Ep:17 Tiempos Compulsivos</td>\n",
              "      <td>Tiempos_Compul_E17</td>\n",
              "      <td>Episodio 17</td>\n",
              "      <td>Serie</td>\n",
              "      <td>2012.0</td>\n",
              "      <td>AR</td>\n",
              "      <td>Drama</td>\n",
              "      <td>Trastornos,Médicos,Tragicómica,Telenovela,Enfe...</td>\n",
              "      <td>Esteban recibe una noticia inesperada: va a se...</td>\n",
              "      <td>Esteban recibe una noticia inesperada: va a se...</td>\n",
              "      <td>Rodrigo De la Serna, Paola Krum, Fernán Mirás,...</td>\n",
              "      <td>Daniel Barone</td>\n",
              "      <td>48.0</td>\n",
              "      <td>General</td>\n",
              "      <td>N</td>\n",
              "      <td>N</td>\n",
              "      <td>N</td>\n",
              "      <td>N</td>\n",
              "      <td>N</td>\n",
              "      <td>N</td>\n",
              "      <td>N</td>\n",
              "      <td>N</td>\n",
              "      <td>N</td>\n",
              "      <td>N</td>\n",
              "      <td>2017-12-01T10:18:15.0Z</td>\n",
              "      <td>2019-01-26T06:37:18.0Z</td>\n",
              "      <td>2017-12-01T00:00:00.0Z</td>\n",
              "      <td>2020-12-01T23:59:59.0Z</td>\n",
              "    </tr>\n",
              "    <tr>\n",
              "      <th>1</th>\n",
              "      <td>24940</td>\n",
              "      <td>1.0</td>\n",
              "      <td>7 Cajas</td>\n",
              "      <td>7_Cajas</td>\n",
              "      <td>NaN</td>\n",
              "      <td>Película</td>\n",
              "      <td>2012.0</td>\n",
              "      <td>PY</td>\n",
              "      <td>Suspenso/Acción</td>\n",
              "      <td>Latinoamérica,Pobreza,Crimen,Pandillas</td>\n",
              "      <td>Víctor trabaja como carretillero. Un día recib...</td>\n",
              "      <td>Trabajando como carretillero, Víctor recibe un...</td>\n",
              "      <td>Celso Franco, Víctor Sosa, Lali Gonzalez</td>\n",
              "      <td>Juan Carlos Maneglia</td>\n",
              "      <td>105.0</td>\n",
              "      <td>General</td>\n",
              "      <td>N</td>\n",
              "      <td>N</td>\n",
              "      <td>N</td>\n",
              "      <td>N</td>\n",
              "      <td>N</td>\n",
              "      <td>N</td>\n",
              "      <td>N</td>\n",
              "      <td>Y</td>\n",
              "      <td>N</td>\n",
              "      <td>N</td>\n",
              "      <td>2017-12-19T20:58:15.0Z</td>\n",
              "      <td>2019-09-17T19:02:03.0Z</td>\n",
              "      <td>2017-12-15T00:00:00.0Z</td>\n",
              "      <td>2022-12-14T23:59:59.0Z</td>\n",
              "    </tr>\n",
              "    <tr>\n",
              "      <th>2</th>\n",
              "      <td>21939</td>\n",
              "      <td>2.0</td>\n",
              "      <td>La Maldición de las Hormigas Gigantes</td>\n",
              "      <td>La_Maldicion_de_las</td>\n",
              "      <td>NaN</td>\n",
              "      <td>Película</td>\n",
              "      <td>2016.0</td>\n",
              "      <td>FI</td>\n",
              "      <td>Terror/Comedia</td>\n",
              "      <td>Criaturas,Plagas,Adolescentes,Fantasía,Video J...</td>\n",
              "      <td>Un grupo de motociclistas busca diversión el d...</td>\n",
              "      <td>Un grupo de motociclistas descubre un laborato...</td>\n",
              "      <td>Mark Arnold, Harry Lister Smith, Vanessa Grass...</td>\n",
              "      <td>Marko Mäkilaakso</td>\n",
              "      <td>82.0</td>\n",
              "      <td>Juvenil</td>\n",
              "      <td>Y</td>\n",
              "      <td>N</td>\n",
              "      <td>N</td>\n",
              "      <td>N</td>\n",
              "      <td>N</td>\n",
              "      <td>N</td>\n",
              "      <td>N</td>\n",
              "      <td>N</td>\n",
              "      <td>N</td>\n",
              "      <td>N</td>\n",
              "      <td>2018-02-16T13:51:07.0Z</td>\n",
              "      <td>2020-04-28T14:16:38.0Z</td>\n",
              "      <td>2018-01-25T00:00:00.0Z</td>\n",
              "      <td>2020-12-01T23:59:59.0Z</td>\n",
              "    </tr>\n",
              "    <tr>\n",
              "      <th>3</th>\n",
              "      <td>9005</td>\n",
              "      <td>3.0</td>\n",
              "      <td>Una Mujer Fantástica</td>\n",
              "      <td>Una_Mujer_Fantastic</td>\n",
              "      <td>NaN</td>\n",
              "      <td>Película</td>\n",
              "      <td>2017.0</td>\n",
              "      <td>CL</td>\n",
              "      <td>Drama</td>\n",
              "      <td>LGBT,Mujeres,Latinoamérica</td>\n",
              "      <td>Marina y Orlando están enamorados y planean un...</td>\n",
              "      <td>Marina y Orlando están enamorados. Pero cuando...</td>\n",
              "      <td>Daniela Vega, Francisco Reyes, Luis Gnecco, Am...</td>\n",
              "      <td>Sebastián Lelio</td>\n",
              "      <td>99.0</td>\n",
              "      <td>General</td>\n",
              "      <td>N</td>\n",
              "      <td>N</td>\n",
              "      <td>N</td>\n",
              "      <td>N</td>\n",
              "      <td>N</td>\n",
              "      <td>N</td>\n",
              "      <td>N</td>\n",
              "      <td>N</td>\n",
              "      <td>Y</td>\n",
              "      <td>N</td>\n",
              "      <td>2018-05-26T11:58:44.0Z</td>\n",
              "      <td>2019-11-15T03:00:23.0Z</td>\n",
              "      <td>2018-05-27T00:00:00.0Z</td>\n",
              "      <td>2021-04-30T23:59:59.0Z</td>\n",
              "    </tr>\n",
              "    <tr>\n",
              "      <th>4</th>\n",
              "      <td>7391</td>\n",
              "      <td>4.0</td>\n",
              "      <td>Star Trek</td>\n",
              "      <td>Star_Trek</td>\n",
              "      <td>NaN</td>\n",
              "      <td>Película</td>\n",
              "      <td>2009.0</td>\n",
              "      <td>US</td>\n",
              "      <td>Ciencia Ficción/Aventura</td>\n",
              "      <td>Fantasía,Galaxia,Futurismo,Aliens,Criaturas</td>\n",
              "      <td>El descarado James T. Kirk trata de estar a la...</td>\n",
              "      <td>James T. Kirk trata de estar a la altura del l...</td>\n",
              "      <td>Chris Pine, Zachary Quinto, Leonard Nimoy, Eri...</td>\n",
              "      <td>J.J. Abrams</td>\n",
              "      <td>126.0</td>\n",
              "      <td>General</td>\n",
              "      <td>N</td>\n",
              "      <td>N</td>\n",
              "      <td>N</td>\n",
              "      <td>N</td>\n",
              "      <td>N</td>\n",
              "      <td>N</td>\n",
              "      <td>N</td>\n",
              "      <td>Y</td>\n",
              "      <td>N</td>\n",
              "      <td>N</td>\n",
              "      <td>2019-05-03T20:07:24.0Z</td>\n",
              "      <td>2020-04-09T04:37:29.0Z</td>\n",
              "      <td>2019-05-02T00:00:00.0Z</td>\n",
              "      <td>2020-12-31T23:59:59.0Z</td>\n",
              "    </tr>\n",
              "  </tbody>\n",
              "</table>\n",
              "</div>"
            ],
            "text/plain": [
              "   asset_id  content_id  ...          start_vod_date            end_vod_date\n",
              "0     15188         0.0  ...  2017-12-01T00:00:00.0Z  2020-12-01T23:59:59.0Z\n",
              "1     24940         1.0  ...  2017-12-15T00:00:00.0Z  2022-12-14T23:59:59.0Z\n",
              "2     21939         2.0  ...  2018-01-25T00:00:00.0Z  2020-12-01T23:59:59.0Z\n",
              "3      9005         3.0  ...  2018-05-27T00:00:00.0Z  2021-04-30T23:59:59.0Z\n",
              "4      7391         4.0  ...  2019-05-02T00:00:00.0Z  2020-12-31T23:59:59.0Z\n",
              "\n",
              "[5 rows x 30 columns]"
            ]
          },
          "metadata": {
            "tags": []
          },
          "execution_count": 8
        }
      ]
    },
    {
      "cell_type": "markdown",
      "metadata": {
        "id": "2PSkM3mOHnIk"
      },
      "source": [
        "**Valores faltantes**"
      ]
    },
    {
      "cell_type": "code",
      "metadata": {
        "colab": {
          "base_uri": "https://localhost:8080/"
        },
        "id": "H5zNByMe9Gx4",
        "outputId": "69a064be-5c8f-4bf2-b71d-52e37c747d06"
      },
      "source": [
        "df_metadata.isnull().sum()"
      ],
      "execution_count": null,
      "outputs": [
        {
          "output_type": "execute_result",
          "data": {
            "text/plain": [
              "asset_id                  0\n",
              "content_id               21\n",
              "title                     0\n",
              "reduced_title             0\n",
              "episode_title          4147\n",
              "show_type                 4\n",
              "released_year             0\n",
              "country_of_origin         4\n",
              "category                  0\n",
              "keywords                  2\n",
              "description               2\n",
              "reduced_desc              0\n",
              "cast_first_name        8732\n",
              "credits_first_name    12554\n",
              "run_time_min              0\n",
              "audience                  1\n",
              "made_for_tv               0\n",
              "close_caption             0\n",
              "sex_rating                0\n",
              "violence_rating           0\n",
              "language_rating           0\n",
              "dialog_rating             0\n",
              "fv_rating                 0\n",
              "pay_per_view              0\n",
              "pack_premium_1            0\n",
              "pack_premium_2            0\n",
              "create_date               0\n",
              "modify_date               0\n",
              "start_vod_date            0\n",
              "end_vod_date              0\n",
              "dtype: int64"
            ]
          },
          "metadata": {
            "tags": []
          },
          "execution_count": 9
        }
      ]
    },
    {
      "cell_type": "markdown",
      "metadata": {
        "id": "4m11pyO-9gd3"
      },
      "source": [
        "Estas son las columnas que puedo descartar porque contienen faltantes y no aportan informacion relevante.\n",
        "\n",
        "\"episode_title\", \"description\", \"cast_first_name\", \"credits_first_name\""
      ]
    },
    {
      "cell_type": "code",
      "metadata": {
        "id": "IM83DeyhH-PL"
      },
      "source": [
        "df_metadata.drop(columns=[\"episode_title\", \"description\", \"cast_first_name\", \"credits_first_name\"], inplace=True)"
      ],
      "execution_count": null,
      "outputs": []
    },
    {
      "cell_type": "markdown",
      "metadata": {
        "id": "VIrT0qL0IDII"
      },
      "source": [
        "En el caso de variables categoricas, puedo imputarlas por la moda"
      ]
    },
    {
      "cell_type": "code",
      "metadata": {
        "id": "7CUulhmv9JFA"
      },
      "source": [
        "imputar_faltantes_por_moda(df_metadata,\"content_id\")\n",
        "imputar_faltantes_por_moda(df_metadata,\"show_type\")\n",
        "imputar_faltantes_por_moda(df_metadata,\"country_of_origin\")\n",
        "imputar_faltantes_por_moda(df_metadata,\"audience\")\n",
        "df_metadata[\"keywords\"].fillna('', inplace=True)"
      ],
      "execution_count": null,
      "outputs": []
    },
    {
      "cell_type": "markdown",
      "metadata": {
        "id": "P_U2DmRqIKW7"
      },
      "source": [
        "El dataset quedo limpio...."
      ]
    },
    {
      "cell_type": "code",
      "metadata": {
        "colab": {
          "base_uri": "https://localhost:8080/"
        },
        "id": "iUDdHZyb-JnE",
        "outputId": "f4066394-d385-493c-a000-987c088b7794"
      },
      "source": [
        "df_metadata.isnull().sum()"
      ],
      "execution_count": null,
      "outputs": [
        {
          "output_type": "execute_result",
          "data": {
            "text/plain": [
              "asset_id             0\n",
              "content_id           0\n",
              "title                0\n",
              "reduced_title        0\n",
              "show_type            0\n",
              "released_year        0\n",
              "country_of_origin    0\n",
              "category             0\n",
              "keywords             0\n",
              "reduced_desc         0\n",
              "run_time_min         0\n",
              "audience             0\n",
              "made_for_tv          0\n",
              "close_caption        0\n",
              "sex_rating           0\n",
              "violence_rating      0\n",
              "language_rating      0\n",
              "dialog_rating        0\n",
              "fv_rating            0\n",
              "pay_per_view         0\n",
              "pack_premium_1       0\n",
              "pack_premium_2       0\n",
              "create_date          0\n",
              "modify_date          0\n",
              "start_vod_date       0\n",
              "end_vod_date         0\n",
              "dtype: int64"
            ]
          },
          "metadata": {
            "tags": []
          },
          "execution_count": 12
        }
      ]
    },
    {
      "cell_type": "code",
      "metadata": {
        "colab": {
          "base_uri": "https://localhost:8080/"
        },
        "id": "F9vOehzE4cYl",
        "outputId": "f6a31fec-ea09-46c0-a1f6-785d54740e56"
      },
      "source": [
        "df_metadata.shape"
      ],
      "execution_count": null,
      "outputs": [
        {
          "output_type": "execute_result",
          "data": {
            "text/plain": [
              "(33144, 26)"
            ]
          },
          "metadata": {
            "tags": []
          },
          "execution_count": 13
        }
      ]
    },
    {
      "cell_type": "markdown",
      "metadata": {
        "id": "XBMy_c3g5XMm"
      },
      "source": [
        "Atributos importantes para el sistema basado en contenido:\n",
        "\n",
        "\"show_type\", \"category\", \"audience\""
      ]
    },
    {
      "cell_type": "code",
      "metadata": {
        "colab": {
          "base_uri": "https://localhost:8080/",
          "height": 204
        },
        "id": "qkjsMXaE6gER",
        "outputId": "f2f91359-2956-436f-908b-90252cb3a7f9"
      },
      "source": [
        "df_metadata[[\"show_type\", \"category\", \"audience\"]].head()"
      ],
      "execution_count": null,
      "outputs": [
        {
          "output_type": "execute_result",
          "data": {
            "text/html": [
              "<div>\n",
              "<style scoped>\n",
              "    .dataframe tbody tr th:only-of-type {\n",
              "        vertical-align: middle;\n",
              "    }\n",
              "\n",
              "    .dataframe tbody tr th {\n",
              "        vertical-align: top;\n",
              "    }\n",
              "\n",
              "    .dataframe thead th {\n",
              "        text-align: right;\n",
              "    }\n",
              "</style>\n",
              "<table border=\"1\" class=\"dataframe\">\n",
              "  <thead>\n",
              "    <tr style=\"text-align: right;\">\n",
              "      <th></th>\n",
              "      <th>show_type</th>\n",
              "      <th>category</th>\n",
              "      <th>audience</th>\n",
              "    </tr>\n",
              "  </thead>\n",
              "  <tbody>\n",
              "    <tr>\n",
              "      <th>0</th>\n",
              "      <td>Serie</td>\n",
              "      <td>Drama</td>\n",
              "      <td>General</td>\n",
              "    </tr>\n",
              "    <tr>\n",
              "      <th>1</th>\n",
              "      <td>Película</td>\n",
              "      <td>Suspenso/Acción</td>\n",
              "      <td>General</td>\n",
              "    </tr>\n",
              "    <tr>\n",
              "      <th>2</th>\n",
              "      <td>Película</td>\n",
              "      <td>Terror/Comedia</td>\n",
              "      <td>Juvenil</td>\n",
              "    </tr>\n",
              "    <tr>\n",
              "      <th>3</th>\n",
              "      <td>Película</td>\n",
              "      <td>Drama</td>\n",
              "      <td>General</td>\n",
              "    </tr>\n",
              "    <tr>\n",
              "      <th>4</th>\n",
              "      <td>Película</td>\n",
              "      <td>Ciencia Ficción/Aventura</td>\n",
              "      <td>General</td>\n",
              "    </tr>\n",
              "  </tbody>\n",
              "</table>\n",
              "</div>"
            ],
            "text/plain": [
              "  show_type                  category audience\n",
              "0     Serie                     Drama  General\n",
              "1  Película           Suspenso/Acción  General\n",
              "2  Película            Terror/Comedia  Juvenil\n",
              "3  Película                     Drama  General\n",
              "4  Película  Ciencia Ficción/Aventura  General"
            ]
          },
          "metadata": {
            "tags": []
          },
          "execution_count": 14
        }
      ]
    },
    {
      "cell_type": "markdown",
      "metadata": {
        "id": "tTjwu3LlITQp"
      },
      "source": [
        "Show type codificado"
      ]
    },
    {
      "cell_type": "code",
      "metadata": {
        "colab": {
          "base_uri": "https://localhost:8080/",
          "height": 204
        },
        "id": "yai32Y1c8XG2",
        "outputId": "37300f88-1ebd-453a-e415-060e7a84a434"
      },
      "source": [
        "df_show_type = df_metadata[\"show_type\"].copy()\n",
        "df_show_type = pd.DataFrame(df_show_type, columns=[\"show_type\"])\n",
        "df_show_type = pd.get_dummies(df_metadata[\"show_type\"], prefix='show_type_')\n",
        "df_show_type.head()"
      ],
      "execution_count": null,
      "outputs": [
        {
          "output_type": "execute_result",
          "data": {
            "text/html": [
              "<div>\n",
              "<style scoped>\n",
              "    .dataframe tbody tr th:only-of-type {\n",
              "        vertical-align: middle;\n",
              "    }\n",
              "\n",
              "    .dataframe tbody tr th {\n",
              "        vertical-align: top;\n",
              "    }\n",
              "\n",
              "    .dataframe thead th {\n",
              "        text-align: right;\n",
              "    }\n",
              "</style>\n",
              "<table border=\"1\" class=\"dataframe\">\n",
              "  <thead>\n",
              "    <tr style=\"text-align: right;\">\n",
              "      <th></th>\n",
              "      <th>show_type__Gaming</th>\n",
              "      <th>show_type__Película</th>\n",
              "      <th>show_type__Rolling</th>\n",
              "      <th>show_type__Serie</th>\n",
              "      <th>show_type__Series,Serie</th>\n",
              "      <th>show_type__TV</th>\n",
              "      <th>show_type__Tutorial</th>\n",
              "      <th>show_type__Web</th>\n",
              "    </tr>\n",
              "  </thead>\n",
              "  <tbody>\n",
              "    <tr>\n",
              "      <th>0</th>\n",
              "      <td>0</td>\n",
              "      <td>0</td>\n",
              "      <td>0</td>\n",
              "      <td>1</td>\n",
              "      <td>0</td>\n",
              "      <td>0</td>\n",
              "      <td>0</td>\n",
              "      <td>0</td>\n",
              "    </tr>\n",
              "    <tr>\n",
              "      <th>1</th>\n",
              "      <td>0</td>\n",
              "      <td>1</td>\n",
              "      <td>0</td>\n",
              "      <td>0</td>\n",
              "      <td>0</td>\n",
              "      <td>0</td>\n",
              "      <td>0</td>\n",
              "      <td>0</td>\n",
              "    </tr>\n",
              "    <tr>\n",
              "      <th>2</th>\n",
              "      <td>0</td>\n",
              "      <td>1</td>\n",
              "      <td>0</td>\n",
              "      <td>0</td>\n",
              "      <td>0</td>\n",
              "      <td>0</td>\n",
              "      <td>0</td>\n",
              "      <td>0</td>\n",
              "    </tr>\n",
              "    <tr>\n",
              "      <th>3</th>\n",
              "      <td>0</td>\n",
              "      <td>1</td>\n",
              "      <td>0</td>\n",
              "      <td>0</td>\n",
              "      <td>0</td>\n",
              "      <td>0</td>\n",
              "      <td>0</td>\n",
              "      <td>0</td>\n",
              "    </tr>\n",
              "    <tr>\n",
              "      <th>4</th>\n",
              "      <td>0</td>\n",
              "      <td>1</td>\n",
              "      <td>0</td>\n",
              "      <td>0</td>\n",
              "      <td>0</td>\n",
              "      <td>0</td>\n",
              "      <td>0</td>\n",
              "      <td>0</td>\n",
              "    </tr>\n",
              "  </tbody>\n",
              "</table>\n",
              "</div>"
            ],
            "text/plain": [
              "   show_type__Gaming  show_type__Película  ...  show_type__Tutorial  show_type__Web\n",
              "0                  0                    0  ...                    0               0\n",
              "1                  0                    1  ...                    0               0\n",
              "2                  0                    1  ...                    0               0\n",
              "3                  0                    1  ...                    0               0\n",
              "4                  0                    1  ...                    0               0\n",
              "\n",
              "[5 rows x 8 columns]"
            ]
          },
          "metadata": {
            "tags": []
          },
          "execution_count": 15
        }
      ]
    },
    {
      "cell_type": "markdown",
      "metadata": {
        "id": "04B9Doz3IWLE"
      },
      "source": [
        "Audience codificado"
      ]
    },
    {
      "cell_type": "code",
      "metadata": {
        "colab": {
          "base_uri": "https://localhost:8080/",
          "height": 204
        },
        "id": "a5lW2zCC-e-x",
        "outputId": "ed340764-0883-4f90-c265-6111359704af"
      },
      "source": [
        "df_audience = df_metadata[\"audience\"].copy()\n",
        "df_audience = pd.DataFrame(df_audience, columns=[\"audience\"])\n",
        "df_audience = pd.get_dummies(df_metadata[\"audience\"], prefix='aud_')\n",
        "df_audience.head()"
      ],
      "execution_count": null,
      "outputs": [
        {
          "output_type": "execute_result",
          "data": {
            "text/html": [
              "<div>\n",
              "<style scoped>\n",
              "    .dataframe tbody tr th:only-of-type {\n",
              "        vertical-align: middle;\n",
              "    }\n",
              "\n",
              "    .dataframe tbody tr th {\n",
              "        vertical-align: top;\n",
              "    }\n",
              "\n",
              "    .dataframe thead th {\n",
              "        text-align: right;\n",
              "    }\n",
              "</style>\n",
              "<table border=\"1\" class=\"dataframe\">\n",
              "  <thead>\n",
              "    <tr style=\"text-align: right;\">\n",
              "      <th></th>\n",
              "      <th>aud__Familiar</th>\n",
              "      <th>aud__Gaming</th>\n",
              "      <th>aud__General</th>\n",
              "      <th>aud__Hombres</th>\n",
              "      <th>aud__Juvenil</th>\n",
              "      <th>aud__Mujeres</th>\n",
              "      <th>aud__NIños</th>\n",
              "      <th>aud__Niños</th>\n",
              "      <th>aud__Preescolar</th>\n",
              "      <th>aud__Teens</th>\n",
              "    </tr>\n",
              "  </thead>\n",
              "  <tbody>\n",
              "    <tr>\n",
              "      <th>0</th>\n",
              "      <td>0</td>\n",
              "      <td>0</td>\n",
              "      <td>1</td>\n",
              "      <td>0</td>\n",
              "      <td>0</td>\n",
              "      <td>0</td>\n",
              "      <td>0</td>\n",
              "      <td>0</td>\n",
              "      <td>0</td>\n",
              "      <td>0</td>\n",
              "    </tr>\n",
              "    <tr>\n",
              "      <th>1</th>\n",
              "      <td>0</td>\n",
              "      <td>0</td>\n",
              "      <td>1</td>\n",
              "      <td>0</td>\n",
              "      <td>0</td>\n",
              "      <td>0</td>\n",
              "      <td>0</td>\n",
              "      <td>0</td>\n",
              "      <td>0</td>\n",
              "      <td>0</td>\n",
              "    </tr>\n",
              "    <tr>\n",
              "      <th>2</th>\n",
              "      <td>0</td>\n",
              "      <td>0</td>\n",
              "      <td>0</td>\n",
              "      <td>0</td>\n",
              "      <td>1</td>\n",
              "      <td>0</td>\n",
              "      <td>0</td>\n",
              "      <td>0</td>\n",
              "      <td>0</td>\n",
              "      <td>0</td>\n",
              "    </tr>\n",
              "    <tr>\n",
              "      <th>3</th>\n",
              "      <td>0</td>\n",
              "      <td>0</td>\n",
              "      <td>1</td>\n",
              "      <td>0</td>\n",
              "      <td>0</td>\n",
              "      <td>0</td>\n",
              "      <td>0</td>\n",
              "      <td>0</td>\n",
              "      <td>0</td>\n",
              "      <td>0</td>\n",
              "    </tr>\n",
              "    <tr>\n",
              "      <th>4</th>\n",
              "      <td>0</td>\n",
              "      <td>0</td>\n",
              "      <td>1</td>\n",
              "      <td>0</td>\n",
              "      <td>0</td>\n",
              "      <td>0</td>\n",
              "      <td>0</td>\n",
              "      <td>0</td>\n",
              "      <td>0</td>\n",
              "      <td>0</td>\n",
              "    </tr>\n",
              "  </tbody>\n",
              "</table>\n",
              "</div>"
            ],
            "text/plain": [
              "   aud__Familiar  aud__Gaming  ...  aud__Preescolar  aud__Teens\n",
              "0              0            0  ...                0           0\n",
              "1              0            0  ...                0           0\n",
              "2              0            0  ...                0           0\n",
              "3              0            0  ...                0           0\n",
              "4              0            0  ...                0           0\n",
              "\n",
              "[5 rows x 10 columns]"
            ]
          },
          "metadata": {
            "tags": []
          },
          "execution_count": 16
        }
      ]
    },
    {
      "cell_type": "markdown",
      "metadata": {
        "id": "xeNl6FTcIYfe"
      },
      "source": [
        "Concatenacion de show type y audience"
      ]
    },
    {
      "cell_type": "code",
      "metadata": {
        "colab": {
          "base_uri": "https://localhost:8080/",
          "height": 224
        },
        "id": "FvF8WlQO-31l",
        "outputId": "55c6dec5-8aa7-41af-f8f2-9e7de40c8ba1"
      },
      "source": [
        "df_half = pd.concat([df_show_type,df_audience], axis=1)\n",
        "df_half.head()"
      ],
      "execution_count": null,
      "outputs": [
        {
          "output_type": "execute_result",
          "data": {
            "text/html": [
              "<div>\n",
              "<style scoped>\n",
              "    .dataframe tbody tr th:only-of-type {\n",
              "        vertical-align: middle;\n",
              "    }\n",
              "\n",
              "    .dataframe tbody tr th {\n",
              "        vertical-align: top;\n",
              "    }\n",
              "\n",
              "    .dataframe thead th {\n",
              "        text-align: right;\n",
              "    }\n",
              "</style>\n",
              "<table border=\"1\" class=\"dataframe\">\n",
              "  <thead>\n",
              "    <tr style=\"text-align: right;\">\n",
              "      <th></th>\n",
              "      <th>show_type__Gaming</th>\n",
              "      <th>show_type__Película</th>\n",
              "      <th>show_type__Rolling</th>\n",
              "      <th>show_type__Serie</th>\n",
              "      <th>show_type__Series,Serie</th>\n",
              "      <th>show_type__TV</th>\n",
              "      <th>show_type__Tutorial</th>\n",
              "      <th>show_type__Web</th>\n",
              "      <th>aud__Familiar</th>\n",
              "      <th>aud__Gaming</th>\n",
              "      <th>aud__General</th>\n",
              "      <th>aud__Hombres</th>\n",
              "      <th>aud__Juvenil</th>\n",
              "      <th>aud__Mujeres</th>\n",
              "      <th>aud__NIños</th>\n",
              "      <th>aud__Niños</th>\n",
              "      <th>aud__Preescolar</th>\n",
              "      <th>aud__Teens</th>\n",
              "    </tr>\n",
              "  </thead>\n",
              "  <tbody>\n",
              "    <tr>\n",
              "      <th>0</th>\n",
              "      <td>0</td>\n",
              "      <td>0</td>\n",
              "      <td>0</td>\n",
              "      <td>1</td>\n",
              "      <td>0</td>\n",
              "      <td>0</td>\n",
              "      <td>0</td>\n",
              "      <td>0</td>\n",
              "      <td>0</td>\n",
              "      <td>0</td>\n",
              "      <td>1</td>\n",
              "      <td>0</td>\n",
              "      <td>0</td>\n",
              "      <td>0</td>\n",
              "      <td>0</td>\n",
              "      <td>0</td>\n",
              "      <td>0</td>\n",
              "      <td>0</td>\n",
              "    </tr>\n",
              "    <tr>\n",
              "      <th>1</th>\n",
              "      <td>0</td>\n",
              "      <td>1</td>\n",
              "      <td>0</td>\n",
              "      <td>0</td>\n",
              "      <td>0</td>\n",
              "      <td>0</td>\n",
              "      <td>0</td>\n",
              "      <td>0</td>\n",
              "      <td>0</td>\n",
              "      <td>0</td>\n",
              "      <td>1</td>\n",
              "      <td>0</td>\n",
              "      <td>0</td>\n",
              "      <td>0</td>\n",
              "      <td>0</td>\n",
              "      <td>0</td>\n",
              "      <td>0</td>\n",
              "      <td>0</td>\n",
              "    </tr>\n",
              "    <tr>\n",
              "      <th>2</th>\n",
              "      <td>0</td>\n",
              "      <td>1</td>\n",
              "      <td>0</td>\n",
              "      <td>0</td>\n",
              "      <td>0</td>\n",
              "      <td>0</td>\n",
              "      <td>0</td>\n",
              "      <td>0</td>\n",
              "      <td>0</td>\n",
              "      <td>0</td>\n",
              "      <td>0</td>\n",
              "      <td>0</td>\n",
              "      <td>1</td>\n",
              "      <td>0</td>\n",
              "      <td>0</td>\n",
              "      <td>0</td>\n",
              "      <td>0</td>\n",
              "      <td>0</td>\n",
              "    </tr>\n",
              "    <tr>\n",
              "      <th>3</th>\n",
              "      <td>0</td>\n",
              "      <td>1</td>\n",
              "      <td>0</td>\n",
              "      <td>0</td>\n",
              "      <td>0</td>\n",
              "      <td>0</td>\n",
              "      <td>0</td>\n",
              "      <td>0</td>\n",
              "      <td>0</td>\n",
              "      <td>0</td>\n",
              "      <td>1</td>\n",
              "      <td>0</td>\n",
              "      <td>0</td>\n",
              "      <td>0</td>\n",
              "      <td>0</td>\n",
              "      <td>0</td>\n",
              "      <td>0</td>\n",
              "      <td>0</td>\n",
              "    </tr>\n",
              "    <tr>\n",
              "      <th>4</th>\n",
              "      <td>0</td>\n",
              "      <td>1</td>\n",
              "      <td>0</td>\n",
              "      <td>0</td>\n",
              "      <td>0</td>\n",
              "      <td>0</td>\n",
              "      <td>0</td>\n",
              "      <td>0</td>\n",
              "      <td>0</td>\n",
              "      <td>0</td>\n",
              "      <td>1</td>\n",
              "      <td>0</td>\n",
              "      <td>0</td>\n",
              "      <td>0</td>\n",
              "      <td>0</td>\n",
              "      <td>0</td>\n",
              "      <td>0</td>\n",
              "      <td>0</td>\n",
              "    </tr>\n",
              "  </tbody>\n",
              "</table>\n",
              "</div>"
            ],
            "text/plain": [
              "   show_type__Gaming  show_type__Película  ...  aud__Preescolar  aud__Teens\n",
              "0                  0                    0  ...                0           0\n",
              "1                  0                    1  ...                0           0\n",
              "2                  0                    1  ...                0           0\n",
              "3                  0                    1  ...                0           0\n",
              "4                  0                    1  ...                0           0\n",
              "\n",
              "[5 rows x 18 columns]"
            ]
          },
          "metadata": {
            "tags": []
          },
          "execution_count": 17
        }
      ]
    },
    {
      "cell_type": "markdown",
      "metadata": {
        "id": "BtypL2seIe8K"
      },
      "source": [
        "Necesito conocer todas las categorias, y codificar los registros como columnas binarias, tal como en los casos anteriores"
      ]
    },
    {
      "cell_type": "code",
      "metadata": {
        "id": "n3VsP9Wf6qIZ"
      },
      "source": [
        "categories = set()"
      ],
      "execution_count": null,
      "outputs": []
    },
    {
      "cell_type": "code",
      "metadata": {
        "colab": {
          "base_uri": "https://localhost:8080/"
        },
        "id": "29KJNpP06ta1",
        "outputId": "72b98d51-3030-4971-a2fd-f451f3aebc8d"
      },
      "source": [
        "df_metadata['category'].apply(lambda item: [categories.add('cat_'+x) for x in str(item).split('/')])"
      ],
      "execution_count": null,
      "outputs": [
        {
          "output_type": "execute_result",
          "data": {
            "text/plain": [
              "0              [None]\n",
              "1        [None, None]\n",
              "2        [None, None]\n",
              "3              [None]\n",
              "4        [None, None]\n",
              "             ...     \n",
              "33139    [None, None]\n",
              "33140    [None, None]\n",
              "33141    [None, None]\n",
              "33142    [None, None]\n",
              "33143    [None, None]\n",
              "Name: category, Length: 33144, dtype: object"
            ]
          },
          "metadata": {
            "tags": []
          },
          "execution_count": 19
        }
      ]
    },
    {
      "cell_type": "code",
      "metadata": {
        "colab": {
          "base_uri": "https://localhost:8080/"
        },
        "id": "-y7U0EPD7Nd_",
        "outputId": "ed6c6f55-bda0-4e45-8580-adf6da6999c9"
      },
      "source": [
        "len(categories)"
      ],
      "execution_count": null,
      "outputs": [
        {
          "output_type": "execute_result",
          "data": {
            "text/plain": [
              "52"
            ]
          },
          "metadata": {
            "tags": []
          },
          "execution_count": 20
        }
      ]
    },
    {
      "cell_type": "code",
      "metadata": {
        "colab": {
          "base_uri": "https://localhost:8080/"
        },
        "id": "kLaBcSYY7IGl",
        "outputId": "3dd1647e-a9f7-4fd2-b8c1-821698e2afbe"
      },
      "source": [
        "categories = {x for x in categories if pd.notna(x) or x != ''}\n",
        "categories.discard('cat_')\n",
        "categories.discard('nan')\n",
        "len(categories)"
      ],
      "execution_count": null,
      "outputs": [
        {
          "output_type": "execute_result",
          "data": {
            "text/plain": [
              "52"
            ]
          },
          "metadata": {
            "tags": []
          },
          "execution_count": 21
        }
      ]
    },
    {
      "cell_type": "markdown",
      "metadata": {
        "id": "cq5OoCvZIz-a"
      },
      "source": [
        "Dataframe de categorias codificadas"
      ]
    },
    {
      "cell_type": "code",
      "metadata": {
        "colab": {
          "base_uri": "https://localhost:8080/",
          "height": 86
        },
        "id": "oXF0Sjth_wqj",
        "outputId": "9c3ce52a-2d84-46b6-d12a-4bb37551fca6"
      },
      "source": [
        "categories_df = pd.DataFrame(columns=categories)\n",
        "categories_df.head()"
      ],
      "execution_count": null,
      "outputs": [
        {
          "output_type": "execute_result",
          "data": {
            "text/html": [
              "<div>\n",
              "<style scoped>\n",
              "    .dataframe tbody tr th:only-of-type {\n",
              "        vertical-align: middle;\n",
              "    }\n",
              "\n",
              "    .dataframe tbody tr th {\n",
              "        vertical-align: top;\n",
              "    }\n",
              "\n",
              "    .dataframe thead th {\n",
              "        text-align: right;\n",
              "    }\n",
              "</style>\n",
              "<table border=\"1\" class=\"dataframe\">\n",
              "  <thead>\n",
              "    <tr style=\"text-align: right;\">\n",
              "      <th></th>\n",
              "      <th>cat_Interés General</th>\n",
              "      <th>cat_Religión</th>\n",
              "      <th>cat_Investigación</th>\n",
              "      <th>cat_Dibujos animados</th>\n",
              "      <th>cat_Cultura</th>\n",
              "      <th>cat_Infantil, Comedia</th>\n",
              "      <th>cat_Naturaleza</th>\n",
              "      <th>cat_Aventuras</th>\n",
              "      <th>cat_Crimen</th>\n",
              "      <th>cat_Policial</th>\n",
              "      <th>cat_Comedia</th>\n",
              "      <th>cat_Animales</th>\n",
              "      <th>cat_Ciencia Ficción</th>\n",
              "      <th>cat_Musical</th>\n",
              "      <th>cat_Romance</th>\n",
              "      <th>cat_Cocina</th>\n",
              "      <th>cat_Western</th>\n",
              "      <th>cat_Moda</th>\n",
              "      <th>cat_Dibujos Animados</th>\n",
              "      <th>cat_Entretenimiento</th>\n",
              "      <th>cat_Fantasía</th>\n",
              "      <th>cat_Humor</th>\n",
              "      <th>cat_Familiar</th>\n",
              "      <th>cat_Viajes</th>\n",
              "      <th>cat_Música</th>\n",
              "      <th>cat_Terror</th>\n",
              "      <th>cat_Aventura</th>\n",
              "      <th>cat_Periodístico</th>\n",
              "      <th>cat_Tutoriales</th>\n",
              "      <th>cat_Entrevistas</th>\n",
              "      <th>cat_Teatro</th>\n",
              "      <th>cat_Accion</th>\n",
              "      <th>cat_Decodificador Flow</th>\n",
              "      <th>cat_Competencia</th>\n",
              "      <th>cat_Historia</th>\n",
              "      <th>cat_Suspenso</th>\n",
              "      <th>cat_Ciencia ficción</th>\n",
              "      <th>cat_Documental</th>\n",
              "      <th>cat_Biografía</th>\n",
              "      <th>cat_Magazine</th>\n",
              "      <th>cat_Deporte</th>\n",
              "      <th>cat_Restauración</th>\n",
              "      <th>cat_Acción</th>\n",
              "      <th>cat_Ciencia</th>\n",
              "      <th>cat_Espectáculo</th>\n",
              "      <th>cat_Animación</th>\n",
              "      <th>cat_Drama</th>\n",
              "      <th>cat_Familia</th>\n",
              "      <th>cat_Bélico</th>\n",
              "      <th>cat_Reality</th>\n",
              "      <th>cat_Político</th>\n",
              "      <th>cat_Infantil</th>\n",
              "    </tr>\n",
              "  </thead>\n",
              "  <tbody>\n",
              "  </tbody>\n",
              "</table>\n",
              "</div>"
            ],
            "text/plain": [
              "Empty DataFrame\n",
              "Columns: [cat_Interés General, cat_Religión, cat_Investigación, cat_Dibujos animados, cat_Cultura, cat_Infantil, Comedia, cat_Naturaleza, cat_Aventuras, cat_Crimen, cat_Policial, cat_Comedia, cat_Animales, cat_Ciencia Ficción, cat_Musical, cat_Romance, cat_Cocina, cat_Western, cat_Moda, cat_Dibujos Animados, cat_Entretenimiento, cat_Fantasía, cat_Humor, cat_Familiar, cat_Viajes, cat_Música, cat_Terror, cat_Aventura, cat_Periodístico, cat_Tutoriales, cat_Entrevistas, cat_Teatro, cat_Accion, cat_Decodificador Flow, cat_Competencia, cat_Historia, cat_Suspenso, cat_Ciencia ficción, cat_Documental, cat_Biografía, cat_Magazine, cat_Deporte, cat_Restauración, cat_Acción, cat_Ciencia, cat_Espectáculo, cat_Animación, cat_Drama, cat_Familia, cat_Bélico, cat_Reality, cat_Político, cat_Infantil]\n",
              "Index: []"
            ]
          },
          "metadata": {
            "tags": []
          },
          "execution_count": 22
        }
      ]
    },
    {
      "cell_type": "markdown",
      "metadata": {
        "id": "94KLi2ByI4-v"
      },
      "source": [
        "Voy a recorrer la columna \"category\", crear una lista de valores por cada fila, dentro de esa lista guardare la codificacion de las categorias en la fila particular"
      ]
    },
    {
      "cell_type": "code",
      "metadata": {
        "id": "UPX1VzSAABdk"
      },
      "source": [
        "cates  = df_metadata['category']\n",
        "col_names = categories_df.columns\n",
        "cat_features = []\n",
        "for i,cat in enumerate(cates): \n",
        "    if pd.notna(cat):\n",
        "        feats = cat.split('/')                         \n",
        "        row = np.zeros(len(categories))\n",
        "        for feat in feats:\n",
        "            feat = 'cat_'+feat\n",
        "            if feat != '':\n",
        "                if feat in col_names:\n",
        "                  index = np.where(col_names == feat)[0][0] #index            \n",
        "                  row[index] = 1\n",
        "        cat_features.append(row)"
      ],
      "execution_count": null,
      "outputs": []
    },
    {
      "cell_type": "code",
      "metadata": {
        "colab": {
          "base_uri": "https://localhost:8080/",
          "height": 241
        },
        "id": "eofWOoIXBxGq",
        "outputId": "b3cacd9a-f14b-43fe-d331-e8d6bdc08c60"
      },
      "source": [
        "categories_df = pd.DataFrame(cat_features,columns= categories)\n",
        "categories_df.head()"
      ],
      "execution_count": null,
      "outputs": [
        {
          "output_type": "execute_result",
          "data": {
            "text/html": [
              "<div>\n",
              "<style scoped>\n",
              "    .dataframe tbody tr th:only-of-type {\n",
              "        vertical-align: middle;\n",
              "    }\n",
              "\n",
              "    .dataframe tbody tr th {\n",
              "        vertical-align: top;\n",
              "    }\n",
              "\n",
              "    .dataframe thead th {\n",
              "        text-align: right;\n",
              "    }\n",
              "</style>\n",
              "<table border=\"1\" class=\"dataframe\">\n",
              "  <thead>\n",
              "    <tr style=\"text-align: right;\">\n",
              "      <th></th>\n",
              "      <th>cat_Interés General</th>\n",
              "      <th>cat_Religión</th>\n",
              "      <th>cat_Investigación</th>\n",
              "      <th>cat_Dibujos animados</th>\n",
              "      <th>cat_Cultura</th>\n",
              "      <th>cat_Infantil, Comedia</th>\n",
              "      <th>cat_Naturaleza</th>\n",
              "      <th>cat_Aventuras</th>\n",
              "      <th>cat_Crimen</th>\n",
              "      <th>cat_Policial</th>\n",
              "      <th>cat_Comedia</th>\n",
              "      <th>cat_Animales</th>\n",
              "      <th>cat_Ciencia Ficción</th>\n",
              "      <th>cat_Musical</th>\n",
              "      <th>cat_Romance</th>\n",
              "      <th>cat_Cocina</th>\n",
              "      <th>cat_Western</th>\n",
              "      <th>cat_Moda</th>\n",
              "      <th>cat_Dibujos Animados</th>\n",
              "      <th>cat_Entretenimiento</th>\n",
              "      <th>cat_Fantasía</th>\n",
              "      <th>cat_Humor</th>\n",
              "      <th>cat_Familiar</th>\n",
              "      <th>cat_Viajes</th>\n",
              "      <th>cat_Música</th>\n",
              "      <th>cat_Terror</th>\n",
              "      <th>cat_Aventura</th>\n",
              "      <th>cat_Periodístico</th>\n",
              "      <th>cat_Tutoriales</th>\n",
              "      <th>cat_Entrevistas</th>\n",
              "      <th>cat_Teatro</th>\n",
              "      <th>cat_Accion</th>\n",
              "      <th>cat_Decodificador Flow</th>\n",
              "      <th>cat_Competencia</th>\n",
              "      <th>cat_Historia</th>\n",
              "      <th>cat_Suspenso</th>\n",
              "      <th>cat_Ciencia ficción</th>\n",
              "      <th>cat_Documental</th>\n",
              "      <th>cat_Biografía</th>\n",
              "      <th>cat_Magazine</th>\n",
              "      <th>cat_Deporte</th>\n",
              "      <th>cat_Restauración</th>\n",
              "      <th>cat_Acción</th>\n",
              "      <th>cat_Ciencia</th>\n",
              "      <th>cat_Espectáculo</th>\n",
              "      <th>cat_Animación</th>\n",
              "      <th>cat_Drama</th>\n",
              "      <th>cat_Familia</th>\n",
              "      <th>cat_Bélico</th>\n",
              "      <th>cat_Reality</th>\n",
              "      <th>cat_Político</th>\n",
              "      <th>cat_Infantil</th>\n",
              "    </tr>\n",
              "  </thead>\n",
              "  <tbody>\n",
              "    <tr>\n",
              "      <th>0</th>\n",
              "      <td>0.0</td>\n",
              "      <td>0.0</td>\n",
              "      <td>0.0</td>\n",
              "      <td>0.0</td>\n",
              "      <td>0.0</td>\n",
              "      <td>0.0</td>\n",
              "      <td>0.0</td>\n",
              "      <td>0.0</td>\n",
              "      <td>0.0</td>\n",
              "      <td>0.0</td>\n",
              "      <td>0.0</td>\n",
              "      <td>0.0</td>\n",
              "      <td>0.0</td>\n",
              "      <td>0.0</td>\n",
              "      <td>0.0</td>\n",
              "      <td>0.0</td>\n",
              "      <td>0.0</td>\n",
              "      <td>0.0</td>\n",
              "      <td>0.0</td>\n",
              "      <td>0.0</td>\n",
              "      <td>0.0</td>\n",
              "      <td>0.0</td>\n",
              "      <td>0.0</td>\n",
              "      <td>0.0</td>\n",
              "      <td>0.0</td>\n",
              "      <td>0.0</td>\n",
              "      <td>0.0</td>\n",
              "      <td>0.0</td>\n",
              "      <td>0.0</td>\n",
              "      <td>0.0</td>\n",
              "      <td>0.0</td>\n",
              "      <td>0.0</td>\n",
              "      <td>0.0</td>\n",
              "      <td>0.0</td>\n",
              "      <td>0.0</td>\n",
              "      <td>0.0</td>\n",
              "      <td>0.0</td>\n",
              "      <td>0.0</td>\n",
              "      <td>0.0</td>\n",
              "      <td>0.0</td>\n",
              "      <td>0.0</td>\n",
              "      <td>0.0</td>\n",
              "      <td>0.0</td>\n",
              "      <td>0.0</td>\n",
              "      <td>0.0</td>\n",
              "      <td>0.0</td>\n",
              "      <td>1.0</td>\n",
              "      <td>0.0</td>\n",
              "      <td>0.0</td>\n",
              "      <td>0.0</td>\n",
              "      <td>0.0</td>\n",
              "      <td>0.0</td>\n",
              "    </tr>\n",
              "    <tr>\n",
              "      <th>1</th>\n",
              "      <td>0.0</td>\n",
              "      <td>0.0</td>\n",
              "      <td>0.0</td>\n",
              "      <td>0.0</td>\n",
              "      <td>0.0</td>\n",
              "      <td>0.0</td>\n",
              "      <td>0.0</td>\n",
              "      <td>0.0</td>\n",
              "      <td>0.0</td>\n",
              "      <td>0.0</td>\n",
              "      <td>0.0</td>\n",
              "      <td>0.0</td>\n",
              "      <td>0.0</td>\n",
              "      <td>0.0</td>\n",
              "      <td>0.0</td>\n",
              "      <td>0.0</td>\n",
              "      <td>0.0</td>\n",
              "      <td>0.0</td>\n",
              "      <td>0.0</td>\n",
              "      <td>0.0</td>\n",
              "      <td>0.0</td>\n",
              "      <td>0.0</td>\n",
              "      <td>0.0</td>\n",
              "      <td>0.0</td>\n",
              "      <td>0.0</td>\n",
              "      <td>0.0</td>\n",
              "      <td>0.0</td>\n",
              "      <td>0.0</td>\n",
              "      <td>0.0</td>\n",
              "      <td>0.0</td>\n",
              "      <td>0.0</td>\n",
              "      <td>0.0</td>\n",
              "      <td>0.0</td>\n",
              "      <td>0.0</td>\n",
              "      <td>0.0</td>\n",
              "      <td>1.0</td>\n",
              "      <td>0.0</td>\n",
              "      <td>0.0</td>\n",
              "      <td>0.0</td>\n",
              "      <td>0.0</td>\n",
              "      <td>0.0</td>\n",
              "      <td>0.0</td>\n",
              "      <td>1.0</td>\n",
              "      <td>0.0</td>\n",
              "      <td>0.0</td>\n",
              "      <td>0.0</td>\n",
              "      <td>0.0</td>\n",
              "      <td>0.0</td>\n",
              "      <td>0.0</td>\n",
              "      <td>0.0</td>\n",
              "      <td>0.0</td>\n",
              "      <td>0.0</td>\n",
              "    </tr>\n",
              "    <tr>\n",
              "      <th>2</th>\n",
              "      <td>0.0</td>\n",
              "      <td>0.0</td>\n",
              "      <td>0.0</td>\n",
              "      <td>0.0</td>\n",
              "      <td>0.0</td>\n",
              "      <td>0.0</td>\n",
              "      <td>0.0</td>\n",
              "      <td>0.0</td>\n",
              "      <td>0.0</td>\n",
              "      <td>0.0</td>\n",
              "      <td>1.0</td>\n",
              "      <td>0.0</td>\n",
              "      <td>0.0</td>\n",
              "      <td>0.0</td>\n",
              "      <td>0.0</td>\n",
              "      <td>0.0</td>\n",
              "      <td>0.0</td>\n",
              "      <td>0.0</td>\n",
              "      <td>0.0</td>\n",
              "      <td>0.0</td>\n",
              "      <td>0.0</td>\n",
              "      <td>0.0</td>\n",
              "      <td>0.0</td>\n",
              "      <td>0.0</td>\n",
              "      <td>0.0</td>\n",
              "      <td>1.0</td>\n",
              "      <td>0.0</td>\n",
              "      <td>0.0</td>\n",
              "      <td>0.0</td>\n",
              "      <td>0.0</td>\n",
              "      <td>0.0</td>\n",
              "      <td>0.0</td>\n",
              "      <td>0.0</td>\n",
              "      <td>0.0</td>\n",
              "      <td>0.0</td>\n",
              "      <td>0.0</td>\n",
              "      <td>0.0</td>\n",
              "      <td>0.0</td>\n",
              "      <td>0.0</td>\n",
              "      <td>0.0</td>\n",
              "      <td>0.0</td>\n",
              "      <td>0.0</td>\n",
              "      <td>0.0</td>\n",
              "      <td>0.0</td>\n",
              "      <td>0.0</td>\n",
              "      <td>0.0</td>\n",
              "      <td>0.0</td>\n",
              "      <td>0.0</td>\n",
              "      <td>0.0</td>\n",
              "      <td>0.0</td>\n",
              "      <td>0.0</td>\n",
              "      <td>0.0</td>\n",
              "    </tr>\n",
              "    <tr>\n",
              "      <th>3</th>\n",
              "      <td>0.0</td>\n",
              "      <td>0.0</td>\n",
              "      <td>0.0</td>\n",
              "      <td>0.0</td>\n",
              "      <td>0.0</td>\n",
              "      <td>0.0</td>\n",
              "      <td>0.0</td>\n",
              "      <td>0.0</td>\n",
              "      <td>0.0</td>\n",
              "      <td>0.0</td>\n",
              "      <td>0.0</td>\n",
              "      <td>0.0</td>\n",
              "      <td>0.0</td>\n",
              "      <td>0.0</td>\n",
              "      <td>0.0</td>\n",
              "      <td>0.0</td>\n",
              "      <td>0.0</td>\n",
              "      <td>0.0</td>\n",
              "      <td>0.0</td>\n",
              "      <td>0.0</td>\n",
              "      <td>0.0</td>\n",
              "      <td>0.0</td>\n",
              "      <td>0.0</td>\n",
              "      <td>0.0</td>\n",
              "      <td>0.0</td>\n",
              "      <td>0.0</td>\n",
              "      <td>0.0</td>\n",
              "      <td>0.0</td>\n",
              "      <td>0.0</td>\n",
              "      <td>0.0</td>\n",
              "      <td>0.0</td>\n",
              "      <td>0.0</td>\n",
              "      <td>0.0</td>\n",
              "      <td>0.0</td>\n",
              "      <td>0.0</td>\n",
              "      <td>0.0</td>\n",
              "      <td>0.0</td>\n",
              "      <td>0.0</td>\n",
              "      <td>0.0</td>\n",
              "      <td>0.0</td>\n",
              "      <td>0.0</td>\n",
              "      <td>0.0</td>\n",
              "      <td>0.0</td>\n",
              "      <td>0.0</td>\n",
              "      <td>0.0</td>\n",
              "      <td>0.0</td>\n",
              "      <td>1.0</td>\n",
              "      <td>0.0</td>\n",
              "      <td>0.0</td>\n",
              "      <td>0.0</td>\n",
              "      <td>0.0</td>\n",
              "      <td>0.0</td>\n",
              "    </tr>\n",
              "    <tr>\n",
              "      <th>4</th>\n",
              "      <td>0.0</td>\n",
              "      <td>0.0</td>\n",
              "      <td>0.0</td>\n",
              "      <td>0.0</td>\n",
              "      <td>0.0</td>\n",
              "      <td>0.0</td>\n",
              "      <td>0.0</td>\n",
              "      <td>0.0</td>\n",
              "      <td>0.0</td>\n",
              "      <td>0.0</td>\n",
              "      <td>0.0</td>\n",
              "      <td>0.0</td>\n",
              "      <td>1.0</td>\n",
              "      <td>0.0</td>\n",
              "      <td>0.0</td>\n",
              "      <td>0.0</td>\n",
              "      <td>0.0</td>\n",
              "      <td>0.0</td>\n",
              "      <td>0.0</td>\n",
              "      <td>0.0</td>\n",
              "      <td>0.0</td>\n",
              "      <td>0.0</td>\n",
              "      <td>0.0</td>\n",
              "      <td>0.0</td>\n",
              "      <td>0.0</td>\n",
              "      <td>0.0</td>\n",
              "      <td>1.0</td>\n",
              "      <td>0.0</td>\n",
              "      <td>0.0</td>\n",
              "      <td>0.0</td>\n",
              "      <td>0.0</td>\n",
              "      <td>0.0</td>\n",
              "      <td>0.0</td>\n",
              "      <td>0.0</td>\n",
              "      <td>0.0</td>\n",
              "      <td>0.0</td>\n",
              "      <td>0.0</td>\n",
              "      <td>0.0</td>\n",
              "      <td>0.0</td>\n",
              "      <td>0.0</td>\n",
              "      <td>0.0</td>\n",
              "      <td>0.0</td>\n",
              "      <td>0.0</td>\n",
              "      <td>0.0</td>\n",
              "      <td>0.0</td>\n",
              "      <td>0.0</td>\n",
              "      <td>0.0</td>\n",
              "      <td>0.0</td>\n",
              "      <td>0.0</td>\n",
              "      <td>0.0</td>\n",
              "      <td>0.0</td>\n",
              "      <td>0.0</td>\n",
              "    </tr>\n",
              "  </tbody>\n",
              "</table>\n",
              "</div>"
            ],
            "text/plain": [
              "   cat_Interés General  cat_Religión  ...  cat_Político  cat_Infantil\n",
              "0                  0.0           0.0  ...           0.0           0.0\n",
              "1                  0.0           0.0  ...           0.0           0.0\n",
              "2                  0.0           0.0  ...           0.0           0.0\n",
              "3                  0.0           0.0  ...           0.0           0.0\n",
              "4                  0.0           0.0  ...           0.0           0.0\n",
              "\n",
              "[5 rows x 52 columns]"
            ]
          },
          "metadata": {
            "tags": []
          },
          "execution_count": 24
        }
      ]
    },
    {
      "cell_type": "code",
      "metadata": {
        "colab": {
          "base_uri": "https://localhost:8080/",
          "height": 241
        },
        "id": "Fm0T7VDbGq3J",
        "outputId": "837b6272-4f41-4d8a-873f-214d97eac910"
      },
      "source": [
        "df_complete = pd.concat([df_half,categories_df], axis=1)\n",
        "df_complete.head()"
      ],
      "execution_count": null,
      "outputs": [
        {
          "output_type": "execute_result",
          "data": {
            "text/html": [
              "<div>\n",
              "<style scoped>\n",
              "    .dataframe tbody tr th:only-of-type {\n",
              "        vertical-align: middle;\n",
              "    }\n",
              "\n",
              "    .dataframe tbody tr th {\n",
              "        vertical-align: top;\n",
              "    }\n",
              "\n",
              "    .dataframe thead th {\n",
              "        text-align: right;\n",
              "    }\n",
              "</style>\n",
              "<table border=\"1\" class=\"dataframe\">\n",
              "  <thead>\n",
              "    <tr style=\"text-align: right;\">\n",
              "      <th></th>\n",
              "      <th>show_type__Gaming</th>\n",
              "      <th>show_type__Película</th>\n",
              "      <th>show_type__Rolling</th>\n",
              "      <th>show_type__Serie</th>\n",
              "      <th>show_type__Series,Serie</th>\n",
              "      <th>show_type__TV</th>\n",
              "      <th>show_type__Tutorial</th>\n",
              "      <th>show_type__Web</th>\n",
              "      <th>aud__Familiar</th>\n",
              "      <th>aud__Gaming</th>\n",
              "      <th>aud__General</th>\n",
              "      <th>aud__Hombres</th>\n",
              "      <th>aud__Juvenil</th>\n",
              "      <th>aud__Mujeres</th>\n",
              "      <th>aud__NIños</th>\n",
              "      <th>aud__Niños</th>\n",
              "      <th>aud__Preescolar</th>\n",
              "      <th>aud__Teens</th>\n",
              "      <th>cat_Interés General</th>\n",
              "      <th>cat_Religión</th>\n",
              "      <th>cat_Investigación</th>\n",
              "      <th>cat_Dibujos animados</th>\n",
              "      <th>cat_Cultura</th>\n",
              "      <th>cat_Infantil, Comedia</th>\n",
              "      <th>cat_Naturaleza</th>\n",
              "      <th>cat_Aventuras</th>\n",
              "      <th>cat_Crimen</th>\n",
              "      <th>cat_Policial</th>\n",
              "      <th>cat_Comedia</th>\n",
              "      <th>cat_Animales</th>\n",
              "      <th>cat_Ciencia Ficción</th>\n",
              "      <th>cat_Musical</th>\n",
              "      <th>cat_Romance</th>\n",
              "      <th>cat_Cocina</th>\n",
              "      <th>cat_Western</th>\n",
              "      <th>cat_Moda</th>\n",
              "      <th>cat_Dibujos Animados</th>\n",
              "      <th>cat_Entretenimiento</th>\n",
              "      <th>cat_Fantasía</th>\n",
              "      <th>cat_Humor</th>\n",
              "      <th>cat_Familiar</th>\n",
              "      <th>cat_Viajes</th>\n",
              "      <th>cat_Música</th>\n",
              "      <th>cat_Terror</th>\n",
              "      <th>cat_Aventura</th>\n",
              "      <th>cat_Periodístico</th>\n",
              "      <th>cat_Tutoriales</th>\n",
              "      <th>cat_Entrevistas</th>\n",
              "      <th>cat_Teatro</th>\n",
              "      <th>cat_Accion</th>\n",
              "      <th>cat_Decodificador Flow</th>\n",
              "      <th>cat_Competencia</th>\n",
              "      <th>cat_Historia</th>\n",
              "      <th>cat_Suspenso</th>\n",
              "      <th>cat_Ciencia ficción</th>\n",
              "      <th>cat_Documental</th>\n",
              "      <th>cat_Biografía</th>\n",
              "      <th>cat_Magazine</th>\n",
              "      <th>cat_Deporte</th>\n",
              "      <th>cat_Restauración</th>\n",
              "      <th>cat_Acción</th>\n",
              "      <th>cat_Ciencia</th>\n",
              "      <th>cat_Espectáculo</th>\n",
              "      <th>cat_Animación</th>\n",
              "      <th>cat_Drama</th>\n",
              "      <th>cat_Familia</th>\n",
              "      <th>cat_Bélico</th>\n",
              "      <th>cat_Reality</th>\n",
              "      <th>cat_Político</th>\n",
              "      <th>cat_Infantil</th>\n",
              "    </tr>\n",
              "  </thead>\n",
              "  <tbody>\n",
              "    <tr>\n",
              "      <th>0</th>\n",
              "      <td>0</td>\n",
              "      <td>0</td>\n",
              "      <td>0</td>\n",
              "      <td>1</td>\n",
              "      <td>0</td>\n",
              "      <td>0</td>\n",
              "      <td>0</td>\n",
              "      <td>0</td>\n",
              "      <td>0</td>\n",
              "      <td>0</td>\n",
              "      <td>1</td>\n",
              "      <td>0</td>\n",
              "      <td>0</td>\n",
              "      <td>0</td>\n",
              "      <td>0</td>\n",
              "      <td>0</td>\n",
              "      <td>0</td>\n",
              "      <td>0</td>\n",
              "      <td>0.0</td>\n",
              "      <td>0.0</td>\n",
              "      <td>0.0</td>\n",
              "      <td>0.0</td>\n",
              "      <td>0.0</td>\n",
              "      <td>0.0</td>\n",
              "      <td>0.0</td>\n",
              "      <td>0.0</td>\n",
              "      <td>0.0</td>\n",
              "      <td>0.0</td>\n",
              "      <td>0.0</td>\n",
              "      <td>0.0</td>\n",
              "      <td>0.0</td>\n",
              "      <td>0.0</td>\n",
              "      <td>0.0</td>\n",
              "      <td>0.0</td>\n",
              "      <td>0.0</td>\n",
              "      <td>0.0</td>\n",
              "      <td>0.0</td>\n",
              "      <td>0.0</td>\n",
              "      <td>0.0</td>\n",
              "      <td>0.0</td>\n",
              "      <td>0.0</td>\n",
              "      <td>0.0</td>\n",
              "      <td>0.0</td>\n",
              "      <td>0.0</td>\n",
              "      <td>0.0</td>\n",
              "      <td>0.0</td>\n",
              "      <td>0.0</td>\n",
              "      <td>0.0</td>\n",
              "      <td>0.0</td>\n",
              "      <td>0.0</td>\n",
              "      <td>0.0</td>\n",
              "      <td>0.0</td>\n",
              "      <td>0.0</td>\n",
              "      <td>0.0</td>\n",
              "      <td>0.0</td>\n",
              "      <td>0.0</td>\n",
              "      <td>0.0</td>\n",
              "      <td>0.0</td>\n",
              "      <td>0.0</td>\n",
              "      <td>0.0</td>\n",
              "      <td>0.0</td>\n",
              "      <td>0.0</td>\n",
              "      <td>0.0</td>\n",
              "      <td>0.0</td>\n",
              "      <td>1.0</td>\n",
              "      <td>0.0</td>\n",
              "      <td>0.0</td>\n",
              "      <td>0.0</td>\n",
              "      <td>0.0</td>\n",
              "      <td>0.0</td>\n",
              "    </tr>\n",
              "    <tr>\n",
              "      <th>1</th>\n",
              "      <td>0</td>\n",
              "      <td>1</td>\n",
              "      <td>0</td>\n",
              "      <td>0</td>\n",
              "      <td>0</td>\n",
              "      <td>0</td>\n",
              "      <td>0</td>\n",
              "      <td>0</td>\n",
              "      <td>0</td>\n",
              "      <td>0</td>\n",
              "      <td>1</td>\n",
              "      <td>0</td>\n",
              "      <td>0</td>\n",
              "      <td>0</td>\n",
              "      <td>0</td>\n",
              "      <td>0</td>\n",
              "      <td>0</td>\n",
              "      <td>0</td>\n",
              "      <td>0.0</td>\n",
              "      <td>0.0</td>\n",
              "      <td>0.0</td>\n",
              "      <td>0.0</td>\n",
              "      <td>0.0</td>\n",
              "      <td>0.0</td>\n",
              "      <td>0.0</td>\n",
              "      <td>0.0</td>\n",
              "      <td>0.0</td>\n",
              "      <td>0.0</td>\n",
              "      <td>0.0</td>\n",
              "      <td>0.0</td>\n",
              "      <td>0.0</td>\n",
              "      <td>0.0</td>\n",
              "      <td>0.0</td>\n",
              "      <td>0.0</td>\n",
              "      <td>0.0</td>\n",
              "      <td>0.0</td>\n",
              "      <td>0.0</td>\n",
              "      <td>0.0</td>\n",
              "      <td>0.0</td>\n",
              "      <td>0.0</td>\n",
              "      <td>0.0</td>\n",
              "      <td>0.0</td>\n",
              "      <td>0.0</td>\n",
              "      <td>0.0</td>\n",
              "      <td>0.0</td>\n",
              "      <td>0.0</td>\n",
              "      <td>0.0</td>\n",
              "      <td>0.0</td>\n",
              "      <td>0.0</td>\n",
              "      <td>0.0</td>\n",
              "      <td>0.0</td>\n",
              "      <td>0.0</td>\n",
              "      <td>0.0</td>\n",
              "      <td>1.0</td>\n",
              "      <td>0.0</td>\n",
              "      <td>0.0</td>\n",
              "      <td>0.0</td>\n",
              "      <td>0.0</td>\n",
              "      <td>0.0</td>\n",
              "      <td>0.0</td>\n",
              "      <td>1.0</td>\n",
              "      <td>0.0</td>\n",
              "      <td>0.0</td>\n",
              "      <td>0.0</td>\n",
              "      <td>0.0</td>\n",
              "      <td>0.0</td>\n",
              "      <td>0.0</td>\n",
              "      <td>0.0</td>\n",
              "      <td>0.0</td>\n",
              "      <td>0.0</td>\n",
              "    </tr>\n",
              "    <tr>\n",
              "      <th>2</th>\n",
              "      <td>0</td>\n",
              "      <td>1</td>\n",
              "      <td>0</td>\n",
              "      <td>0</td>\n",
              "      <td>0</td>\n",
              "      <td>0</td>\n",
              "      <td>0</td>\n",
              "      <td>0</td>\n",
              "      <td>0</td>\n",
              "      <td>0</td>\n",
              "      <td>0</td>\n",
              "      <td>0</td>\n",
              "      <td>1</td>\n",
              "      <td>0</td>\n",
              "      <td>0</td>\n",
              "      <td>0</td>\n",
              "      <td>0</td>\n",
              "      <td>0</td>\n",
              "      <td>0.0</td>\n",
              "      <td>0.0</td>\n",
              "      <td>0.0</td>\n",
              "      <td>0.0</td>\n",
              "      <td>0.0</td>\n",
              "      <td>0.0</td>\n",
              "      <td>0.0</td>\n",
              "      <td>0.0</td>\n",
              "      <td>0.0</td>\n",
              "      <td>0.0</td>\n",
              "      <td>1.0</td>\n",
              "      <td>0.0</td>\n",
              "      <td>0.0</td>\n",
              "      <td>0.0</td>\n",
              "      <td>0.0</td>\n",
              "      <td>0.0</td>\n",
              "      <td>0.0</td>\n",
              "      <td>0.0</td>\n",
              "      <td>0.0</td>\n",
              "      <td>0.0</td>\n",
              "      <td>0.0</td>\n",
              "      <td>0.0</td>\n",
              "      <td>0.0</td>\n",
              "      <td>0.0</td>\n",
              "      <td>0.0</td>\n",
              "      <td>1.0</td>\n",
              "      <td>0.0</td>\n",
              "      <td>0.0</td>\n",
              "      <td>0.0</td>\n",
              "      <td>0.0</td>\n",
              "      <td>0.0</td>\n",
              "      <td>0.0</td>\n",
              "      <td>0.0</td>\n",
              "      <td>0.0</td>\n",
              "      <td>0.0</td>\n",
              "      <td>0.0</td>\n",
              "      <td>0.0</td>\n",
              "      <td>0.0</td>\n",
              "      <td>0.0</td>\n",
              "      <td>0.0</td>\n",
              "      <td>0.0</td>\n",
              "      <td>0.0</td>\n",
              "      <td>0.0</td>\n",
              "      <td>0.0</td>\n",
              "      <td>0.0</td>\n",
              "      <td>0.0</td>\n",
              "      <td>0.0</td>\n",
              "      <td>0.0</td>\n",
              "      <td>0.0</td>\n",
              "      <td>0.0</td>\n",
              "      <td>0.0</td>\n",
              "      <td>0.0</td>\n",
              "    </tr>\n",
              "    <tr>\n",
              "      <th>3</th>\n",
              "      <td>0</td>\n",
              "      <td>1</td>\n",
              "      <td>0</td>\n",
              "      <td>0</td>\n",
              "      <td>0</td>\n",
              "      <td>0</td>\n",
              "      <td>0</td>\n",
              "      <td>0</td>\n",
              "      <td>0</td>\n",
              "      <td>0</td>\n",
              "      <td>1</td>\n",
              "      <td>0</td>\n",
              "      <td>0</td>\n",
              "      <td>0</td>\n",
              "      <td>0</td>\n",
              "      <td>0</td>\n",
              "      <td>0</td>\n",
              "      <td>0</td>\n",
              "      <td>0.0</td>\n",
              "      <td>0.0</td>\n",
              "      <td>0.0</td>\n",
              "      <td>0.0</td>\n",
              "      <td>0.0</td>\n",
              "      <td>0.0</td>\n",
              "      <td>0.0</td>\n",
              "      <td>0.0</td>\n",
              "      <td>0.0</td>\n",
              "      <td>0.0</td>\n",
              "      <td>0.0</td>\n",
              "      <td>0.0</td>\n",
              "      <td>0.0</td>\n",
              "      <td>0.0</td>\n",
              "      <td>0.0</td>\n",
              "      <td>0.0</td>\n",
              "      <td>0.0</td>\n",
              "      <td>0.0</td>\n",
              "      <td>0.0</td>\n",
              "      <td>0.0</td>\n",
              "      <td>0.0</td>\n",
              "      <td>0.0</td>\n",
              "      <td>0.0</td>\n",
              "      <td>0.0</td>\n",
              "      <td>0.0</td>\n",
              "      <td>0.0</td>\n",
              "      <td>0.0</td>\n",
              "      <td>0.0</td>\n",
              "      <td>0.0</td>\n",
              "      <td>0.0</td>\n",
              "      <td>0.0</td>\n",
              "      <td>0.0</td>\n",
              "      <td>0.0</td>\n",
              "      <td>0.0</td>\n",
              "      <td>0.0</td>\n",
              "      <td>0.0</td>\n",
              "      <td>0.0</td>\n",
              "      <td>0.0</td>\n",
              "      <td>0.0</td>\n",
              "      <td>0.0</td>\n",
              "      <td>0.0</td>\n",
              "      <td>0.0</td>\n",
              "      <td>0.0</td>\n",
              "      <td>0.0</td>\n",
              "      <td>0.0</td>\n",
              "      <td>0.0</td>\n",
              "      <td>1.0</td>\n",
              "      <td>0.0</td>\n",
              "      <td>0.0</td>\n",
              "      <td>0.0</td>\n",
              "      <td>0.0</td>\n",
              "      <td>0.0</td>\n",
              "    </tr>\n",
              "    <tr>\n",
              "      <th>4</th>\n",
              "      <td>0</td>\n",
              "      <td>1</td>\n",
              "      <td>0</td>\n",
              "      <td>0</td>\n",
              "      <td>0</td>\n",
              "      <td>0</td>\n",
              "      <td>0</td>\n",
              "      <td>0</td>\n",
              "      <td>0</td>\n",
              "      <td>0</td>\n",
              "      <td>1</td>\n",
              "      <td>0</td>\n",
              "      <td>0</td>\n",
              "      <td>0</td>\n",
              "      <td>0</td>\n",
              "      <td>0</td>\n",
              "      <td>0</td>\n",
              "      <td>0</td>\n",
              "      <td>0.0</td>\n",
              "      <td>0.0</td>\n",
              "      <td>0.0</td>\n",
              "      <td>0.0</td>\n",
              "      <td>0.0</td>\n",
              "      <td>0.0</td>\n",
              "      <td>0.0</td>\n",
              "      <td>0.0</td>\n",
              "      <td>0.0</td>\n",
              "      <td>0.0</td>\n",
              "      <td>0.0</td>\n",
              "      <td>0.0</td>\n",
              "      <td>1.0</td>\n",
              "      <td>0.0</td>\n",
              "      <td>0.0</td>\n",
              "      <td>0.0</td>\n",
              "      <td>0.0</td>\n",
              "      <td>0.0</td>\n",
              "      <td>0.0</td>\n",
              "      <td>0.0</td>\n",
              "      <td>0.0</td>\n",
              "      <td>0.0</td>\n",
              "      <td>0.0</td>\n",
              "      <td>0.0</td>\n",
              "      <td>0.0</td>\n",
              "      <td>0.0</td>\n",
              "      <td>1.0</td>\n",
              "      <td>0.0</td>\n",
              "      <td>0.0</td>\n",
              "      <td>0.0</td>\n",
              "      <td>0.0</td>\n",
              "      <td>0.0</td>\n",
              "      <td>0.0</td>\n",
              "      <td>0.0</td>\n",
              "      <td>0.0</td>\n",
              "      <td>0.0</td>\n",
              "      <td>0.0</td>\n",
              "      <td>0.0</td>\n",
              "      <td>0.0</td>\n",
              "      <td>0.0</td>\n",
              "      <td>0.0</td>\n",
              "      <td>0.0</td>\n",
              "      <td>0.0</td>\n",
              "      <td>0.0</td>\n",
              "      <td>0.0</td>\n",
              "      <td>0.0</td>\n",
              "      <td>0.0</td>\n",
              "      <td>0.0</td>\n",
              "      <td>0.0</td>\n",
              "      <td>0.0</td>\n",
              "      <td>0.0</td>\n",
              "      <td>0.0</td>\n",
              "    </tr>\n",
              "  </tbody>\n",
              "</table>\n",
              "</div>"
            ],
            "text/plain": [
              "   show_type__Gaming  show_type__Película  ...  cat_Político  cat_Infantil\n",
              "0                  0                    0  ...           0.0           0.0\n",
              "1                  0                    1  ...           0.0           0.0\n",
              "2                  0                    1  ...           0.0           0.0\n",
              "3                  0                    1  ...           0.0           0.0\n",
              "4                  0                    1  ...           0.0           0.0\n",
              "\n",
              "[5 rows x 70 columns]"
            ]
          },
          "metadata": {
            "tags": []
          },
          "execution_count": 25
        }
      ]
    },
    {
      "cell_type": "markdown",
      "metadata": {
        "id": "RZ-74xCNJye1"
      },
      "source": [
        "Necesito agregar de nuevo la columna de content_id.\n",
        "\n",
        "Hay un problema y es que los content_ids estan repetidos en algunas filas, debido a que el dataset contenia asociaciones de contenidos con distintos assets.\n",
        "\n",
        "Mi solucion para esto es agrupar por content_id y sumar el resto de las columnas, luego imponer un valor maximo (1), esto hara que los contenidos representen de forma general los metadatos de sus assets correspondientes."
      ]
    },
    {
      "cell_type": "code",
      "metadata": {
        "colab": {
          "base_uri": "https://localhost:8080/",
          "height": 241
        },
        "id": "w6gZmh2oHJ-3",
        "outputId": "1aefdcee-e3a9-4ef6-9705-5ffd27b94f43"
      },
      "source": [
        "df_complete[\"content_id\"] = df_metadata[\"content_id\"].values\n",
        "df_complete.head()"
      ],
      "execution_count": null,
      "outputs": [
        {
          "output_type": "execute_result",
          "data": {
            "text/html": [
              "<div>\n",
              "<style scoped>\n",
              "    .dataframe tbody tr th:only-of-type {\n",
              "        vertical-align: middle;\n",
              "    }\n",
              "\n",
              "    .dataframe tbody tr th {\n",
              "        vertical-align: top;\n",
              "    }\n",
              "\n",
              "    .dataframe thead th {\n",
              "        text-align: right;\n",
              "    }\n",
              "</style>\n",
              "<table border=\"1\" class=\"dataframe\">\n",
              "  <thead>\n",
              "    <tr style=\"text-align: right;\">\n",
              "      <th></th>\n",
              "      <th>show_type__Gaming</th>\n",
              "      <th>show_type__Película</th>\n",
              "      <th>show_type__Rolling</th>\n",
              "      <th>show_type__Serie</th>\n",
              "      <th>show_type__Series,Serie</th>\n",
              "      <th>show_type__TV</th>\n",
              "      <th>show_type__Tutorial</th>\n",
              "      <th>show_type__Web</th>\n",
              "      <th>aud__Familiar</th>\n",
              "      <th>aud__Gaming</th>\n",
              "      <th>aud__General</th>\n",
              "      <th>aud__Hombres</th>\n",
              "      <th>aud__Juvenil</th>\n",
              "      <th>aud__Mujeres</th>\n",
              "      <th>aud__NIños</th>\n",
              "      <th>aud__Niños</th>\n",
              "      <th>aud__Preescolar</th>\n",
              "      <th>aud__Teens</th>\n",
              "      <th>cat_Interés General</th>\n",
              "      <th>cat_Religión</th>\n",
              "      <th>cat_Investigación</th>\n",
              "      <th>cat_Dibujos animados</th>\n",
              "      <th>cat_Cultura</th>\n",
              "      <th>cat_Infantil, Comedia</th>\n",
              "      <th>cat_Naturaleza</th>\n",
              "      <th>cat_Aventuras</th>\n",
              "      <th>cat_Crimen</th>\n",
              "      <th>cat_Policial</th>\n",
              "      <th>cat_Comedia</th>\n",
              "      <th>cat_Animales</th>\n",
              "      <th>cat_Ciencia Ficción</th>\n",
              "      <th>cat_Musical</th>\n",
              "      <th>cat_Romance</th>\n",
              "      <th>cat_Cocina</th>\n",
              "      <th>cat_Western</th>\n",
              "      <th>cat_Moda</th>\n",
              "      <th>cat_Dibujos Animados</th>\n",
              "      <th>cat_Entretenimiento</th>\n",
              "      <th>cat_Fantasía</th>\n",
              "      <th>cat_Humor</th>\n",
              "      <th>cat_Familiar</th>\n",
              "      <th>cat_Viajes</th>\n",
              "      <th>cat_Música</th>\n",
              "      <th>cat_Terror</th>\n",
              "      <th>cat_Aventura</th>\n",
              "      <th>cat_Periodístico</th>\n",
              "      <th>cat_Tutoriales</th>\n",
              "      <th>cat_Entrevistas</th>\n",
              "      <th>cat_Teatro</th>\n",
              "      <th>cat_Accion</th>\n",
              "      <th>cat_Decodificador Flow</th>\n",
              "      <th>cat_Competencia</th>\n",
              "      <th>cat_Historia</th>\n",
              "      <th>cat_Suspenso</th>\n",
              "      <th>cat_Ciencia ficción</th>\n",
              "      <th>cat_Documental</th>\n",
              "      <th>cat_Biografía</th>\n",
              "      <th>cat_Magazine</th>\n",
              "      <th>cat_Deporte</th>\n",
              "      <th>cat_Restauración</th>\n",
              "      <th>cat_Acción</th>\n",
              "      <th>cat_Ciencia</th>\n",
              "      <th>cat_Espectáculo</th>\n",
              "      <th>cat_Animación</th>\n",
              "      <th>cat_Drama</th>\n",
              "      <th>cat_Familia</th>\n",
              "      <th>cat_Bélico</th>\n",
              "      <th>cat_Reality</th>\n",
              "      <th>cat_Político</th>\n",
              "      <th>cat_Infantil</th>\n",
              "      <th>content_id</th>\n",
              "    </tr>\n",
              "  </thead>\n",
              "  <tbody>\n",
              "    <tr>\n",
              "      <th>0</th>\n",
              "      <td>0</td>\n",
              "      <td>0</td>\n",
              "      <td>0</td>\n",
              "      <td>1</td>\n",
              "      <td>0</td>\n",
              "      <td>0</td>\n",
              "      <td>0</td>\n",
              "      <td>0</td>\n",
              "      <td>0</td>\n",
              "      <td>0</td>\n",
              "      <td>1</td>\n",
              "      <td>0</td>\n",
              "      <td>0</td>\n",
              "      <td>0</td>\n",
              "      <td>0</td>\n",
              "      <td>0</td>\n",
              "      <td>0</td>\n",
              "      <td>0</td>\n",
              "      <td>0.0</td>\n",
              "      <td>0.0</td>\n",
              "      <td>0.0</td>\n",
              "      <td>0.0</td>\n",
              "      <td>0.0</td>\n",
              "      <td>0.0</td>\n",
              "      <td>0.0</td>\n",
              "      <td>0.0</td>\n",
              "      <td>0.0</td>\n",
              "      <td>0.0</td>\n",
              "      <td>0.0</td>\n",
              "      <td>0.0</td>\n",
              "      <td>0.0</td>\n",
              "      <td>0.0</td>\n",
              "      <td>0.0</td>\n",
              "      <td>0.0</td>\n",
              "      <td>0.0</td>\n",
              "      <td>0.0</td>\n",
              "      <td>0.0</td>\n",
              "      <td>0.0</td>\n",
              "      <td>0.0</td>\n",
              "      <td>0.0</td>\n",
              "      <td>0.0</td>\n",
              "      <td>0.0</td>\n",
              "      <td>0.0</td>\n",
              "      <td>0.0</td>\n",
              "      <td>0.0</td>\n",
              "      <td>0.0</td>\n",
              "      <td>0.0</td>\n",
              "      <td>0.0</td>\n",
              "      <td>0.0</td>\n",
              "      <td>0.0</td>\n",
              "      <td>0.0</td>\n",
              "      <td>0.0</td>\n",
              "      <td>0.0</td>\n",
              "      <td>0.0</td>\n",
              "      <td>0.0</td>\n",
              "      <td>0.0</td>\n",
              "      <td>0.0</td>\n",
              "      <td>0.0</td>\n",
              "      <td>0.0</td>\n",
              "      <td>0.0</td>\n",
              "      <td>0.0</td>\n",
              "      <td>0.0</td>\n",
              "      <td>0.0</td>\n",
              "      <td>0.0</td>\n",
              "      <td>1.0</td>\n",
              "      <td>0.0</td>\n",
              "      <td>0.0</td>\n",
              "      <td>0.0</td>\n",
              "      <td>0.0</td>\n",
              "      <td>0.0</td>\n",
              "      <td>0.0</td>\n",
              "    </tr>\n",
              "    <tr>\n",
              "      <th>1</th>\n",
              "      <td>0</td>\n",
              "      <td>1</td>\n",
              "      <td>0</td>\n",
              "      <td>0</td>\n",
              "      <td>0</td>\n",
              "      <td>0</td>\n",
              "      <td>0</td>\n",
              "      <td>0</td>\n",
              "      <td>0</td>\n",
              "      <td>0</td>\n",
              "      <td>1</td>\n",
              "      <td>0</td>\n",
              "      <td>0</td>\n",
              "      <td>0</td>\n",
              "      <td>0</td>\n",
              "      <td>0</td>\n",
              "      <td>0</td>\n",
              "      <td>0</td>\n",
              "      <td>0.0</td>\n",
              "      <td>0.0</td>\n",
              "      <td>0.0</td>\n",
              "      <td>0.0</td>\n",
              "      <td>0.0</td>\n",
              "      <td>0.0</td>\n",
              "      <td>0.0</td>\n",
              "      <td>0.0</td>\n",
              "      <td>0.0</td>\n",
              "      <td>0.0</td>\n",
              "      <td>0.0</td>\n",
              "      <td>0.0</td>\n",
              "      <td>0.0</td>\n",
              "      <td>0.0</td>\n",
              "      <td>0.0</td>\n",
              "      <td>0.0</td>\n",
              "      <td>0.0</td>\n",
              "      <td>0.0</td>\n",
              "      <td>0.0</td>\n",
              "      <td>0.0</td>\n",
              "      <td>0.0</td>\n",
              "      <td>0.0</td>\n",
              "      <td>0.0</td>\n",
              "      <td>0.0</td>\n",
              "      <td>0.0</td>\n",
              "      <td>0.0</td>\n",
              "      <td>0.0</td>\n",
              "      <td>0.0</td>\n",
              "      <td>0.0</td>\n",
              "      <td>0.0</td>\n",
              "      <td>0.0</td>\n",
              "      <td>0.0</td>\n",
              "      <td>0.0</td>\n",
              "      <td>0.0</td>\n",
              "      <td>0.0</td>\n",
              "      <td>1.0</td>\n",
              "      <td>0.0</td>\n",
              "      <td>0.0</td>\n",
              "      <td>0.0</td>\n",
              "      <td>0.0</td>\n",
              "      <td>0.0</td>\n",
              "      <td>0.0</td>\n",
              "      <td>1.0</td>\n",
              "      <td>0.0</td>\n",
              "      <td>0.0</td>\n",
              "      <td>0.0</td>\n",
              "      <td>0.0</td>\n",
              "      <td>0.0</td>\n",
              "      <td>0.0</td>\n",
              "      <td>0.0</td>\n",
              "      <td>0.0</td>\n",
              "      <td>0.0</td>\n",
              "      <td>1.0</td>\n",
              "    </tr>\n",
              "    <tr>\n",
              "      <th>2</th>\n",
              "      <td>0</td>\n",
              "      <td>1</td>\n",
              "      <td>0</td>\n",
              "      <td>0</td>\n",
              "      <td>0</td>\n",
              "      <td>0</td>\n",
              "      <td>0</td>\n",
              "      <td>0</td>\n",
              "      <td>0</td>\n",
              "      <td>0</td>\n",
              "      <td>0</td>\n",
              "      <td>0</td>\n",
              "      <td>1</td>\n",
              "      <td>0</td>\n",
              "      <td>0</td>\n",
              "      <td>0</td>\n",
              "      <td>0</td>\n",
              "      <td>0</td>\n",
              "      <td>0.0</td>\n",
              "      <td>0.0</td>\n",
              "      <td>0.0</td>\n",
              "      <td>0.0</td>\n",
              "      <td>0.0</td>\n",
              "      <td>0.0</td>\n",
              "      <td>0.0</td>\n",
              "      <td>0.0</td>\n",
              "      <td>0.0</td>\n",
              "      <td>0.0</td>\n",
              "      <td>1.0</td>\n",
              "      <td>0.0</td>\n",
              "      <td>0.0</td>\n",
              "      <td>0.0</td>\n",
              "      <td>0.0</td>\n",
              "      <td>0.0</td>\n",
              "      <td>0.0</td>\n",
              "      <td>0.0</td>\n",
              "      <td>0.0</td>\n",
              "      <td>0.0</td>\n",
              "      <td>0.0</td>\n",
              "      <td>0.0</td>\n",
              "      <td>0.0</td>\n",
              "      <td>0.0</td>\n",
              "      <td>0.0</td>\n",
              "      <td>1.0</td>\n",
              "      <td>0.0</td>\n",
              "      <td>0.0</td>\n",
              "      <td>0.0</td>\n",
              "      <td>0.0</td>\n",
              "      <td>0.0</td>\n",
              "      <td>0.0</td>\n",
              "      <td>0.0</td>\n",
              "      <td>0.0</td>\n",
              "      <td>0.0</td>\n",
              "      <td>0.0</td>\n",
              "      <td>0.0</td>\n",
              "      <td>0.0</td>\n",
              "      <td>0.0</td>\n",
              "      <td>0.0</td>\n",
              "      <td>0.0</td>\n",
              "      <td>0.0</td>\n",
              "      <td>0.0</td>\n",
              "      <td>0.0</td>\n",
              "      <td>0.0</td>\n",
              "      <td>0.0</td>\n",
              "      <td>0.0</td>\n",
              "      <td>0.0</td>\n",
              "      <td>0.0</td>\n",
              "      <td>0.0</td>\n",
              "      <td>0.0</td>\n",
              "      <td>0.0</td>\n",
              "      <td>2.0</td>\n",
              "    </tr>\n",
              "    <tr>\n",
              "      <th>3</th>\n",
              "      <td>0</td>\n",
              "      <td>1</td>\n",
              "      <td>0</td>\n",
              "      <td>0</td>\n",
              "      <td>0</td>\n",
              "      <td>0</td>\n",
              "      <td>0</td>\n",
              "      <td>0</td>\n",
              "      <td>0</td>\n",
              "      <td>0</td>\n",
              "      <td>1</td>\n",
              "      <td>0</td>\n",
              "      <td>0</td>\n",
              "      <td>0</td>\n",
              "      <td>0</td>\n",
              "      <td>0</td>\n",
              "      <td>0</td>\n",
              "      <td>0</td>\n",
              "      <td>0.0</td>\n",
              "      <td>0.0</td>\n",
              "      <td>0.0</td>\n",
              "      <td>0.0</td>\n",
              "      <td>0.0</td>\n",
              "      <td>0.0</td>\n",
              "      <td>0.0</td>\n",
              "      <td>0.0</td>\n",
              "      <td>0.0</td>\n",
              "      <td>0.0</td>\n",
              "      <td>0.0</td>\n",
              "      <td>0.0</td>\n",
              "      <td>0.0</td>\n",
              "      <td>0.0</td>\n",
              "      <td>0.0</td>\n",
              "      <td>0.0</td>\n",
              "      <td>0.0</td>\n",
              "      <td>0.0</td>\n",
              "      <td>0.0</td>\n",
              "      <td>0.0</td>\n",
              "      <td>0.0</td>\n",
              "      <td>0.0</td>\n",
              "      <td>0.0</td>\n",
              "      <td>0.0</td>\n",
              "      <td>0.0</td>\n",
              "      <td>0.0</td>\n",
              "      <td>0.0</td>\n",
              "      <td>0.0</td>\n",
              "      <td>0.0</td>\n",
              "      <td>0.0</td>\n",
              "      <td>0.0</td>\n",
              "      <td>0.0</td>\n",
              "      <td>0.0</td>\n",
              "      <td>0.0</td>\n",
              "      <td>0.0</td>\n",
              "      <td>0.0</td>\n",
              "      <td>0.0</td>\n",
              "      <td>0.0</td>\n",
              "      <td>0.0</td>\n",
              "      <td>0.0</td>\n",
              "      <td>0.0</td>\n",
              "      <td>0.0</td>\n",
              "      <td>0.0</td>\n",
              "      <td>0.0</td>\n",
              "      <td>0.0</td>\n",
              "      <td>0.0</td>\n",
              "      <td>1.0</td>\n",
              "      <td>0.0</td>\n",
              "      <td>0.0</td>\n",
              "      <td>0.0</td>\n",
              "      <td>0.0</td>\n",
              "      <td>0.0</td>\n",
              "      <td>3.0</td>\n",
              "    </tr>\n",
              "    <tr>\n",
              "      <th>4</th>\n",
              "      <td>0</td>\n",
              "      <td>1</td>\n",
              "      <td>0</td>\n",
              "      <td>0</td>\n",
              "      <td>0</td>\n",
              "      <td>0</td>\n",
              "      <td>0</td>\n",
              "      <td>0</td>\n",
              "      <td>0</td>\n",
              "      <td>0</td>\n",
              "      <td>1</td>\n",
              "      <td>0</td>\n",
              "      <td>0</td>\n",
              "      <td>0</td>\n",
              "      <td>0</td>\n",
              "      <td>0</td>\n",
              "      <td>0</td>\n",
              "      <td>0</td>\n",
              "      <td>0.0</td>\n",
              "      <td>0.0</td>\n",
              "      <td>0.0</td>\n",
              "      <td>0.0</td>\n",
              "      <td>0.0</td>\n",
              "      <td>0.0</td>\n",
              "      <td>0.0</td>\n",
              "      <td>0.0</td>\n",
              "      <td>0.0</td>\n",
              "      <td>0.0</td>\n",
              "      <td>0.0</td>\n",
              "      <td>0.0</td>\n",
              "      <td>1.0</td>\n",
              "      <td>0.0</td>\n",
              "      <td>0.0</td>\n",
              "      <td>0.0</td>\n",
              "      <td>0.0</td>\n",
              "      <td>0.0</td>\n",
              "      <td>0.0</td>\n",
              "      <td>0.0</td>\n",
              "      <td>0.0</td>\n",
              "      <td>0.0</td>\n",
              "      <td>0.0</td>\n",
              "      <td>0.0</td>\n",
              "      <td>0.0</td>\n",
              "      <td>0.0</td>\n",
              "      <td>1.0</td>\n",
              "      <td>0.0</td>\n",
              "      <td>0.0</td>\n",
              "      <td>0.0</td>\n",
              "      <td>0.0</td>\n",
              "      <td>0.0</td>\n",
              "      <td>0.0</td>\n",
              "      <td>0.0</td>\n",
              "      <td>0.0</td>\n",
              "      <td>0.0</td>\n",
              "      <td>0.0</td>\n",
              "      <td>0.0</td>\n",
              "      <td>0.0</td>\n",
              "      <td>0.0</td>\n",
              "      <td>0.0</td>\n",
              "      <td>0.0</td>\n",
              "      <td>0.0</td>\n",
              "      <td>0.0</td>\n",
              "      <td>0.0</td>\n",
              "      <td>0.0</td>\n",
              "      <td>0.0</td>\n",
              "      <td>0.0</td>\n",
              "      <td>0.0</td>\n",
              "      <td>0.0</td>\n",
              "      <td>0.0</td>\n",
              "      <td>0.0</td>\n",
              "      <td>4.0</td>\n",
              "    </tr>\n",
              "  </tbody>\n",
              "</table>\n",
              "</div>"
            ],
            "text/plain": [
              "   show_type__Gaming  show_type__Película  ...  cat_Infantil  content_id\n",
              "0                  0                    0  ...           0.0         0.0\n",
              "1                  0                    1  ...           0.0         1.0\n",
              "2                  0                    1  ...           0.0         2.0\n",
              "3                  0                    1  ...           0.0         3.0\n",
              "4                  0                    1  ...           0.0         4.0\n",
              "\n",
              "[5 rows x 71 columns]"
            ]
          },
          "metadata": {
            "tags": []
          },
          "execution_count": 26
        }
      ]
    },
    {
      "cell_type": "code",
      "metadata": {
        "id": "bGvHhDZEIWhe"
      },
      "source": [
        "cols_a_sumar = df_complete.drop(columns=['content_id'], inplace=False).columns \n",
        "\n",
        "conjunto_cols = {}\n",
        "\n",
        "for c in cols_a_sumar:\n",
        "  conjunto_cols[c] = \"sum\""
      ],
      "execution_count": null,
      "outputs": []
    },
    {
      "cell_type": "markdown",
      "metadata": {
        "id": "d_6tL7MFKeav"
      },
      "source": [
        "Listo, ya estan guardados los contenidos con sus atributos"
      ]
    },
    {
      "cell_type": "code",
      "metadata": {
        "colab": {
          "base_uri": "https://localhost:8080/",
          "height": 241
        },
        "id": "X0DTgL5aIUaM",
        "outputId": "f79765fd-d89c-46f5-81b3-43887b1a0351"
      },
      "source": [
        "df_complete_2 = df_complete.groupby(['content_id'], as_index=False).agg(conjunto_cols)\n",
        "df_complete_2[cols_a_sumar] = df_complete_2[cols_a_sumar].ge(1).astype(int)\n",
        "df_complete_2.rename(index=df_complete_2[\"content_id\"])\n",
        "df_complete_2.drop(columns=[\"content_id\"],inplace=True)\n",
        "df_complete_2.head()"
      ],
      "execution_count": null,
      "outputs": [
        {
          "output_type": "execute_result",
          "data": {
            "text/html": [
              "<div>\n",
              "<style scoped>\n",
              "    .dataframe tbody tr th:only-of-type {\n",
              "        vertical-align: middle;\n",
              "    }\n",
              "\n",
              "    .dataframe tbody tr th {\n",
              "        vertical-align: top;\n",
              "    }\n",
              "\n",
              "    .dataframe thead th {\n",
              "        text-align: right;\n",
              "    }\n",
              "</style>\n",
              "<table border=\"1\" class=\"dataframe\">\n",
              "  <thead>\n",
              "    <tr style=\"text-align: right;\">\n",
              "      <th></th>\n",
              "      <th>show_type__Gaming</th>\n",
              "      <th>show_type__Película</th>\n",
              "      <th>show_type__Rolling</th>\n",
              "      <th>show_type__Serie</th>\n",
              "      <th>show_type__Series,Serie</th>\n",
              "      <th>show_type__TV</th>\n",
              "      <th>show_type__Tutorial</th>\n",
              "      <th>show_type__Web</th>\n",
              "      <th>aud__Familiar</th>\n",
              "      <th>aud__Gaming</th>\n",
              "      <th>aud__General</th>\n",
              "      <th>aud__Hombres</th>\n",
              "      <th>aud__Juvenil</th>\n",
              "      <th>aud__Mujeres</th>\n",
              "      <th>aud__NIños</th>\n",
              "      <th>aud__Niños</th>\n",
              "      <th>aud__Preescolar</th>\n",
              "      <th>aud__Teens</th>\n",
              "      <th>cat_Interés General</th>\n",
              "      <th>cat_Religión</th>\n",
              "      <th>cat_Investigación</th>\n",
              "      <th>cat_Dibujos animados</th>\n",
              "      <th>cat_Cultura</th>\n",
              "      <th>cat_Infantil, Comedia</th>\n",
              "      <th>cat_Naturaleza</th>\n",
              "      <th>cat_Aventuras</th>\n",
              "      <th>cat_Crimen</th>\n",
              "      <th>cat_Policial</th>\n",
              "      <th>cat_Comedia</th>\n",
              "      <th>cat_Animales</th>\n",
              "      <th>cat_Ciencia Ficción</th>\n",
              "      <th>cat_Musical</th>\n",
              "      <th>cat_Romance</th>\n",
              "      <th>cat_Cocina</th>\n",
              "      <th>cat_Western</th>\n",
              "      <th>cat_Moda</th>\n",
              "      <th>cat_Dibujos Animados</th>\n",
              "      <th>cat_Entretenimiento</th>\n",
              "      <th>cat_Fantasía</th>\n",
              "      <th>cat_Humor</th>\n",
              "      <th>cat_Familiar</th>\n",
              "      <th>cat_Viajes</th>\n",
              "      <th>cat_Música</th>\n",
              "      <th>cat_Terror</th>\n",
              "      <th>cat_Aventura</th>\n",
              "      <th>cat_Periodístico</th>\n",
              "      <th>cat_Tutoriales</th>\n",
              "      <th>cat_Entrevistas</th>\n",
              "      <th>cat_Teatro</th>\n",
              "      <th>cat_Accion</th>\n",
              "      <th>cat_Decodificador Flow</th>\n",
              "      <th>cat_Competencia</th>\n",
              "      <th>cat_Historia</th>\n",
              "      <th>cat_Suspenso</th>\n",
              "      <th>cat_Ciencia ficción</th>\n",
              "      <th>cat_Documental</th>\n",
              "      <th>cat_Biografía</th>\n",
              "      <th>cat_Magazine</th>\n",
              "      <th>cat_Deporte</th>\n",
              "      <th>cat_Restauración</th>\n",
              "      <th>cat_Acción</th>\n",
              "      <th>cat_Ciencia</th>\n",
              "      <th>cat_Espectáculo</th>\n",
              "      <th>cat_Animación</th>\n",
              "      <th>cat_Drama</th>\n",
              "      <th>cat_Familia</th>\n",
              "      <th>cat_Bélico</th>\n",
              "      <th>cat_Reality</th>\n",
              "      <th>cat_Político</th>\n",
              "      <th>cat_Infantil</th>\n",
              "    </tr>\n",
              "  </thead>\n",
              "  <tbody>\n",
              "    <tr>\n",
              "      <th>0</th>\n",
              "      <td>0</td>\n",
              "      <td>0</td>\n",
              "      <td>0</td>\n",
              "      <td>1</td>\n",
              "      <td>0</td>\n",
              "      <td>0</td>\n",
              "      <td>0</td>\n",
              "      <td>0</td>\n",
              "      <td>0</td>\n",
              "      <td>0</td>\n",
              "      <td>1</td>\n",
              "      <td>0</td>\n",
              "      <td>0</td>\n",
              "      <td>0</td>\n",
              "      <td>0</td>\n",
              "      <td>0</td>\n",
              "      <td>0</td>\n",
              "      <td>0</td>\n",
              "      <td>0</td>\n",
              "      <td>0</td>\n",
              "      <td>0</td>\n",
              "      <td>0</td>\n",
              "      <td>0</td>\n",
              "      <td>0</td>\n",
              "      <td>0</td>\n",
              "      <td>0</td>\n",
              "      <td>0</td>\n",
              "      <td>0</td>\n",
              "      <td>0</td>\n",
              "      <td>0</td>\n",
              "      <td>0</td>\n",
              "      <td>0</td>\n",
              "      <td>0</td>\n",
              "      <td>0</td>\n",
              "      <td>0</td>\n",
              "      <td>0</td>\n",
              "      <td>0</td>\n",
              "      <td>0</td>\n",
              "      <td>0</td>\n",
              "      <td>0</td>\n",
              "      <td>0</td>\n",
              "      <td>0</td>\n",
              "      <td>0</td>\n",
              "      <td>0</td>\n",
              "      <td>0</td>\n",
              "      <td>0</td>\n",
              "      <td>0</td>\n",
              "      <td>0</td>\n",
              "      <td>0</td>\n",
              "      <td>0</td>\n",
              "      <td>0</td>\n",
              "      <td>0</td>\n",
              "      <td>0</td>\n",
              "      <td>0</td>\n",
              "      <td>0</td>\n",
              "      <td>0</td>\n",
              "      <td>0</td>\n",
              "      <td>0</td>\n",
              "      <td>0</td>\n",
              "      <td>0</td>\n",
              "      <td>0</td>\n",
              "      <td>0</td>\n",
              "      <td>0</td>\n",
              "      <td>0</td>\n",
              "      <td>1</td>\n",
              "      <td>0</td>\n",
              "      <td>0</td>\n",
              "      <td>0</td>\n",
              "      <td>0</td>\n",
              "      <td>0</td>\n",
              "    </tr>\n",
              "    <tr>\n",
              "      <th>1</th>\n",
              "      <td>0</td>\n",
              "      <td>1</td>\n",
              "      <td>0</td>\n",
              "      <td>0</td>\n",
              "      <td>0</td>\n",
              "      <td>0</td>\n",
              "      <td>0</td>\n",
              "      <td>0</td>\n",
              "      <td>0</td>\n",
              "      <td>0</td>\n",
              "      <td>1</td>\n",
              "      <td>0</td>\n",
              "      <td>0</td>\n",
              "      <td>0</td>\n",
              "      <td>0</td>\n",
              "      <td>0</td>\n",
              "      <td>0</td>\n",
              "      <td>0</td>\n",
              "      <td>0</td>\n",
              "      <td>0</td>\n",
              "      <td>0</td>\n",
              "      <td>0</td>\n",
              "      <td>0</td>\n",
              "      <td>0</td>\n",
              "      <td>0</td>\n",
              "      <td>0</td>\n",
              "      <td>1</td>\n",
              "      <td>0</td>\n",
              "      <td>0</td>\n",
              "      <td>0</td>\n",
              "      <td>0</td>\n",
              "      <td>0</td>\n",
              "      <td>0</td>\n",
              "      <td>0</td>\n",
              "      <td>0</td>\n",
              "      <td>0</td>\n",
              "      <td>0</td>\n",
              "      <td>0</td>\n",
              "      <td>0</td>\n",
              "      <td>0</td>\n",
              "      <td>0</td>\n",
              "      <td>0</td>\n",
              "      <td>0</td>\n",
              "      <td>0</td>\n",
              "      <td>0</td>\n",
              "      <td>0</td>\n",
              "      <td>0</td>\n",
              "      <td>0</td>\n",
              "      <td>0</td>\n",
              "      <td>0</td>\n",
              "      <td>0</td>\n",
              "      <td>0</td>\n",
              "      <td>0</td>\n",
              "      <td>1</td>\n",
              "      <td>0</td>\n",
              "      <td>0</td>\n",
              "      <td>0</td>\n",
              "      <td>0</td>\n",
              "      <td>0</td>\n",
              "      <td>0</td>\n",
              "      <td>1</td>\n",
              "      <td>0</td>\n",
              "      <td>0</td>\n",
              "      <td>0</td>\n",
              "      <td>0</td>\n",
              "      <td>0</td>\n",
              "      <td>0</td>\n",
              "      <td>0</td>\n",
              "      <td>0</td>\n",
              "      <td>0</td>\n",
              "    </tr>\n",
              "    <tr>\n",
              "      <th>2</th>\n",
              "      <td>0</td>\n",
              "      <td>1</td>\n",
              "      <td>0</td>\n",
              "      <td>0</td>\n",
              "      <td>0</td>\n",
              "      <td>0</td>\n",
              "      <td>0</td>\n",
              "      <td>0</td>\n",
              "      <td>0</td>\n",
              "      <td>0</td>\n",
              "      <td>0</td>\n",
              "      <td>0</td>\n",
              "      <td>1</td>\n",
              "      <td>0</td>\n",
              "      <td>0</td>\n",
              "      <td>0</td>\n",
              "      <td>0</td>\n",
              "      <td>0</td>\n",
              "      <td>0</td>\n",
              "      <td>0</td>\n",
              "      <td>0</td>\n",
              "      <td>0</td>\n",
              "      <td>0</td>\n",
              "      <td>0</td>\n",
              "      <td>0</td>\n",
              "      <td>0</td>\n",
              "      <td>0</td>\n",
              "      <td>0</td>\n",
              "      <td>1</td>\n",
              "      <td>0</td>\n",
              "      <td>0</td>\n",
              "      <td>0</td>\n",
              "      <td>0</td>\n",
              "      <td>0</td>\n",
              "      <td>0</td>\n",
              "      <td>0</td>\n",
              "      <td>0</td>\n",
              "      <td>0</td>\n",
              "      <td>0</td>\n",
              "      <td>0</td>\n",
              "      <td>0</td>\n",
              "      <td>0</td>\n",
              "      <td>0</td>\n",
              "      <td>1</td>\n",
              "      <td>0</td>\n",
              "      <td>0</td>\n",
              "      <td>0</td>\n",
              "      <td>0</td>\n",
              "      <td>0</td>\n",
              "      <td>0</td>\n",
              "      <td>0</td>\n",
              "      <td>0</td>\n",
              "      <td>0</td>\n",
              "      <td>0</td>\n",
              "      <td>0</td>\n",
              "      <td>0</td>\n",
              "      <td>0</td>\n",
              "      <td>0</td>\n",
              "      <td>0</td>\n",
              "      <td>0</td>\n",
              "      <td>0</td>\n",
              "      <td>0</td>\n",
              "      <td>0</td>\n",
              "      <td>0</td>\n",
              "      <td>0</td>\n",
              "      <td>0</td>\n",
              "      <td>0</td>\n",
              "      <td>0</td>\n",
              "      <td>0</td>\n",
              "      <td>0</td>\n",
              "    </tr>\n",
              "    <tr>\n",
              "      <th>3</th>\n",
              "      <td>0</td>\n",
              "      <td>1</td>\n",
              "      <td>0</td>\n",
              "      <td>0</td>\n",
              "      <td>0</td>\n",
              "      <td>0</td>\n",
              "      <td>0</td>\n",
              "      <td>0</td>\n",
              "      <td>0</td>\n",
              "      <td>0</td>\n",
              "      <td>1</td>\n",
              "      <td>0</td>\n",
              "      <td>0</td>\n",
              "      <td>0</td>\n",
              "      <td>0</td>\n",
              "      <td>0</td>\n",
              "      <td>0</td>\n",
              "      <td>0</td>\n",
              "      <td>0</td>\n",
              "      <td>0</td>\n",
              "      <td>0</td>\n",
              "      <td>0</td>\n",
              "      <td>0</td>\n",
              "      <td>0</td>\n",
              "      <td>0</td>\n",
              "      <td>0</td>\n",
              "      <td>0</td>\n",
              "      <td>0</td>\n",
              "      <td>0</td>\n",
              "      <td>0</td>\n",
              "      <td>0</td>\n",
              "      <td>0</td>\n",
              "      <td>0</td>\n",
              "      <td>0</td>\n",
              "      <td>0</td>\n",
              "      <td>0</td>\n",
              "      <td>0</td>\n",
              "      <td>0</td>\n",
              "      <td>0</td>\n",
              "      <td>0</td>\n",
              "      <td>0</td>\n",
              "      <td>0</td>\n",
              "      <td>0</td>\n",
              "      <td>0</td>\n",
              "      <td>0</td>\n",
              "      <td>0</td>\n",
              "      <td>0</td>\n",
              "      <td>0</td>\n",
              "      <td>0</td>\n",
              "      <td>0</td>\n",
              "      <td>0</td>\n",
              "      <td>0</td>\n",
              "      <td>0</td>\n",
              "      <td>0</td>\n",
              "      <td>0</td>\n",
              "      <td>0</td>\n",
              "      <td>0</td>\n",
              "      <td>0</td>\n",
              "      <td>0</td>\n",
              "      <td>0</td>\n",
              "      <td>0</td>\n",
              "      <td>0</td>\n",
              "      <td>0</td>\n",
              "      <td>0</td>\n",
              "      <td>1</td>\n",
              "      <td>0</td>\n",
              "      <td>0</td>\n",
              "      <td>0</td>\n",
              "      <td>0</td>\n",
              "      <td>0</td>\n",
              "    </tr>\n",
              "    <tr>\n",
              "      <th>4</th>\n",
              "      <td>0</td>\n",
              "      <td>1</td>\n",
              "      <td>0</td>\n",
              "      <td>0</td>\n",
              "      <td>0</td>\n",
              "      <td>0</td>\n",
              "      <td>0</td>\n",
              "      <td>0</td>\n",
              "      <td>0</td>\n",
              "      <td>0</td>\n",
              "      <td>1</td>\n",
              "      <td>0</td>\n",
              "      <td>0</td>\n",
              "      <td>0</td>\n",
              "      <td>0</td>\n",
              "      <td>0</td>\n",
              "      <td>0</td>\n",
              "      <td>0</td>\n",
              "      <td>0</td>\n",
              "      <td>0</td>\n",
              "      <td>0</td>\n",
              "      <td>0</td>\n",
              "      <td>0</td>\n",
              "      <td>0</td>\n",
              "      <td>0</td>\n",
              "      <td>0</td>\n",
              "      <td>0</td>\n",
              "      <td>0</td>\n",
              "      <td>0</td>\n",
              "      <td>0</td>\n",
              "      <td>1</td>\n",
              "      <td>0</td>\n",
              "      <td>0</td>\n",
              "      <td>0</td>\n",
              "      <td>0</td>\n",
              "      <td>0</td>\n",
              "      <td>0</td>\n",
              "      <td>0</td>\n",
              "      <td>0</td>\n",
              "      <td>0</td>\n",
              "      <td>0</td>\n",
              "      <td>0</td>\n",
              "      <td>0</td>\n",
              "      <td>0</td>\n",
              "      <td>1</td>\n",
              "      <td>0</td>\n",
              "      <td>0</td>\n",
              "      <td>0</td>\n",
              "      <td>0</td>\n",
              "      <td>0</td>\n",
              "      <td>0</td>\n",
              "      <td>0</td>\n",
              "      <td>0</td>\n",
              "      <td>0</td>\n",
              "      <td>0</td>\n",
              "      <td>0</td>\n",
              "      <td>0</td>\n",
              "      <td>0</td>\n",
              "      <td>0</td>\n",
              "      <td>0</td>\n",
              "      <td>0</td>\n",
              "      <td>0</td>\n",
              "      <td>0</td>\n",
              "      <td>0</td>\n",
              "      <td>0</td>\n",
              "      <td>0</td>\n",
              "      <td>0</td>\n",
              "      <td>0</td>\n",
              "      <td>0</td>\n",
              "      <td>0</td>\n",
              "    </tr>\n",
              "  </tbody>\n",
              "</table>\n",
              "</div>"
            ],
            "text/plain": [
              "   show_type__Gaming  show_type__Película  ...  cat_Político  cat_Infantil\n",
              "0                  0                    0  ...             0             0\n",
              "1                  0                    1  ...             0             0\n",
              "2                  0                    1  ...             0             0\n",
              "3                  0                    1  ...             0             0\n",
              "4                  0                    1  ...             0             0\n",
              "\n",
              "[5 rows x 70 columns]"
            ]
          },
          "metadata": {
            "tags": []
          },
          "execution_count": 28
        }
      ]
    },
    {
      "cell_type": "markdown",
      "metadata": {
        "id": "TRU_u608Kl4N"
      },
      "source": [
        "El dataset se redujo considerablemente"
      ]
    },
    {
      "cell_type": "code",
      "metadata": {
        "colab": {
          "base_uri": "https://localhost:8080/"
        },
        "id": "QZMCi4WKMUFt",
        "outputId": "072f3c00-7f9b-4970-fab3-1247b3089cb6"
      },
      "source": [
        "df_complete_2.shape"
      ],
      "execution_count": null,
      "outputs": [
        {
          "output_type": "execute_result",
          "data": {
            "text/plain": [
              "(4366, 70)"
            ]
          },
          "metadata": {
            "tags": []
          },
          "execution_count": 29
        }
      ]
    },
    {
      "cell_type": "markdown",
      "metadata": {
        "id": "paowOG0XMRGd"
      },
      "source": [
        "# **KNN Content-Based Recommender**"
      ]
    },
    {
      "cell_type": "markdown",
      "metadata": {
        "id": "TE2imYy9LWR0"
      },
      "source": [
        "Nearest Neighbours es un modelo de machine learning no supervisado puede determinar asociaciones de 1 elemento con otros k elementos pertenecientes a un mismo conjunto, con la metrica \"similitud del coseno\", la cual depende del coseno del angulo entre 2 vectores (esos vectores son los atributos codificados de los contenidos).\n",
        "\n",
        "Cuando el angulo entre los vectores se aproxima a cero, querie decir que los vectores son \"similares\", si se aproxima a 180, quiere decir que los vectores son opuestos o \"no similares\""
      ]
    },
    {
      "cell_type": "code",
      "metadata": {
        "id": "L-_ulVFRMSGP"
      },
      "source": [
        "from sklearn.neighbors import NearestNeighbors"
      ],
      "execution_count": null,
      "outputs": []
    },
    {
      "cell_type": "code",
      "metadata": {
        "id": "z0ZRrt_0MXoY"
      },
      "source": [
        "knn = NearestNeighbors(n_neighbors=40,metric='cosine')"
      ],
      "execution_count": null,
      "outputs": []
    },
    {
      "cell_type": "code",
      "metadata": {
        "colab": {
          "base_uri": "https://localhost:8080/"
        },
        "id": "qUeQoHv_MZOX",
        "outputId": "6a5a85a7-83be-4a45-cd30-e47371c4be42"
      },
      "source": [
        "knn.fit(df_complete_2)"
      ],
      "execution_count": null,
      "outputs": [
        {
          "output_type": "execute_result",
          "data": {
            "text/plain": [
              "NearestNeighbors(algorithm='auto', leaf_size=30, metric='cosine',\n",
              "                 metric_params=None, n_jobs=None, n_neighbors=40, p=2,\n",
              "                 radius=1.0)"
            ]
          },
          "metadata": {
            "tags": []
          },
          "execution_count": 32
        }
      ]
    },
    {
      "cell_type": "code",
      "metadata": {
        "id": "vo4IH5Y9McU1"
      },
      "source": [
        "distances,indecies = knn.kneighbors(df_complete_2)"
      ],
      "execution_count": null,
      "outputs": []
    },
    {
      "cell_type": "markdown",
      "metadata": {
        "id": "3QTRjay7NN1_"
      },
      "source": [
        "Funcion para consultar el historial del usuario, naturalmente voy a empezar a predecir con el contenido que tenga mas tiempo \"invertido\", porque es el que parece mas acuerdo a los gustos del usuario."
      ]
    },
    {
      "cell_type": "code",
      "metadata": {
        "colab": {
          "base_uri": "https://localhost:8080/",
          "height": 204
        },
        "id": "NY045bv-qKfo",
        "outputId": "d53360a1-db68-453b-c866-a777a09b2e04"
      },
      "source": [
        "df_train = pd.read_csv(\"/content/drive/MyDrive/datathon_2021_sr/df_train.csv\")\n",
        "df_train = df_train[[\"account_id\",\"content_id\",\"minutes\"]]\n",
        "df_train.head()"
      ],
      "execution_count": null,
      "outputs": [
        {
          "output_type": "execute_result",
          "data": {
            "text/html": [
              "<div>\n",
              "<style scoped>\n",
              "    .dataframe tbody tr th:only-of-type {\n",
              "        vertical-align: middle;\n",
              "    }\n",
              "\n",
              "    .dataframe tbody tr th {\n",
              "        vertical-align: top;\n",
              "    }\n",
              "\n",
              "    .dataframe thead th {\n",
              "        text-align: right;\n",
              "    }\n",
              "</style>\n",
              "<table border=\"1\" class=\"dataframe\">\n",
              "  <thead>\n",
              "    <tr style=\"text-align: right;\">\n",
              "      <th></th>\n",
              "      <th>account_id</th>\n",
              "      <th>content_id</th>\n",
              "      <th>minutes</th>\n",
              "    </tr>\n",
              "  </thead>\n",
              "  <tbody>\n",
              "    <tr>\n",
              "      <th>0</th>\n",
              "      <td>0</td>\n",
              "      <td>1503.0</td>\n",
              "      <td>128.0</td>\n",
              "    </tr>\n",
              "    <tr>\n",
              "      <th>1</th>\n",
              "      <td>0</td>\n",
              "      <td>2866.0</td>\n",
              "      <td>65.0</td>\n",
              "    </tr>\n",
              "    <tr>\n",
              "      <th>2</th>\n",
              "      <td>0</td>\n",
              "      <td>3438.0</td>\n",
              "      <td>79.0</td>\n",
              "    </tr>\n",
              "    <tr>\n",
              "      <th>3</th>\n",
              "      <td>0</td>\n",
              "      <td>3498.0</td>\n",
              "      <td>16.0</td>\n",
              "    </tr>\n",
              "    <tr>\n",
              "      <th>4</th>\n",
              "      <td>0</td>\n",
              "      <td>3845.0</td>\n",
              "      <td>48.0</td>\n",
              "    </tr>\n",
              "  </tbody>\n",
              "</table>\n",
              "</div>"
            ],
            "text/plain": [
              "   account_id  content_id  minutes\n",
              "0           0      1503.0    128.0\n",
              "1           0      2866.0     65.0\n",
              "2           0      3438.0     79.0\n",
              "3           0      3498.0     16.0\n",
              "4           0      3845.0     48.0"
            ]
          },
          "metadata": {
            "tags": []
          },
          "execution_count": 95
        }
      ]
    },
    {
      "cell_type": "code",
      "metadata": {
        "id": "Meis0r6JQcFk"
      },
      "source": [
        "def contents_per_account_id(account_id):\n",
        "  mask = df_train[\"account_id\"] == account_id\n",
        "  df_ = df_train.loc[mask].copy()\n",
        "  df_.sort_values(by=\"minutes\",ascending=False, inplace=True)\n",
        "  contents = df_[\"content_id\"]\n",
        "  contents = contents.tolist()\n",
        "  return contents"
      ],
      "execution_count": null,
      "outputs": []
    },
    {
      "cell_type": "code",
      "metadata": {
        "id": "BtcGMfnpMfsd"
      },
      "source": [
        "def get_recommendation(account_id):\n",
        "    recommendations_list = []\n",
        "    #Historial del usuario\n",
        "    contents = contents_per_account_id(account_id)\n",
        "    n = 0\n",
        "    for c in contents:\n",
        "      if n < 20:\n",
        "        index = np.where(df_complete_2.index == c)\n",
        "        a = np.array(index)\n",
        "        if a.size > 0:\n",
        "          neighbours =  indecies[index].tolist()[0] #Prediccion de contenidos similaraes                                                         \n",
        "          neighbours_distances =  distances[index].tolist()[0]\n",
        "          index_neighbour = 0\n",
        "          for neighbour in neighbours:\n",
        "            #Solo puedo predecir hasta 20 contenidos y no pueden ser parte del historial del usuario, ademas, la distancia entre el historial y \n",
        "            #las recomendaciones deben ser menor a un umbral para garantizar similitud \n",
        "            if (n < 20) and (neighbour not in contents) and (neighbours_distances[index_neighbour] < 0.15):\n",
        "              recommendations_list.append(int(neighbour))\n",
        "              n += 1\n",
        "            index_neighbour += 1\n",
        "    recommendations_list.sort()\n",
        "    recommendations = \"\"\n",
        "    recommendations += \"[\"\n",
        "    if len(recommendations_list) > 0:\n",
        "      for r in recommendations_list:\n",
        "        recommendations += str(int(r))+\",\"\n",
        "      recommendations = recommendations[0:-1]\n",
        "    recommendations += \"]\"\n",
        "    return recommendations"
      ],
      "execution_count": null,
      "outputs": []
    },
    {
      "cell_type": "code",
      "metadata": {
        "colab": {
          "base_uri": "https://localhost:8080/",
          "height": 35
        },
        "id": "e7qTijvlNHVN",
        "outputId": "d23bf5aa-53fe-4818-e277-919f290e58b3"
      },
      "source": [
        "get_recommendation(0)"
      ],
      "execution_count": null,
      "outputs": [
        {
          "output_type": "execute_result",
          "data": {
            "application/vnd.google.colaboratory.intrinsic+json": {
              "type": "string"
            },
            "text/plain": [
              "'[945,1214,1577,1614,2684,2691,2693,2699,2705,2802,2862,2868,3135,3187,3439,3488,3544,3562,3946,4091]'"
            ]
          },
          "metadata": {
            "tags": []
          },
          "execution_count": 98
        }
      ]
    },
    {
      "cell_type": "markdown",
      "metadata": {
        "id": "C0OsdVITOIYe"
      },
      "source": [
        "Dataframe que contiene los distintos accounts_ids"
      ]
    },
    {
      "cell_type": "code",
      "metadata": {
        "colab": {
          "base_uri": "https://localhost:8080/",
          "height": 204
        },
        "id": "PDeVv_3zVr0G",
        "outputId": "74434558-fb6b-4f85-b02a-720391ba1c7c"
      },
      "source": [
        "df_accounts = df_train[\"account_id\"].copy()\n",
        "df_accounts = pd.DataFrame(df_accounts, columns=[\"account_id\"])\n",
        "df_accounts.drop_duplicates(inplace=True)\n",
        "df_accounts.reset_index(drop=True, inplace=True)\n",
        "df_accounts.head()"
      ],
      "execution_count": null,
      "outputs": [
        {
          "output_type": "execute_result",
          "data": {
            "text/html": [
              "<div>\n",
              "<style scoped>\n",
              "    .dataframe tbody tr th:only-of-type {\n",
              "        vertical-align: middle;\n",
              "    }\n",
              "\n",
              "    .dataframe tbody tr th {\n",
              "        vertical-align: top;\n",
              "    }\n",
              "\n",
              "    .dataframe thead th {\n",
              "        text-align: right;\n",
              "    }\n",
              "</style>\n",
              "<table border=\"1\" class=\"dataframe\">\n",
              "  <thead>\n",
              "    <tr style=\"text-align: right;\">\n",
              "      <th></th>\n",
              "      <th>account_id</th>\n",
              "    </tr>\n",
              "  </thead>\n",
              "  <tbody>\n",
              "    <tr>\n",
              "      <th>0</th>\n",
              "      <td>0</td>\n",
              "    </tr>\n",
              "    <tr>\n",
              "      <th>1</th>\n",
              "      <td>1</td>\n",
              "    </tr>\n",
              "    <tr>\n",
              "      <th>2</th>\n",
              "      <td>2</td>\n",
              "    </tr>\n",
              "    <tr>\n",
              "      <th>3</th>\n",
              "      <td>3</td>\n",
              "    </tr>\n",
              "    <tr>\n",
              "      <th>4</th>\n",
              "      <td>4</td>\n",
              "    </tr>\n",
              "  </tbody>\n",
              "</table>\n",
              "</div>"
            ],
            "text/plain": [
              "   account_id\n",
              "0           0\n",
              "1           1\n",
              "2           2\n",
              "3           3\n",
              "4           4"
            ]
          },
          "metadata": {
            "tags": []
          },
          "execution_count": 99
        }
      ]
    },
    {
      "cell_type": "code",
      "metadata": {
        "colab": {
          "base_uri": "https://localhost:8080/"
        },
        "id": "v1wGgWMwjJSO",
        "outputId": "fef1b8cb-1ba5-49ef-ad5f-82edd2dec13b"
      },
      "source": [
        "df_accounts.shape"
      ],
      "execution_count": null,
      "outputs": [
        {
          "output_type": "execute_result",
          "data": {
            "text/plain": [
              "(113881, 1)"
            ]
          },
          "metadata": {
            "tags": []
          },
          "execution_count": 100
        }
      ]
    },
    {
      "cell_type": "markdown",
      "metadata": {
        "id": "uYIUenZoOM0K"
      },
      "source": [
        "Prediccion de recomendaciones"
      ]
    },
    {
      "cell_type": "code",
      "metadata": {
        "id": "yxzYMrVZV4e9"
      },
      "source": [
        "df_accounts[\"reccomendations\"] = df_accounts[\"account_id\"].apply(get_recommendation)"
      ],
      "execution_count": null,
      "outputs": []
    },
    {
      "cell_type": "code",
      "metadata": {
        "colab": {
          "base_uri": "https://localhost:8080/",
          "height": 204
        },
        "id": "Y8Vj4ORwdm55",
        "outputId": "2abb563a-5405-477d-ed45-1e989525d98b"
      },
      "source": [
        "df_accounts.head()"
      ],
      "execution_count": null,
      "outputs": [
        {
          "output_type": "execute_result",
          "data": {
            "text/html": [
              "<div>\n",
              "<style scoped>\n",
              "    .dataframe tbody tr th:only-of-type {\n",
              "        vertical-align: middle;\n",
              "    }\n",
              "\n",
              "    .dataframe tbody tr th {\n",
              "        vertical-align: top;\n",
              "    }\n",
              "\n",
              "    .dataframe thead th {\n",
              "        text-align: right;\n",
              "    }\n",
              "</style>\n",
              "<table border=\"1\" class=\"dataframe\">\n",
              "  <thead>\n",
              "    <tr style=\"text-align: right;\">\n",
              "      <th></th>\n",
              "      <th>account_id</th>\n",
              "      <th>reccomendations</th>\n",
              "    </tr>\n",
              "  </thead>\n",
              "  <tbody>\n",
              "    <tr>\n",
              "      <th>0</th>\n",
              "      <td>0</td>\n",
              "      <td>[945,1214,1577,1614,2684,2691,2693,2699,2705,2...</td>\n",
              "    </tr>\n",
              "    <tr>\n",
              "      <th>1</th>\n",
              "      <td>1</td>\n",
              "      <td>[75,115,121,284,917,1619,2091,2141,2165,2170,2...</td>\n",
              "    </tr>\n",
              "    <tr>\n",
              "      <th>2</th>\n",
              "      <td>2</td>\n",
              "      <td>[113,176,290,384,1537,1877,1897,2045,2097,2164...</td>\n",
              "    </tr>\n",
              "    <tr>\n",
              "      <th>3</th>\n",
              "      <td>3</td>\n",
              "      <td>[98,126,785,853,1376,1513,1656,1657,1658,1659,...</td>\n",
              "    </tr>\n",
              "    <tr>\n",
              "      <th>4</th>\n",
              "      <td>4</td>\n",
              "      <td>[75,115,121,284,917,1020,1619,2032,2091,2165,2...</td>\n",
              "    </tr>\n",
              "  </tbody>\n",
              "</table>\n",
              "</div>"
            ],
            "text/plain": [
              "   account_id                                    reccomendations\n",
              "0           0  [945,1214,1577,1614,2684,2691,2693,2699,2705,2...\n",
              "1           1  [75,115,121,284,917,1619,2091,2141,2165,2170,2...\n",
              "2           2  [113,176,290,384,1537,1877,1897,2045,2097,2164...\n",
              "3           3  [98,126,785,853,1376,1513,1656,1657,1658,1659,...\n",
              "4           4  [75,115,121,284,917,1020,1619,2032,2091,2165,2..."
            ]
          },
          "metadata": {
            "tags": []
          },
          "execution_count": 102
        }
      ]
    },
    {
      "cell_type": "code",
      "metadata": {
        "colab": {
          "base_uri": "https://localhost:8080/"
        },
        "id": "c9-C3Wlx8EHf",
        "outputId": "02e10510-c15f-43ef-dbe3-a2b5750b3aef"
      },
      "source": [
        "df_accounts.isnull().sum()"
      ],
      "execution_count": null,
      "outputs": [
        {
          "output_type": "execute_result",
          "data": {
            "text/plain": [
              "account_id         0\n",
              "reccomendations    0\n",
              "dtype: int64"
            ]
          },
          "metadata": {
            "tags": []
          },
          "execution_count": 103
        }
      ]
    },
    {
      "cell_type": "code",
      "metadata": {
        "colab": {
          "base_uri": "https://localhost:8080/"
        },
        "id": "7pTQPtVRdqp_",
        "outputId": "fdeb9cb2-8e37-4684-b436-2fa2f7ec91e0"
      },
      "source": [
        "df_accounts.shape"
      ],
      "execution_count": null,
      "outputs": [
        {
          "output_type": "execute_result",
          "data": {
            "text/plain": [
              "(113881, 2)"
            ]
          },
          "metadata": {
            "tags": []
          },
          "execution_count": 104
        }
      ]
    },
    {
      "cell_type": "code",
      "metadata": {
        "id": "x7oeTwgL8JW6"
      },
      "source": [
        "df_accounts.to_csv(\"/content/drive/MyDrive/datathon_2021_sr/df_submit.csv\",header=None,index=False)"
      ],
      "execution_count": null,
      "outputs": []
    }
  ]
}